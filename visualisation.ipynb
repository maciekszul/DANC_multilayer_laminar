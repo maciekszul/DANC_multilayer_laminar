{
 "cells": [
  {
   "cell_type": "code",
   "execution_count": 5,
   "id": "81c5b681-51bb-4a77-8d76-4559ff907498",
   "metadata": {},
   "outputs": [],
   "source": [
    "import numpy as np\n",
    "import trimesh\n",
    "import slam.io as sio\n",
    "import visbrain"
   ]
  },
  {
   "cell_type": "code",
   "execution_count": 2,
   "id": "2ec04840-9619-44e9-b3af-e8f3a2904be1",
   "metadata": {},
   "outputs": [],
   "source": [
    "path = \"/home/common/bonaiuto/cued_action_meg/derivatives/processed/sub-001/fs/surf/0.9.gii\""
   ]
  },
  {
   "cell_type": "code",
   "execution_count": 3,
   "id": "b1689d67-49d8-4ca8-9afd-33061d946321",
   "metadata": {},
   "outputs": [],
   "source": [
    "layer = sio.load_mesh(path)"
   ]
  },
  {
   "cell_type": "code",
   "execution_count": 6,
   "id": "e5c3cc77-3659-4c4a-82ac-a4fdc9106340",
   "metadata": {},
   "outputs": [
    {
     "data": {
      "text/plain": [
       "<trimesh.Trimesh(vertices.shape=(335926, 3), faces.shape=(671844, 3))>"
      ]
     },
     "execution_count": 6,
     "metadata": {},
     "output_type": "execute_result"
    }
   ],
   "source": [
    "layer"
   ]
  }
 ],
 "metadata": {
  "kernelspec": {
   "display_name": "Python 3",
   "language": "python",
   "name": "python3"
  },
  "language_info": {
   "codemirror_mode": {
    "name": "ipython",
    "version": 3
   },
   "file_extension": ".py",
   "mimetype": "text/x-python",
   "name": "python",
   "nbconvert_exporter": "python",
   "pygments_lexer": "ipython3",
   "version": "3.6.13"
  }
 },
 "nbformat": 4,
 "nbformat_minor": 5
}
