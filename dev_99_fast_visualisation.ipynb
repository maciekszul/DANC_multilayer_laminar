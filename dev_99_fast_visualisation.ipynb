{
 "cells": [
  {
   "cell_type": "code",
   "execution_count": 190,
   "id": "f05f7ea1",
   "metadata": {},
   "outputs": [],
   "source": [
    "import io\n",
    "import numpy as np\n",
    "import pandas as pd\n",
    "import nibabel as nb\n",
    "import trimesh\n",
    "from PIL import Image\n",
    "from sklearn import neighbors\n",
    "import trimesh\n",
    "import math\n",
    "import open3d as o3d\n",
    "from freesurfer_tools import transform_atlas"
   ]
  },
  {
   "cell_type": "code",
   "execution_count": 130,
   "id": "13c99f8e",
   "metadata": {},
   "outputs": [],
   "source": [
    "annot_paths = [\n",
    "    \"/home/mszul/git/DANC_multilayer_laminar/assets/lh.HCPMMP1.annot\",\n",
    "    \"/home/mszul/git/DANC_multilayer_laminar/assets/rh.HCPMMP1.annot\"\n",
    "]\n",
    "fsavg_sphere_paths = [\n",
    "    \"/home/mszul/git/DANC_multilayer_laminar/assets/lh.sphere.reg.gii\",\n",
    "    \"/home/mszul/git/DANC_multilayer_laminar/assets/rh.sphere.reg.gii\"\n",
    "]\n",
    "fsnat_sphere_paths = [\n",
    "    \"/home/common/bonaiuto/cued_action_meg/derivatives/processed/sub-001/fs/surf/lh.sphere.reg.gii\",\n",
    "    \"/home/common/bonaiuto/cued_action_meg/derivatives/processed/sub-001/fs/surf/rh.sphere.reg.gii\"\n",
    "]\n",
    "pial_path = \"/home/common/bonaiuto/cued_action_meg/derivatives/processed/sub-001/fs/surf/pial.gii\"\n",
    "pial_ds_path = \"/home/common/bonaiuto/cued_action_meg/derivatives/processed/sub-001/fs/surf/pial.ds.gii\"\n",
    "pial_ds_nodeep = \"/home/common/bonaiuto/cued_action_meg/derivatives/processed/sub-001/fs/surf/pial.ds.link_vector.nodeep.gii\"\n",
    "pial_ds_inflated = \"/home/common/bonaiuto/cued_action_meg/derivatives/processed/sub-001/fs/surf/pial.ds.inflated.nodeep.gii\"\n",
    "glasser = \"/home/mszul/git/DANC_multilayer_laminar/assets/atlas_glasser_2016.csv\""
   ]
  },
  {
   "cell_type": "code",
   "execution_count": 193,
   "id": "52ade59d",
   "metadata": {},
   "outputs": [
    {
     "name": "stdout",
     "output_type": "stream",
     "text": [
      "['L_V1_ROI' 'L_MST_ROI' 'L_V6_ROI' 'L_V2_ROI' 'L_V3_ROI' 'L_V4_ROI'\n",
      " 'L_V8_ROI' 'L_4_ROI' 'L_3b_ROI' 'L_FEF_ROI' 'L_PEF_ROI' 'L_55b_ROI'\n",
      " 'L_V3A_ROI' 'L_RSC_ROI' 'L_POS2_ROI' 'L_V7_ROI' 'L_IPS1_ROI' 'L_FFC_ROI'\n",
      " 'L_V3B_ROI' 'L_LO1_ROI' 'L_LO2_ROI' 'L_PIT_ROI' 'L_MT_ROI' 'L_A1_ROI'\n",
      " 'L_PSL_ROI' 'L_SFL_ROI' 'L_PCV_ROI' 'L_STV_ROI' 'L_7Pm_ROI' 'L_7m_ROI'\n",
      " 'L_POS1_ROI' 'L_23d_ROI' 'L_v23ab_ROI' 'L_d23ab_ROI' 'L_31pv_ROI'\n",
      " 'L_5m_ROI' 'L_5mv_ROI' 'L_23c_ROI' 'L_5L_ROI' 'L_24dd_ROI' 'L_24dv_ROI'\n",
      " 'L_7AL_ROI' 'L_SCEF_ROI' 'L_6ma_ROI' 'L_7Am_ROI' 'L_7PL_ROI' 'L_7PC_ROI'\n",
      " 'L_LIPv_ROI' 'L_VIP_ROI' 'L_MIP_ROI' 'L_1_ROI' 'L_2_ROI' 'L_3a_ROI'\n",
      " 'L_6d_ROI' 'L_6mp_ROI' 'L_6v_ROI' 'L_p24pr_ROI' 'L_33pr_ROI'\n",
      " 'L_a24pr_ROI' 'L_p32pr_ROI' 'L_a24_ROI' 'L_d32_ROI' 'L_8BM_ROI'\n",
      " 'L_p32_ROI' 'L_10r_ROI' 'L_47m_ROI' 'L_8Av_ROI' 'L_8Ad_ROI' 'L_9m_ROI'\n",
      " 'L_8BL_ROI' 'L_9p_ROI' 'L_10d_ROI' 'L_8C_ROI' 'L_44_ROI' 'L_45_ROI'\n",
      " 'L_47l_ROI' 'L_a47r_ROI' 'L_6r_ROI' 'L_IFJa_ROI' 'L_IFJp_ROI'\n",
      " 'L_IFSp_ROI' 'L_IFSa_ROI' 'L_p9-46v_ROI' 'L_46_ROI' 'L_a9-46v_ROI'\n",
      " 'L_9-46d_ROI' 'L_9a_ROI' 'L_10v_ROI' 'L_a10p_ROI' 'L_10pp_ROI'\n",
      " 'L_11l_ROI' 'L_13l_ROI' 'L_OFC_ROI' 'L_47s_ROI' 'L_LIPd_ROI' 'L_6a_ROI'\n",
      " 'L_i6-8_ROI' 'L_s6-8_ROI' 'L_43_ROI' 'L_OP4_ROI' 'L_OP1_ROI'\n",
      " 'L_OP2-3_ROI' 'L_52_ROI' 'L_RI_ROI' 'L_PFcm_ROI' 'L_PoI2_ROI' 'L_TA2_ROI'\n",
      " 'L_FOP4_ROI' 'L_MI_ROI' 'L_Pir_ROI' 'L_AVI_ROI' 'L_AAIC_ROI' 'L_FOP1_ROI'\n",
      " 'L_FOP3_ROI' 'L_FOP2_ROI' 'L_PFt_ROI' 'L_AIP_ROI' 'L_EC_ROI' 'L_PreS_ROI'\n",
      " 'L_H_ROI' 'L_ProS_ROI' 'L_PeEc_ROI' 'L_STGa_ROI' 'L_PBelt_ROI' 'L_A5_ROI'\n",
      " 'L_PHA1_ROI' 'L_PHA3_ROI' 'L_STSda_ROI' 'L_STSdp_ROI' 'L_STSvp_ROI'\n",
      " 'L_TGd_ROI' 'L_TE1a_ROI' 'L_TE1p_ROI' 'L_TE2a_ROI' 'L_TF_ROI'\n",
      " 'L_TE2p_ROI' 'L_PHT_ROI' 'L_PH_ROI' 'L_TPOJ1_ROI' 'L_TPOJ2_ROI'\n",
      " 'L_TPOJ3_ROI' 'L_DVT_ROI' 'L_PGp_ROI' 'L_IP2_ROI' 'L_IP1_ROI' 'L_IP0_ROI'\n",
      " 'L_PFop_ROI' 'L_PF_ROI' 'L_PFm_ROI' 'L_PGi_ROI' 'L_PGs_ROI' 'L_V6A_ROI'\n",
      " 'L_VMV1_ROI' 'L_VMV3_ROI' 'L_PHA2_ROI' 'L_V4t_ROI' 'L_FST_ROI'\n",
      " 'L_V3CD_ROI' 'L_LO3_ROI' 'L_VMV2_ROI' 'L_31pd_ROI' 'L_31a_ROI'\n",
      " 'L_VVC_ROI' 'L_25_ROI' 'L_s32_ROI' 'L_pOFC_ROI' 'L_PoI1_ROI' 'L_Ig_ROI'\n",
      " 'L_FOP5_ROI' 'L_p10p_ROI' 'L_p47r_ROI' 'L_TGv_ROI' 'L_MBelt_ROI'\n",
      " 'L_LBelt_ROI' 'L_A4_ROI' 'L_STSva_ROI' 'L_TE1m_ROI' 'L_PI_ROI'\n",
      " 'L_a32pr_ROI' 'L_p24_ROI' 'R_V1_ROI' 'R_MST_ROI' 'R_V6_ROI' 'R_V2_ROI'\n",
      " 'R_V3_ROI' 'R_V4_ROI' 'R_V8_ROI' 'R_4_ROI' 'R_3b_ROI' 'R_FEF_ROI'\n",
      " 'R_PEF_ROI' 'R_55b_ROI' 'R_V3A_ROI' 'R_RSC_ROI' 'R_POS2_ROI' 'R_V7_ROI'\n",
      " 'R_IPS1_ROI' 'R_FFC_ROI' 'R_V3B_ROI' 'R_LO1_ROI' 'R_LO2_ROI' 'R_PIT_ROI'\n",
      " 'R_MT_ROI' 'R_A1_ROI' 'R_PSL_ROI' 'R_SFL_ROI' 'R_PCV_ROI' 'R_STV_ROI'\n",
      " 'R_7Pm_ROI' 'R_7m_ROI' 'R_POS1_ROI' 'R_23d_ROI' 'R_v23ab_ROI'\n",
      " 'R_d23ab_ROI' 'R_31pv_ROI' 'R_5m_ROI' 'R_5mv_ROI' 'R_23c_ROI' 'R_5L_ROI'\n",
      " 'R_24dd_ROI' 'R_24dv_ROI' 'R_7AL_ROI' 'R_SCEF_ROI' 'R_6ma_ROI'\n",
      " 'R_7Am_ROI' 'R_7PL_ROI' 'R_7PC_ROI' 'R_LIPv_ROI' 'R_VIP_ROI' 'R_MIP_ROI'\n",
      " 'R_1_ROI' 'R_2_ROI' 'R_3a_ROI' 'R_6d_ROI' 'R_6mp_ROI' 'R_6v_ROI'\n",
      " 'R_p24pr_ROI' 'R_33pr_ROI' 'R_a24pr_ROI' 'R_p32pr_ROI' 'R_a24_ROI'\n",
      " 'R_d32_ROI' 'R_8BM_ROI' 'R_p32_ROI' 'R_10r_ROI' 'R_47m_ROI' 'R_8Av_ROI'\n",
      " 'R_8Ad_ROI' 'R_9m_ROI' 'R_8BL_ROI' 'R_9p_ROI' 'R_10d_ROI' 'R_8C_ROI'\n",
      " 'R_44_ROI' 'R_45_ROI' 'R_47l_ROI' 'R_a47r_ROI' 'R_6r_ROI' 'R_IFJa_ROI'\n",
      " 'R_IFJp_ROI' 'R_IFSp_ROI' 'R_IFSa_ROI' 'R_p9-46v_ROI' 'R_46_ROI'\n",
      " 'R_a9-46v_ROI' 'R_9-46d_ROI' 'R_9a_ROI' 'R_10v_ROI' 'R_a10p_ROI'\n",
      " 'R_10pp_ROI' 'R_11l_ROI' 'R_13l_ROI' 'R_OFC_ROI' 'R_47s_ROI' 'R_LIPd_ROI'\n",
      " 'R_6a_ROI' 'R_i6-8_ROI' 'R_s6-8_ROI' 'R_43_ROI' 'R_OP4_ROI' 'R_OP1_ROI'\n",
      " 'R_OP2-3_ROI' 'R_52_ROI' 'R_RI_ROI' 'R_PFcm_ROI' 'R_PoI2_ROI' 'R_TA2_ROI'\n",
      " 'R_FOP4_ROI' 'R_MI_ROI' 'R_Pir_ROI' 'R_AVI_ROI' 'R_AAIC_ROI' 'R_FOP1_ROI'\n",
      " 'R_FOP3_ROI' 'R_FOP2_ROI' 'R_PFt_ROI' 'R_AIP_ROI' 'R_EC_ROI' 'R_PreS_ROI'\n",
      " 'R_H_ROI' 'R_ProS_ROI' 'R_PeEc_ROI' 'R_STGa_ROI' 'R_PBelt_ROI' 'R_A5_ROI'\n",
      " 'R_PHA1_ROI' 'R_PHA3_ROI' 'R_STSda_ROI' 'R_STSdp_ROI' 'R_STSvp_ROI'\n",
      " 'R_TGd_ROI' 'R_TE1a_ROI' 'R_TE1p_ROI' 'R_TE2a_ROI' 'R_TF_ROI'\n",
      " 'R_TE2p_ROI' 'R_PHT_ROI' 'R_PH_ROI' 'R_TPOJ1_ROI' 'R_TPOJ2_ROI'\n",
      " 'R_TPOJ3_ROI' 'R_DVT_ROI' 'R_PGp_ROI' 'R_IP2_ROI' 'R_IP1_ROI' 'R_IP0_ROI'\n",
      " 'R_PFop_ROI' 'R_PF_ROI' 'R_PFm_ROI' 'R_PGi_ROI' 'R_PGs_ROI' 'R_V6A_ROI'\n",
      " 'R_VMV1_ROI' 'R_VMV3_ROI' 'R_PHA2_ROI' 'R_V4t_ROI' 'R_FST_ROI'\n",
      " 'R_V3CD_ROI' 'R_LO3_ROI' 'R_VMV2_ROI' 'R_31pd_ROI' 'R_31a_ROI'\n",
      " 'R_VVC_ROI' 'R_25_ROI' 'R_s32_ROI' 'R_pOFC_ROI' 'R_PoI1_ROI' 'R_Ig_ROI'\n",
      " 'R_FOP5_ROI' 'R_p10p_ROI' 'R_p47r_ROI' 'R_TGv_ROI' 'R_MBelt_ROI'\n",
      " 'R_LBelt_ROI' 'R_A4_ROI' 'R_STSva_ROI' 'R_TE1m_ROI' 'R_PI_ROI'\n",
      " 'R_a32pr_ROI' 'R_p24_ROI']\n"
     ]
    }
   ],
   "source": [
    "atlas = pd.read_csv(glasser)\n",
    "print(atlas.USED_LABEL.values)"
   ]
  },
  {
   "cell_type": "code",
   "execution_count": 2,
   "id": "8992a076",
   "metadata": {},
   "outputs": [],
   "source": [
    "ml_deep = nb.load(\"/home/common/bonaiuto/multiburst/derivatives/processed/sub-001/multilayer_11/multilayer_11.ds.gii\");\n",
    "ml_nodeep = nb.load(\"/home/common/bonaiuto/multiburst/derivatives/processed/sub-001/multilayer_11/multilayer_11.ds.link_vector.nodeep.gii\");"
   ]
  },
  {
   "cell_type": "code",
   "execution_count": 3,
   "id": "5a58ad5d",
   "metadata": {},
   "outputs": [],
   "source": [
    "n_surf = 11"
   ]
  },
  {
   "cell_type": "code",
   "execution_count": 23,
   "id": "f68ecfd2",
   "metadata": {},
   "outputs": [],
   "source": [
    "vertices, faces, normals = ml_nodeep.agg_data()\n",
    "vertices = np.split(vertices, n_surf, axis=0)\n",
    "faces = np.split(faces, n_surf, axis=0)\n",
    "normals = np.split(normals, n_surf, axis=0)"
   ]
  },
  {
   "cell_type": "code",
   "execution_count": 128,
   "id": "2eb83100",
   "metadata": {},
   "outputs": [],
   "source": [
    "# mesh = trimesh.Trimesh(vertices=vertices[0], faces=faces[0], normals=normals[0], process=True, validate=True)\n",
    "# mesh = mesh.as_open3d\n",
    "# mesh.compute_vertex_normals(normalized=True)\n",
    "# o3d.visualization.draw_geometries([mesh], mesh_show_back_face=True)"
   ]
  },
  {
   "cell_type": "code",
   "execution_count": 133,
   "id": "8fe30688",
   "metadata": {},
   "outputs": [],
   "source": [
    "mesh_colors, lab_col_map = transform_atlas(annot_paths, fsavg_sphere_paths, fsnat_sphere_paths, pial_path, pial_ds_path, pial_ds_nodeep)"
   ]
  },
  {
   "cell_type": "code",
   "execution_count": 170,
   "id": "38a70129",
   "metadata": {},
   "outputs": [],
   "source": [
    "# mesh = trimesh.Trimesh(vertices=vertices[0], faces=faces[0], normals=normals[0], process=False, validate=False)\n",
    "# modified_mesh_colors = [np.append(i[:3], 255) for i in mesh_colors]\n",
    "# mesh = mesh.as_open3d\n",
    "# mesh.vertex_colors = o3d.utility.Vector3dVector(np.array([i[:3]/256 for i in mesh_colors]))\n",
    "# mesh.compute_vertex_normals(normalized=True)\n",
    "# o3d.visualization.draw_geometries([mesh], mesh_show_back_face=True)"
   ]
  },
  {
   "cell_type": "code",
   "execution_count": 200,
   "id": "2e037f95",
   "metadata": {},
   "outputs": [],
   "source": [
    "target_labels = ['L_MT_ROI']\n",
    "ROI_maps = {i: [i == j.decode(\"utf=8\") for j in lab_col_map] for i in target_labels}\n",
    "n_surf = 11\n",
    "mesh_colors = np.array([i[:3]/256 for i in mesh_colors])\n",
    "layers_ROI = [trimesh.Trimesh(vertices=vertices[l], faces=faces[0], normals=normals[l], process=False, validate=False).as_open3d for l in range(n_surf)]\n",
    "for ix, mesh in enumerate(layers_ROI):\n",
    "    mesh.vertex_colors = o3d.utility.Vector3dVector(mesh_colors)\n",
    "    mesh.remove_vertices_by_mask(~np.array(ROI_maps['L_MT_ROI']))\n",
    "    mesh.compute_vertex_normals(normalized=True)\n",
    "    mesh.paint_uniform_color(np.array([255,255,0])/255)\n",
    "    mesh.translate(np.array([0, ix*2, ix*3]))\n",
    "o3d.visualization.draw_geometries(layers_ROI, mesh_show_back_face=True)"
   ]
  },
  {
   "cell_type": "code",
   "execution_count": 195,
   "id": "b7730aed",
   "metadata": {},
   "outputs": [],
   "source": []
  },
  {
   "cell_type": "code",
   "execution_count": 185,
   "id": "166057bc",
   "metadata": {},
   "outputs": [
    {
     "data": {
      "text/plain": [
       "array([[-47.541965 ,  20.79107  ,  -7.866127 ],\n",
       "       [-46.88122  ,  21.660099 , -12.110569 ],\n",
       "       [-47.25057  ,  22.039864 ,  -9.79081  ],\n",
       "       ...,\n",
       "       [ 88.51995  ,   4.537911 ,  12.169214 ],\n",
       "       [ 88.51471  ,   4.7404065,   7.3408184],\n",
       "       [ 88.46972  ,   7.082566 ,   7.5809345]], dtype=float32)"
      ]
     },
     "execution_count": 185,
     "metadata": {},
     "output_type": "execute_result"
    }
   ],
   "source": []
  },
  {
   "cell_type": "markdown",
   "id": "11664c44",
   "metadata": {},
   "source": [
    "[Open3D INFO]   -- Mouse view control --\n",
    "[Open3D INFO]     Left button + drag         : Rotate.\n",
    "[Open3D INFO]     Ctrl + left button + drag  : Translate.\n",
    "[Open3D INFO]     Wheel button + drag        : Translate.\n",
    "[Open3D INFO]     Shift + left button + drag : Roll.\n",
    "[Open3D INFO]     Wheel                      : Zoom in/out.\n",
    "[Open3D INFO] \n",
    "[Open3D INFO]   -- Keyboard view control --\n",
    "[Open3D INFO]     [/]          : Increase/decrease field of view.\n",
    "[Open3D INFO]     R            : Reset view point.\n",
    "[Open3D INFO]     Ctrl/Cmd + C : Copy current view status into the clipboard.\n",
    "[Open3D INFO]     Ctrl/Cmd + V : Paste view status from clipboard.\n",
    "[Open3D INFO] \n",
    "[Open3D INFO]   -- General control --\n",
    "[Open3D INFO]     Q, Esc       : Exit window.\n",
    "[Open3D INFO]     H            : Print help message.\n",
    "[Open3D INFO]     P, PrtScn    : Take a screen capture.\n",
    "[Open3D INFO]     D            : Take a depth capture.\n",
    "[Open3D INFO]     O            : Take a capture of current rendering settings.\n",
    "[Open3D INFO]     Alt + Enter  : Toggle between full screen and windowed mode.\n",
    "[Open3D INFO] \n",
    "[Open3D INFO]   -- Render mode control --\n",
    "[Open3D INFO]     L            : Turn on/off lighting.\n",
    "[Open3D INFO]     +/-          : Increase/decrease point size.\n",
    "[Open3D INFO]     Ctrl + +/-   : Increase/decrease width of geometry::LineSet.\n",
    "[Open3D INFO]     N            : Turn on/off point cloud normal rendering.\n",
    "[Open3D INFO]     S            : Toggle between mesh flat shading and smooth shading.\n",
    "[Open3D INFO]     W            : Turn on/off mesh wireframe.\n",
    "[Open3D INFO]     B            : Turn on/off back face rendering.\n",
    "[Open3D INFO]     I            : Turn on/off image zoom in interpolation.\n",
    "[Open3D INFO]     T            : Toggle among image render:\n",
    "[Open3D INFO]                    no stretch / keep ratio / freely stretch.\n",
    "[Open3D INFO] \n",
    "[Open3D INFO]   -- Color control --\n",
    "[Open3D INFO]     0..4,9       : Set point cloud color option.\n",
    "[Open3D INFO]                    0 - Default behavior, render point color.\n",
    "[Open3D INFO]                    1 - Render point color.\n",
    "[Open3D INFO]                    2 - x coordinate as color.\n",
    "[Open3D INFO]                    3 - y coordinate as color.\n",
    "[Open3D INFO]                    4 - z coordinate as color.\n",
    "[Open3D INFO]                    9 - normal as color.\n",
    "[Open3D INFO]     Ctrl + 0..4,9: Set mesh color option.\n",
    "[Open3D INFO]                    0 - Default behavior, render uniform gray color.\n",
    "[Open3D INFO]                    1 - Render point color.\n",
    "[Open3D INFO]                    2 - x coordinate as color.\n",
    "[Open3D INFO]                    3 - y coordinate as color.\n",
    "[Open3D INFO]                    4 - z coordinate as color.\n",
    "[Open3D INFO]                    9 - normal as color.\n",
    "[Open3D INFO]     Shift + 0..4 : Color map options.\n",
    "[Open3D INFO]                    0 - Gray scale color.\n",
    "[Open3D INFO]                    1 - JET color map.\n",
    "[Open3D INFO]                    2 - SUMMER color map.\n",
    "[Open3D INFO]                    3 - WINTER color map.\n",
    "[Open3D INFO]                    4 - HOT color map."
   ]
  }
 ],
 "metadata": {
  "kernelspec": {
   "display_name": "Python 3 (ipykernel)",
   "language": "python",
   "name": "python3"
  },
  "language_info": {
   "codemirror_mode": {
    "name": "ipython",
    "version": 3
   },
   "file_extension": ".py",
   "mimetype": "text/x-python",
   "name": "python",
   "nbconvert_exporter": "python",
   "pygments_lexer": "ipython3",
   "version": "3.9.7"
  }
 },
 "nbformat": 4,
 "nbformat_minor": 5
}
