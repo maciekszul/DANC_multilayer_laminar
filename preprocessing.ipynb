{
 "cells": [
  {
   "cell_type": "code",
   "execution_count": 1,
   "id": "9b1f4159-50d7-4c9b-a3d5-a254cc61783c",
   "metadata": {},
   "outputs": [],
   "source": [
    "# from tqdm.notebook import trange, tqdm\n",
    "from pathlib import Path\n",
    "from utilities import files\n",
    "import os.path as op\n",
    "import numpy as np\n",
    "from os import sep, remove\n",
    "import itertools as it\n",
    "import json\n",
    "from mne import read_epochs\n",
    "import matlab.engine\n",
    "import new_files\n",
    "files = new_files.Files()"
   ]
  },
  {
   "cell_type": "code",
   "execution_count": 3,
   "id": "13a190a5-8b3b-4524-821e-44785d4efe4d",
   "metadata": {},
   "outputs": [],
   "source": [
    "parasite = matlab.engine.start_matlab()"
   ]
  },
  {
   "cell_type": "code",
   "execution_count": 4,
   "id": "eedb1ce4-fd8c-40d3-a8ba-c4719e129b53",
   "metadata": {},
   "outputs": [
    {
     "data": {
      "text/plain": [
       "'built-in (/home/mszul/Matlab/toolbox/matlab/general/load)'"
      ]
     },
     "execution_count": 4,
     "metadata": {},
     "output_type": "execute_result"
    }
   ],
   "source": [
    "parasite.which(\"load\", nargout=1)"
   ]
  },
  {
   "cell_type": "code",
   "execution_count": 5,
   "id": "ac30dc60-3950-41b4-9da8-0edac2132ae1",
   "metadata": {},
   "outputs": [],
   "source": [
    "def many_is_in(multiple, target):\n",
    "    check_ = []\n",
    "    for i in multiple:\n",
    "        check_.append(i  in target)\n",
    "    return any(check_)\n",
    "\n",
    "def all_is_in(multiple, target):\n",
    "    check_ = []\n",
    "    for i in multiple:\n",
    "        check_.append(i  in target)\n",
    "    return all(check_)\n",
    "\n",
    "def cat(options, target):\n",
    "    for i in options:\n",
    "        if i in target:\n",
    "            return i"
   ]
  },
  {
   "cell_type": "code",
   "execution_count": 6,
   "id": "300f9226-0d13-4af5-bd07-a455d5736ad8",
   "metadata": {},
   "outputs": [],
   "source": [
    "exclude=[\n",
    "    \"sub-002-ses-01\",\n",
    "    \"sub-002-ses-02\",\n",
    "    \"sub-006-ses-01\",\n",
    "    \"sub-006-ses-02\",\n",
    "    \"sub-008-ses-01\"\n",
    "]\n",
    "ds_path = \"/home/common/bonaiuto/cued_action_meg\""
   ]
  },
  {
   "cell_type": "code",
   "execution_count": 7,
   "id": "4aaf8acb-0e2a-4249-9146-94cbe7b869b0",
   "metadata": {},
   "outputs": [],
   "source": [
    "def scrape_epo_files(ds_path, exclude):\n",
    "    subs_path = op.join(ds_path, \"derivatives\", \"processed\")\n",
    "    sub_paths = files.get_folders_files(subs_path)[0]\n",
    "    sub_paths.sort()\n",
    "    subs = [i.split(sep)[-1] for i in sub_paths]\n",
    "    epochs = {sub: {\"motor\": [], \"visual1\": [], \"visual2\": []} for sub in subs}\n",
    "    epochs_all = []\n",
    "    for sub_path in sub_paths:\n",
    "        sub = sub_path.split(sep)[-1]\n",
    "        sessions_paths = files.get_folders_files(sub_path)[0]\n",
    "        sessions_paths = [i for i in sessions_paths if \"ses-\" in i]\n",
    "        session_motor = {i.split(sep)[-1]: files.get_files(i, \"autoreject-sub\", \"-motor-epo.fif\")[2] for i in sessions_paths}\n",
    "        session_visual1 = {i.split(sep)[-1]: files.get_files(i, \"autoreject-sub\", \"-visual1-epo.fif\")[2] for i in sessions_paths}\n",
    "        session_visual2 = {i.split(sep)[-1]: files.get_files(i, \"autoreject-sub\", \"-visual2-epo.fif\")[2] for i in sessions_paths}\n",
    "        session_motor = list(it.chain(*[session_motor[i] for i in session_motor.keys()]))\n",
    "        session_visual1 = list(it.chain(*[session_visual1[i] for i in session_visual1.keys()]))\n",
    "        session_visual2 = list(it.chain(*[session_visual2[i] for i in session_visual2.keys()]))\n",
    "        session_motor = [i for i in session_motor if not many_is_in(exclude, i)]\n",
    "        session_motor.sort()\n",
    "        session_visual1 = [i for i in session_visual1 if not many_is_in(exclude, i)]\n",
    "        session_visual2 = [i for i in session_visual2 if not many_is_in(exclude, i)]\n",
    "        session_visual1.sort()\n",
    "        session_visual2.sort()\n",
    "        epochs[sub][\"visual1\"] = session_visual1\n",
    "        epochs[sub][\"visual2\"] = session_visual2\n",
    "        epochs[sub][\"motor\"] = session_motor\n",
    "        epochs_all.extend(session_visual1 + session_visual2 + session_motor)\n",
    "    return epochs, epochs_all\n",
    "\n",
    "epochs, epochs_all = scrape_epo_files(ds_path, exclude)"
   ]
  },
  {
   "cell_type": "code",
   "execution_count": 36,
   "id": "5399fa17-5551-4fa7-b875-cf14e472f9c9",
   "metadata": {},
   "outputs": [],
   "source": [
    "pick_epochs = [i for i in epochs_all if all_is_in([\"visual1\", \"sub-001\"], i)] + [i for i in epochs_all if all_is_in([\"visual1\", \"sub-002\", \"ses-03\"], i)] + [i for i in epochs_all if all_is_in([\"visual1\", \"sub-002\", \"ses-04\"], i)]"
   ]
  },
  {
   "cell_type": "code",
   "execution_count": 37,
   "id": "e6b06381-819e-4bbb-aeea-9294caa652aa",
   "metadata": {},
   "outputs": [
    {
     "data": {
      "text/plain": [
       "['/home/common/bonaiuto/cued_action_meg/derivatives/processed/sub-001/ses-01/autoreject-sub-001-ses-01-001-visual1-epo.fif',\n",
       " '/home/common/bonaiuto/cued_action_meg/derivatives/processed/sub-001/ses-01/autoreject-sub-001-ses-01-002-visual1-epo.fif',\n",
       " '/home/common/bonaiuto/cued_action_meg/derivatives/processed/sub-001/ses-01/autoreject-sub-001-ses-01-003-visual1-epo.fif',\n",
       " '/home/common/bonaiuto/cued_action_meg/derivatives/processed/sub-002/ses-03/autoreject-sub-002-ses-03-001-visual1-epo.fif',\n",
       " '/home/common/bonaiuto/cued_action_meg/derivatives/processed/sub-002/ses-03/autoreject-sub-002-ses-03-002-visual1-epo.fif',\n",
       " '/home/common/bonaiuto/cued_action_meg/derivatives/processed/sub-002/ses-03/autoreject-sub-002-ses-03-003-visual1-epo.fif',\n",
       " '/home/common/bonaiuto/cued_action_meg/derivatives/processed/sub-002/ses-04/autoreject-sub-002-ses-04-001-visual1-epo.fif',\n",
       " '/home/common/bonaiuto/cued_action_meg/derivatives/processed/sub-002/ses-04/autoreject-sub-002-ses-04-002-visual1-epo.fif',\n",
       " '/home/common/bonaiuto/cued_action_meg/derivatives/processed/sub-002/ses-04/autoreject-sub-002-ses-04-003-visual1-epo.fif']"
      ]
     },
     "execution_count": 37,
     "metadata": {},
     "output_type": "execute_result"
    }
   ],
   "source": [
    "pick_epochs"
   ]
  },
  {
   "cell_type": "code",
   "execution_count": 11,
   "id": "0c233750-9cc0-4d2a-8483-e7055f08fe86",
   "metadata": {},
   "outputs": [],
   "source": [
    "def get_res4(ds_path, sub, ses, run):\n",
    "    ref_path = op.join(ds_path, \"raw\", sub, ses, \"meg\")\n",
    "    blocks = files.get_folders_files(ref_path)[0]\n",
    "    block = [i for i in blocks if \"block-{}\".format(run[1:]) in i][0]\n",
    "    res4_path = files.get_files(block, \"\", \".res4\")[2][0]\n",
    "    return res4_path"
   ]
  },
  {
   "cell_type": "code",
   "execution_count": 38,
   "id": "00f678b5-d6d5-4ed1-8ef2-3c371427eb77",
   "metadata": {},
   "outputs": [
    {
     "name": "stdout",
     "output_type": "stream",
     "text": [
      "/home/common/bonaiuto/cued_action_meg/derivatives/processed/sub-001/ses-01/inverse/spm-converted_filt_autoreject-sub-001-ses-01-001-visual1-epo.mat exists\n",
      "/home/common/bonaiuto/cued_action_meg/derivatives/processed/sub-001/ses-01/inverse/spm-converted_nofilt_autoreject-sub-001-ses-01-001-visual1-epo.mat exists\n",
      "/home/common/bonaiuto/cued_action_meg/derivatives/processed/sub-001/ses-01/inverse/spm-converted_filt_autoreject-sub-001-ses-01-002-visual1-epo.mat exists\n",
      "/home/common/bonaiuto/cued_action_meg/derivatives/processed/sub-002/ses-03/inverse/spm-converted_filt_autoreject-sub-002-ses-03-001-visual1-epo.mat exists\n",
      "/home/common/bonaiuto/cued_action_meg/derivatives/processed/sub-002/ses-03/inverse/spm-converted_filt_autoreject-sub-002-ses-03-002-visual1-epo.mat exists\n"
     ]
    }
   ],
   "source": [
    "def average_filter_convert(file_path, parasite, filt=False, l_freq=None, h_freq=None):\n",
    "    path_split = file_path.split(sep)\n",
    "    filename_core = path_split[-1].split(\".\")[0]\n",
    "    sub = filename_core[11:18]\n",
    "    ses = filename_core[19:25]\n",
    "    run = filename_core[26:29]\n",
    "    res4_path = get_res4(ds_path, sub, ses, run)\n",
    "    dir_path = str(sep).join(path_split[:-1] + [\"inverse\", \"\"])\n",
    "    files.make_folder(dir_path)\n",
    "    \n",
    "    filt_status = \"_nofilt\"\n",
    "    if filt:\n",
    "        filt_status = \"_filt\"\n",
    "    \n",
    "    output_file = \"spm-converted{}_{}\".format(filt_status, filename_core)\n",
    "    output_path = op.join(dir_path, output_file)\n",
    "    average_file = output_path + \"-ave.fif\"\n",
    "    mat_output = output_path + \".mat\"\n",
    "    if not op.exists(mat_output):\n",
    "        if not op.exists(average_file):\n",
    "            epochs = read_epochs(file_path, verbose=False)\n",
    "            epochs = epochs.average()\n",
    "            if filt:\n",
    "                epochs.filter(l_freq=l_freq, h_freq=h_freq)\n",
    "            epochs.save(average_file)\n",
    "\n",
    "        parasite.convert_mne_to_spm(res4_path, average_file, mat_output, 0, nargout=0)\n",
    "        if op.isfile(average_file):\n",
    "            remove(average_file)\n",
    "        else:\n",
    "            print(average_file, \"does not exists\")\n",
    "\n",
    "    else:\n",
    "        print(mat_output, \"exists\")\n",
    "\n",
    "for target in pick_epochs:\n",
    "    average_filter_convert(target, parasite, filt=True, l_freq=0, h_freq=30)\n",
    "    average_filter_convert(target, parasite)"
   ]
  },
  {
   "cell_type": "code",
   "execution_count": 14,
   "id": "681175db-b815-46e8-8698-56dc7de21a0b",
   "metadata": {},
   "outputs": [
    {
     "ename": "NameError",
     "evalue": "name 'get_files' is not defined",
     "output_type": "error",
     "traceback": [
      "\u001b[0;31m---------------------------------------------------------------------------\u001b[0m",
      "\u001b[0;31mNameError\u001b[0m                                 Traceback (most recent call last)",
      "\u001b[0;32m<ipython-input-14-92d089facac2>\u001b[0m in \u001b[0;36m<module>\u001b[0;34m\u001b[0m\n\u001b[0;32m----> 1\u001b[0;31m \u001b[0mget_files\u001b[0m\u001b[0;34m(\u001b[0m\u001b[0msubs_path\u001b[0m\u001b[0;34m,\u001b[0m \u001b[0;34m\"*.mat\"\u001b[0m\u001b[0;34m,\u001b[0m \u001b[0mstrings\u001b[0m\u001b[0;34m=\u001b[0m\u001b[0;34m[\u001b[0m\u001b[0;34m\"filt\"\u001b[0m\u001b[0;34m]\u001b[0m\u001b[0;34m,\u001b[0m \u001b[0mprefix\u001b[0m\u001b[0;34m=\u001b[0m\u001b[0;34m\"spm-converted\"\u001b[0m\u001b[0;34m)\u001b[0m\u001b[0;34m\u001b[0m\u001b[0;34m\u001b[0m\u001b[0m\n\u001b[0m",
      "\u001b[0;31mNameError\u001b[0m: name 'get_files' is not defined"
     ]
    }
   ],
   "source": [
    "get_files(subs_path, \"*.mat\", strings=[\"filt\"], prefix=\"spm-converted\")"
   ]
  },
  {
   "cell_type": "code",
   "execution_count": 41,
   "id": "f9c45554-84e3-40d1-aec2-14abd58a1363",
   "metadata": {},
   "outputs": [
    {
     "name": "stdout",
     "output_type": "stream",
     "text": [
      "0 spm-converted_filt_autoreject-sub-001-ses-01-001-visual1-epo.mat\n",
      "1 spm-converted_filt_autoreject-sub-001-ses-01-002-visual1-epo.mat\n",
      "2 spm-converted_filt_autoreject-sub-001-ses-01-003-visual1-epo.mat\n",
      "3 spm-converted_nofilt_autoreject-sub-001-ses-01-001-visual1-epo.mat\n",
      "4 spm-converted_nofilt_autoreject-sub-001-ses-01-002-visual1-epo.mat\n",
      "5 spm-converted_nofilt_autoreject-sub-001-ses-01-003-visual1-epo.mat\n",
      "6 spm-converted_filt_autoreject-sub-002-ses-03-001-visual1-epo.mat\n",
      "7 spm-converted_filt_autoreject-sub-002-ses-03-002-visual1-epo.mat\n",
      "8 spm-converted_filt_autoreject-sub-002-ses-03-003-visual1-epo.mat\n",
      "9 spm-converted_nofilt_autoreject-sub-002-ses-03-001-visual1-epo.mat\n",
      "10 spm-converted_nofilt_autoreject-sub-002-ses-03-002-visual1-epo.mat\n",
      "11 spm-converted_nofilt_autoreject-sub-002-ses-03-003-visual1-epo.mat\n",
      "12 spm-converted_filt_autoreject-sub-002-ses-04-001-visual1-epo.mat\n",
      "13 spm-converted_filt_autoreject-sub-002-ses-04-002-visual1-epo.mat\n",
      "14 spm-converted_filt_autoreject-sub-002-ses-04-003-visual1-epo.mat\n",
      "15 spm-converted_nofilt_autoreject-sub-002-ses-04-001-visual1-epo.mat\n",
      "16 spm-converted_nofilt_autoreject-sub-002-ses-04-002-visual1-epo.mat\n",
      "17 spm-converted_nofilt_autoreject-sub-002-ses-04-003-visual1-epo.mat\n"
     ]
    }
   ],
   "source": [
    "subs_path = op.join(ds_path, \"derivatives\", \"processed\")\n",
    "def get_files(target_path, suffix, strings=[\"\"], prefix=None):\n",
    "    paths = [str(path) for path in Path(target_path).rglob(suffix) if all_is_in(strings, str(path.name))]\n",
    "    paths.sort()\n",
    "    if isinstance(prefix, str):\n",
    "        paths = [path for path in paths if Path(path).name.startswith(prefix)] \n",
    "    return paths\n",
    "\n",
    "mat_paths = get_files(subs_path, \"*.mat\", strings=[\"filt\"], prefix=\"spm-converted\")\n",
    "choice_mat = [i for i in mat_paths if \"visual1\" in i]\n",
    "[print(ix, i.split(sep)[-1]) for ix, i in enumerate(choice_mat)];"
   ]
  },
  {
   "cell_type": "code",
   "execution_count": null,
   "id": "719bb487-7190-4780-ac49-52d525d9d96c",
   "metadata": {},
   "outputs": [],
   "source": [
    "# def prepare_multilayer(ds_path, sub, parasite, layers=11, an_name=\"multilayer-11\"):\n",
    "#     parasite.prepare_multilayer_surface(ds_path, sub, layers, an_name, nargout=0)\n",
    "\n",
    "# prepare_multilayer(ds_path, \"sub-001\", parasite)"
   ]
  },
  {
   "cell_type": "code",
   "execution_count": 42,
   "id": "ebdeb878-7794-47c5-9c1e-3bfc1067715a",
   "metadata": {},
   "outputs": [],
   "source": [
    "def invert_multisurface(ds_path, mat_file_path, parasite, an_name=\"multilayer\", layers=11):\n",
    "    input_path = Path(mat_file_path)\n",
    "    bits = input_path.name.split(\"_\")[-1].split(\"-\")\n",
    "    sub = \"-\".join([bits[1], bits[2]])\n",
    "    ses = \"-\".join([bits[3], bits[4]])\n",
    "    run = bits[5]\n",
    "    epo = bits[6]\n",
    "    output_path = str(input_path.parent)\n",
    "    mu_file = op.join(input_path.parent, \"{}_MU_\".format(an_name) + input_path.stem + \".tsv\")\n",
    "    it_file = op.join(input_path.parent, \"{}_IT_\".format(an_name) + input_path.stem + \".tsv\")\n",
    "    res_file = op.join(input_path.parent, \"{}_res_\".format(an_name) + input_path.stem + \".tsv\")\n",
    "    json_out_file = op.join(input_path.parent, \"{}_invert-res_\".format(an_name) + input_path.stem + \".json\")\n",
    "    \n",
    "    parasite.invert_multisurface(\n",
    "        str(ds_path), mat_file_path, sub, ses, run, epo, nargout=0\n",
    "    )\n",
    "\n",
    "for ch_mt in choice_mat:\n",
    "    invert_multisurface(ds_path, ch_mt, parasite)"
   ]
  },
  {
   "cell_type": "code",
   "execution_count": null,
   "id": "6f484dcc-2392-4ba1-b81c-13314521f277",
   "metadata": {},
   "outputs": [],
   "source": [
    "# def invert_multisurface(ds_path, mat_file_path, parasite, an_name=\"multilayer\", layers=11):\n",
    "#     input_path = Path(mat_file_path)\n",
    "#     bits = input_path.name.split(\"_\")[-1].split(\"-\")\n",
    "#     sub = \"-\".join([bits[1], bits[2]])\n",
    "#     ses = \"-\".join([bits[3], bits[4]])\n",
    "#     run = bits[5]\n",
    "#     epo = bits[6]\n",
    "#     output_path = str(input_path.parent)\n",
    "#     mu_file = op.join(input_path.parent, \"{}_MU_\".format(an_name) + input_path.stem + \".tsv\")\n",
    "#     it_file = op.join(input_path.parent, \"{}_IT_\".format(an_name) + input_path.stem + \".tsv\")\n",
    "#     res_file = op.join(input_path.parent, \"{}_res_\".format(an_name) + input_path.stem + \".tsv\")\n",
    "#     json_out_file = op.join(input_path.parent, \"{}_invert-res_\".format(an_name) + input_path.stem + \".json\")\n",
    "    \n",
    "#     parasite.invert_multisurface(\n",
    "#         str(ds_path), output_path, sub, ses, run, mat_file_path, \n",
    "#         mu_file, it_file, res_file, json_out_file, \n",
    "#         an_name, layers, epo, nargout=0\n",
    "#     )\n",
    "#     return sub, ses, run, bits, mu_file, it_file, mu_file, json_out_file\n",
    "\n",
    "# print(invert_multisurface(ds_path, mat_paths[0], parasite))"
   ]
  },
  {
   "cell_type": "code",
   "execution_count": null,
   "id": "2560fe7e-3c2c-4356-a228-5821ecd50ae6",
   "metadata": {},
   "outputs": [],
   "source": []
  },
  {
   "cell_type": "code",
   "execution_count": null,
   "id": "0f362fae-35d9-4998-b317-60084b25588f",
   "metadata": {},
   "outputs": [],
   "source": []
  }
 ],
 "metadata": {
  "kernelspec": {
   "display_name": "Python 3 (ipykernel)",
   "language": "python",
   "name": "python3"
  },
  "language_info": {
   "codemirror_mode": {
    "name": "ipython",
    "version": 3
   },
   "file_extension": ".py",
   "mimetype": "text/x-python",
   "name": "python",
   "nbconvert_exporter": "python",
   "pygments_lexer": "ipython3",
   "version": "3.9.7"
  }
 },
 "nbformat": 4,
 "nbformat_minor": 5
}
