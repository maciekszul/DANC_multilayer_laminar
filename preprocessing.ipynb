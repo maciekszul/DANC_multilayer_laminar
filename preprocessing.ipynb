{
 "cells": [
  {
   "cell_type": "code",
   "execution_count": 54,
   "id": "9b1f4159-50d7-4c9b-a3d5-a254cc61783c",
   "metadata": {},
   "outputs": [],
   "source": [
    "# from tqdm.notebook import trange, tqdm\n",
    "from pathlib import Path\n",
    "from utilities import files\n",
    "import os.path as op\n",
    "import numpy as np\n",
    "from os import sep, remove\n",
    "import itertools as it\n",
    "import json\n",
    "from mne import read_epochs\n",
    "import matlab.engine"
   ]
  },
  {
   "cell_type": "code",
   "execution_count": 46,
   "id": "13a190a5-8b3b-4524-821e-44785d4efe4d",
   "metadata": {},
   "outputs": [],
   "source": [
    "parasite = matlab.engine.start_matlab()"
   ]
  },
  {
   "cell_type": "code",
   "execution_count": 71,
   "id": "ac30dc60-3950-41b4-9da8-0edac2132ae1",
   "metadata": {},
   "outputs": [],
   "source": [
    "def many_is_in(multiple, target):\n",
    "    check_ = []\n",
    "    for i in multiple:\n",
    "        check_.append(i  in target)\n",
    "    return any(check_)\n",
    "\n",
    "def all_is_in(multiple, target):\n",
    "    check_ = []\n",
    "    for i in multiple:\n",
    "        check_.append(i  in target)\n",
    "    return all(check_)\n",
    "\n",
    "def cat(options, target):\n",
    "    for i in options:\n",
    "        if i in target:\n",
    "            return i"
   ]
  },
  {
   "cell_type": "code",
   "execution_count": 15,
   "id": "300f9226-0d13-4af5-bd07-a455d5736ad8",
   "metadata": {},
   "outputs": [],
   "source": [
    "exclude=[\n",
    "    \"sub-002-ses-01\",\n",
    "    \"sub-002-ses-02\",\n",
    "    \"sub-006-ses-01\",\n",
    "    \"sub-006-ses-02\",\n",
    "    \"sub-008-ses-01\"\n",
    "]\n",
    "ds_path = \"/home/common/bonaiuto/cued_action_meg\""
   ]
  },
  {
   "cell_type": "code",
   "execution_count": 17,
   "id": "4aaf8acb-0e2a-4249-9146-94cbe7b869b0",
   "metadata": {},
   "outputs": [],
   "source": [
    "def scrape_epo_files(ds_path, exclude):\n",
    "    subs_path = op.join(ds_path, \"derivatives\", \"processed\")\n",
    "    sub_paths = files.get_folders_files(subs_path)[0]\n",
    "    sub_paths.sort()\n",
    "    subs = [i.split(sep)[-1] for i in sub_paths]\n",
    "    epochs = {sub: {\"motor\": [], \"visual1\": [], \"visual2\": []} for sub in subs}\n",
    "    epochs_all = []\n",
    "    for sub_path in sub_paths:\n",
    "        sub = sub_path.split(sep)[-1]\n",
    "        sessions_paths = files.get_folders_files(sub_path)[0]\n",
    "        sessions_paths = [i for i in sessions_paths if \"ses-\" in i]\n",
    "        session_motor = {i.split(sep)[-1]: files.get_files(i, \"autoreject-sub\", \"-motor-epo.fif\")[2] for i in sessions_paths}\n",
    "        session_visual1 = {i.split(sep)[-1]: files.get_files(i, \"autoreject-sub\", \"-visual1-epo.fif\")[2] for i in sessions_paths}\n",
    "        session_visual2 = {i.split(sep)[-1]: files.get_files(i, \"autoreject-sub\", \"-visual2-epo.fif\")[2] for i in sessions_paths}\n",
    "        session_motor = list(it.chain(*[session_motor[i] for i in session_motor.keys()]))\n",
    "        session_visual1 = list(it.chain(*[session_visual1[i] for i in session_visual1.keys()]))\n",
    "        session_visual2 = list(it.chain(*[session_visual2[i] for i in session_visual2.keys()]))\n",
    "        session_motor = [i for i in session_motor if not many_is_in(exclude, i)]\n",
    "        session_motor.sort()\n",
    "        session_visual1 = [i for i in session_visual1 if not many_is_in(exclude, i)]\n",
    "        session_visual2 = [i for i in session_visual2 if not many_is_in(exclude, i)]\n",
    "        session_visual1.sort()\n",
    "        session_visual2.sort()\n",
    "        epochs[sub][\"visual1\"] = session_visual1\n",
    "        epochs[sub][\"visual2\"] = session_visual2\n",
    "        epochs[sub][\"motor\"] = session_motor\n",
    "        epochs_all.extend(session_visual1 + session_visual2 + session_motor)\n",
    "    return epochs, epochs_all\n",
    "\n",
    "epochs, epochs_all = scrape_select_files(ds_path, exclude)"
   ]
  },
  {
   "cell_type": "code",
   "execution_count": 38,
   "id": "0c233750-9cc0-4d2a-8483-e7055f08fe86",
   "metadata": {},
   "outputs": [],
   "source": [
    "def get_res4(ds_path, sub, ses, run):\n",
    "    ref_path = op.join(ds_path, \"raw\", sub, ses, \"meg\")\n",
    "    blocks = files.get_folders_files(ref_path)[0]\n",
    "    block = [i for i in blocks if \"block-{}\".format(run[1:]) in i][0]\n",
    "    res4_path = files.get_files(block, \"\", \".res4\")[2][0]\n",
    "    return res4_path"
   ]
  },
  {
   "cell_type": "code",
   "execution_count": 53,
   "id": "00f678b5-d6d5-4ed1-8ef2-3c371427eb77",
   "metadata": {},
   "outputs": [],
   "source": [
    "def average_filter_convert(file_path, parasite, filt=False, l_freq=None, h_freq=None):\n",
    "    path_split = file_path.split(sep)\n",
    "    filename_core = path_split[-1].split(\".\")[0]\n",
    "    sub = filename_core[11:18]\n",
    "    ses = filename_core[19:25]\n",
    "    run = filename_core[26:29]\n",
    "    res4_path = get_res4(ds_path, sub, ses, run)\n",
    "    dir_path = str(sep).join(path_split[:-1] + [\"inverse\", \"\"])\n",
    "    files.make_folder(dir_path)\n",
    "    \n",
    "    filt_status = \"_nofilt\"\n",
    "    if filt:\n",
    "        filt_status = \"_filt\"\n",
    "    \n",
    "    output_file = \"spm-converted{}_{}\".format(filt_status, filename_core)\n",
    "    output_path = op.join(dir_path, output_file)\n",
    "    average_file = output_path + \"-ave.fif\"\n",
    "    mat_output = output_path + \".mat\"\n",
    "    if not op.exists(mat_output):\n",
    "        if not op.exists(average_file):\n",
    "            epochs = read_epochs(file_path, verbose=False)\n",
    "            epochs = epochs.average()\n",
    "            if filt:\n",
    "                epochs.filter(l_freq=l_freq, h_freq=h_freq)\n",
    "            epochs.save(average_file)\n",
    "\n",
    "        parasite.convert_mne_to_spm(res4_path, average_file, mat_output, 0, nargout=0)\n",
    "        if op.isfile(average_file):\n",
    "            remove(average_file)\n",
    "        else:\n",
    "            print(average_file.split(sep)[-1], \"does not exists\")\n",
    "\n",
    "    else:\n",
    "        print(mat_output.split(sep)[-1], \"exists\")\n",
    "\n",
    "average_filter_convert(epochs_all[0], parasite)\n",
    "average_filter_convert(epochs_all[0], parasite, filt=True, l_freq=None, h_freq=30)"
   ]
  },
  {
   "cell_type": "code",
   "execution_count": 114,
   "id": "f9c45554-84e3-40d1-aec2-14abd58a1363",
   "metadata": {},
   "outputs": [
    {
     "name": "stdout",
     "output_type": "stream",
     "text": [
      "['/home/common/bonaiuto/cued_action_meg/derivatives/processed/sub-001/ses-01/inverse/spm-converted_filt_autoreject-sub-001-ses-01-001-visual1-epo.mat', '/home/common/bonaiuto/cued_action_meg/derivatives/processed/sub-001/ses-01/inverse/spm-converted_nofilt_autoreject-sub-001-ses-01-001-visual1-epo.mat']\n"
     ]
    }
   ],
   "source": [
    "subs_path = op.join(ds_path, \"derivatives\", \"processed\")\n",
    "def get_files(target_path, suffix, strings=[\"\"], prefix=None):\n",
    "    paths = [str(path) for path in Path(target_path).rglob(suffix) if all_is_in(strings, str(path.name))]\n",
    "    paths.sort()\n",
    "    if isinstance(prefix, str):\n",
    "        paths = [path for path in paths if Path(path).name.startswith(prefix)] \n",
    "    return paths\n",
    "\n",
    "mat_paths = get_files(subs_path, \"*.mat\", strings=[\"filt\"], prefix=\"spm-converted\")\n",
    "print(mat_paths)"
   ]
  },
  {
   "cell_type": "code",
   "execution_count": 84,
   "id": "719bb487-7190-4780-ac49-52d525d9d96c",
   "metadata": {},
   "outputs": [
    {
     "data": {
      "text/plain": [
       "['/home/common/bonaiuto/cued_action_meg/derivatives/processed/sub-001/ses-01/inverse/spm-converted_filt_autoreject-sub-001-ses-01-001-visual1-epo.mat',\n",
       " '/home/common/bonaiuto/cued_action_meg/derivatives/processed/sub-001/ses-01/inverse/spm-converted_nofilt_autoreject-sub-001-ses-01-001-visual1-epo.mat']"
      ]
     },
     "execution_count": 84,
     "metadata": {},
     "output_type": "execute_result"
    }
   ],
   "source": [
    "mat_paths"
   ]
  },
  {
   "cell_type": "code",
   "execution_count": 119,
   "id": "6f484dcc-2392-4ba1-b81c-13314521f277",
   "metadata": {},
   "outputs": [
    {
     "ename": "MatlabExecutionError",
     "evalue": "\n  File , line 0, in MATLABbatch system\nJob execution failed. The full log of this run can be found in MATLAB command window, starting with the lines (look for the line showing the exact #job as displayed in this error message)\n------------------ \nRunning job #1\n------------------\n\n",
     "output_type": "error",
     "traceback": [
      "\u001b[0;31m---------------------------------------------------------------------------\u001b[0m",
      "\u001b[0;31mMatlabExecutionError\u001b[0m                      Traceback (most recent call last)",
      "\u001b[0;32m<ipython-input-119-ed411939518a>\u001b[0m in \u001b[0;36m<module>\u001b[0;34m\u001b[0m\n\u001b[1;32m     21\u001b[0m     \u001b[0;32mreturn\u001b[0m \u001b[0msub\u001b[0m\u001b[0;34m,\u001b[0m \u001b[0mses\u001b[0m\u001b[0;34m,\u001b[0m \u001b[0mrun\u001b[0m\u001b[0;34m,\u001b[0m \u001b[0mbits\u001b[0m\u001b[0;34m,\u001b[0m \u001b[0mmu_file\u001b[0m\u001b[0;34m,\u001b[0m \u001b[0mit_file\u001b[0m\u001b[0;34m,\u001b[0m \u001b[0mmu_file\u001b[0m\u001b[0;34m,\u001b[0m \u001b[0mjson_out_file\u001b[0m\u001b[0;34m\u001b[0m\u001b[0;34m\u001b[0m\u001b[0m\n\u001b[1;32m     22\u001b[0m \u001b[0;34m\u001b[0m\u001b[0m\n\u001b[0;32m---> 23\u001b[0;31m \u001b[0mprint\u001b[0m\u001b[0;34m(\u001b[0m\u001b[0minvert_multisurface\u001b[0m\u001b[0;34m(\u001b[0m\u001b[0mds_path\u001b[0m\u001b[0;34m,\u001b[0m \u001b[0mmat_paths\u001b[0m\u001b[0;34m[\u001b[0m\u001b[0;36m0\u001b[0m\u001b[0;34m]\u001b[0m\u001b[0;34m,\u001b[0m \u001b[0mparasite\u001b[0m\u001b[0;34m)\u001b[0m\u001b[0;34m)\u001b[0m\u001b[0;34m\u001b[0m\u001b[0;34m\u001b[0m\u001b[0m\n\u001b[0m",
      "\u001b[0;32m<ipython-input-119-ed411939518a>\u001b[0m in \u001b[0;36minvert_multisurface\u001b[0;34m(ds_path, mat_file_path, parasite, an_name, layers)\u001b[0m\n\u001b[1;32m     17\u001b[0m         \u001b[0mstr\u001b[0m\u001b[0;34m(\u001b[0m\u001b[0mds_path\u001b[0m\u001b[0;34m)\u001b[0m\u001b[0;34m,\u001b[0m \u001b[0moutput_path\u001b[0m\u001b[0;34m,\u001b[0m \u001b[0msub\u001b[0m\u001b[0;34m,\u001b[0m \u001b[0mses\u001b[0m\u001b[0;34m,\u001b[0m \u001b[0mrun\u001b[0m\u001b[0;34m,\u001b[0m \u001b[0mmat_file_path\u001b[0m\u001b[0;34m,\u001b[0m\u001b[0;34m\u001b[0m\u001b[0;34m\u001b[0m\u001b[0m\n\u001b[1;32m     18\u001b[0m         \u001b[0mmu_file\u001b[0m\u001b[0;34m,\u001b[0m \u001b[0mit_file\u001b[0m\u001b[0;34m,\u001b[0m \u001b[0mres_file\u001b[0m\u001b[0;34m,\u001b[0m \u001b[0mjson_out_file\u001b[0m\u001b[0;34m,\u001b[0m\u001b[0;34m\u001b[0m\u001b[0;34m\u001b[0m\u001b[0m\n\u001b[0;32m---> 19\u001b[0;31m         \u001b[0man_name\u001b[0m\u001b[0;34m,\u001b[0m \u001b[0mlayers\u001b[0m\u001b[0;34m,\u001b[0m \u001b[0mepo\u001b[0m\u001b[0;34m,\u001b[0m \u001b[0mnargout\u001b[0m\u001b[0;34m=\u001b[0m\u001b[0;36m0\u001b[0m\u001b[0;34m\u001b[0m\u001b[0;34m\u001b[0m\u001b[0m\n\u001b[0m\u001b[1;32m     20\u001b[0m     )\n\u001b[1;32m     21\u001b[0m     \u001b[0;32mreturn\u001b[0m \u001b[0msub\u001b[0m\u001b[0;34m,\u001b[0m \u001b[0mses\u001b[0m\u001b[0;34m,\u001b[0m \u001b[0mrun\u001b[0m\u001b[0;34m,\u001b[0m \u001b[0mbits\u001b[0m\u001b[0;34m,\u001b[0m \u001b[0mmu_file\u001b[0m\u001b[0;34m,\u001b[0m \u001b[0mit_file\u001b[0m\u001b[0;34m,\u001b[0m \u001b[0mmu_file\u001b[0m\u001b[0;34m,\u001b[0m \u001b[0mjson_out_file\u001b[0m\u001b[0;34m\u001b[0m\u001b[0;34m\u001b[0m\u001b[0m\n",
      "\u001b[0;32m~/miniconda3/envs/matlab/lib/python3.6/site-packages/matlab/engine/matlabengine.py\u001b[0m in \u001b[0;36m__call__\u001b[0;34m(self, *args, **kwargs)\u001b[0m\n\u001b[1;32m     69\u001b[0m         \u001b[0;32melse\u001b[0m\u001b[0;34m:\u001b[0m\u001b[0;34m\u001b[0m\u001b[0;34m\u001b[0m\u001b[0m\n\u001b[1;32m     70\u001b[0m             return FutureResult(self._engine(), future, nargs, _stdout,\n\u001b[0;32m---> 71\u001b[0;31m                                 _stderr, feval=True).result()\n\u001b[0m\u001b[1;32m     72\u001b[0m \u001b[0;34m\u001b[0m\u001b[0m\n\u001b[1;32m     73\u001b[0m     \u001b[0;32mdef\u001b[0m \u001b[0m__validate_engine\u001b[0m\u001b[0;34m(\u001b[0m\u001b[0mself\u001b[0m\u001b[0;34m)\u001b[0m\u001b[0;34m:\u001b[0m\u001b[0;34m\u001b[0m\u001b[0;34m\u001b[0m\u001b[0m\n",
      "\u001b[0;32m~/miniconda3/envs/matlab/lib/python3.6/site-packages/matlab/engine/futureresult.py\u001b[0m in \u001b[0;36mresult\u001b[0;34m(self, timeout)\u001b[0m\n\u001b[1;32m     65\u001b[0m                 \u001b[0;32mraise\u001b[0m \u001b[0mTypeError\u001b[0m\u001b[0;34m(\u001b[0m\u001b[0mpythonengine\u001b[0m\u001b[0;34m.\u001b[0m\u001b[0mgetMessage\u001b[0m\u001b[0;34m(\u001b[0m\u001b[0;34m'TimeoutCannotBeNegative'\u001b[0m\u001b[0;34m)\u001b[0m\u001b[0;34m)\u001b[0m\u001b[0;34m\u001b[0m\u001b[0;34m\u001b[0m\u001b[0m\n\u001b[1;32m     66\u001b[0m \u001b[0;34m\u001b[0m\u001b[0m\n\u001b[0;32m---> 67\u001b[0;31m         \u001b[0;32mreturn\u001b[0m \u001b[0mself\u001b[0m\u001b[0;34m.\u001b[0m\u001b[0m__future\u001b[0m\u001b[0;34m.\u001b[0m\u001b[0mresult\u001b[0m\u001b[0;34m(\u001b[0m\u001b[0mtimeout\u001b[0m\u001b[0;34m)\u001b[0m\u001b[0;34m\u001b[0m\u001b[0;34m\u001b[0m\u001b[0m\n\u001b[0m\u001b[1;32m     68\u001b[0m \u001b[0;34m\u001b[0m\u001b[0m\n\u001b[1;32m     69\u001b[0m     \u001b[0;32mdef\u001b[0m \u001b[0mcancel\u001b[0m\u001b[0;34m(\u001b[0m\u001b[0mself\u001b[0m\u001b[0;34m)\u001b[0m\u001b[0;34m:\u001b[0m\u001b[0;34m\u001b[0m\u001b[0;34m\u001b[0m\u001b[0m\n",
      "\u001b[0;32m~/miniconda3/envs/matlab/lib/python3.6/site-packages/matlab/engine/fevalfuture.py\u001b[0m in \u001b[0;36mresult\u001b[0;34m(self, timeout)\u001b[0m\n\u001b[1;32m     80\u001b[0m                 \u001b[0;32mraise\u001b[0m \u001b[0mTimeoutError\u001b[0m\u001b[0;34m(\u001b[0m\u001b[0mpythonengine\u001b[0m\u001b[0;34m.\u001b[0m\u001b[0mgetMessage\u001b[0m\u001b[0;34m(\u001b[0m\u001b[0;34m'MatlabFunctionTimeout'\u001b[0m\u001b[0;34m)\u001b[0m\u001b[0;34m)\u001b[0m\u001b[0;34m\u001b[0m\u001b[0;34m\u001b[0m\u001b[0m\n\u001b[1;32m     81\u001b[0m \u001b[0;34m\u001b[0m\u001b[0m\n\u001b[0;32m---> 82\u001b[0;31m             \u001b[0mself\u001b[0m\u001b[0;34m.\u001b[0m\u001b[0m_result\u001b[0m \u001b[0;34m=\u001b[0m \u001b[0mpythonengine\u001b[0m\u001b[0;34m.\u001b[0m\u001b[0mgetFEvalResult\u001b[0m\u001b[0;34m(\u001b[0m\u001b[0mself\u001b[0m\u001b[0;34m.\u001b[0m\u001b[0m_future\u001b[0m\u001b[0;34m,\u001b[0m\u001b[0mself\u001b[0m\u001b[0;34m.\u001b[0m\u001b[0m_nargout\u001b[0m\u001b[0;34m,\u001b[0m \u001b[0;32mNone\u001b[0m\u001b[0;34m,\u001b[0m \u001b[0mout\u001b[0m\u001b[0;34m=\u001b[0m\u001b[0mself\u001b[0m\u001b[0;34m.\u001b[0m\u001b[0m_out\u001b[0m\u001b[0;34m,\u001b[0m \u001b[0merr\u001b[0m\u001b[0;34m=\u001b[0m\u001b[0mself\u001b[0m\u001b[0;34m.\u001b[0m\u001b[0m_err\u001b[0m\u001b[0;34m)\u001b[0m\u001b[0;34m\u001b[0m\u001b[0;34m\u001b[0m\u001b[0m\n\u001b[0m\u001b[1;32m     83\u001b[0m             \u001b[0mself\u001b[0m\u001b[0;34m.\u001b[0m\u001b[0m_retrieved\u001b[0m \u001b[0;34m=\u001b[0m \u001b[0;32mTrue\u001b[0m\u001b[0;34m\u001b[0m\u001b[0;34m\u001b[0m\u001b[0m\n\u001b[1;32m     84\u001b[0m             \u001b[0;32mreturn\u001b[0m \u001b[0mself\u001b[0m\u001b[0;34m.\u001b[0m\u001b[0m_result\u001b[0m\u001b[0;34m\u001b[0m\u001b[0;34m\u001b[0m\u001b[0m\n",
      "\u001b[0;31mMatlabExecutionError\u001b[0m: \n  File , line 0, in MATLABbatch system\nJob execution failed. The full log of this run can be found in MATLAB command window, starting with the lines (look for the line showing the exact #job as displayed in this error message)\n------------------ \nRunning job #1\n------------------\n\n"
     ]
    }
   ],
   "source": [
    "def invert_multisurface(ds_path, mat_file_path, parasite, an_name=\"multilayer-11\", layers=11):\n",
    "    input_path = Path(mat_file_path)\n",
    "    # input_path.stem, input_path.parent, input_path.name\n",
    "    # op.join(input_path.parent, \"res_\" + input_path.stem + \".tsv\")\n",
    "    bits = input_path.name.split(\"_\")[-1].split(\"-\")\n",
    "    sub = \"-\".join([bits[1], bits[2]])\n",
    "    ses = \"-\".join([bits[3], bits[4]])\n",
    "    run = bits[5]\n",
    "    epo = bits[6]\n",
    "    output_path = str(input_path.parent)\n",
    "    mu_file = op.join(input_path.parent, \"{}_MU_\".format(an_name) + input_path.stem + \".tsv\")\n",
    "    it_file = op.join(input_path.parent, \"{}_IT_\".format(an_name) + input_path.stem + \".tsv\")\n",
    "    res_file = op.join(input_path.parent, \"{}_res_\".format(an_name) + input_path.stem + \".tsv\")\n",
    "    json_out_file = op.join(input_path.parent, \"{}_invert-res_\".format(an_name) + input_path.stem + \".json\")\n",
    "    \n",
    "    parasite.invert_multisurface(\n",
    "        str(ds_path), output_path, sub, ses, run, mat_file_path, \n",
    "        mu_file, it_file, res_file, json_out_file, \n",
    "        an_name, layers, epo, nargout=0\n",
    "    )\n",
    "    return sub, ses, run, bits, mu_file, it_file, mu_file, json_out_file\n",
    "\n",
    "print(invert_multisurface(ds_path, mat_paths[0], parasite))"
   ]
  },
  {
   "cell_type": "code",
   "execution_count": null,
   "id": "78474b3d-1b23-4fb8-9ed4-d9b26e5b1020",
   "metadata": {},
   "outputs": [],
   "source": []
  }
 ],
 "metadata": {
  "kernelspec": {
   "display_name": "Python 3",
   "language": "python",
   "name": "python3"
  },
  "language_info": {
   "codemirror_mode": {
    "name": "ipython",
    "version": 3
   },
   "file_extension": ".py",
   "mimetype": "text/x-python",
   "name": "python",
   "nbconvert_exporter": "python",
   "pygments_lexer": "ipython3",
   "version": "3.6.13"
  }
 },
 "nbformat": 4,
 "nbformat_minor": 5
}
