{
 "cells": [
  {
   "cell_type": "code",
   "execution_count": 137,
   "id": "7fdfe5cf",
   "metadata": {},
   "outputs": [],
   "source": [
    "import pandas as pd\n",
    "import os.path as op\n",
    "from os import sep\n",
    "import nibabel as nb\n",
    "import numpy as np\n",
    "import json\n",
    "import trimesh\n",
    "import open3d as o3d\n",
    "import matplotlib.pylab as plt\n",
    "from matplotlib import cm, colors\n",
    "from utilities import files\n",
    "import new_files\n",
    "import tqdm.auto as tqdm\n",
    "from copy import copy\n",
    "from sklearn.cluster import KMeans\n",
    "from sklearn.decomposition import PCA\n",
    "from sklearn.preprocessing import StandardScaler, RobustScaler, minmax_scale\n",
    "from sklearn.manifold import MDS\n",
    "from scipy.spatial.distance import euclidean\n",
    "from brain_tools import *"
   ]
  },
  {
   "cell_type": "code",
   "execution_count": 138,
   "id": "557c01e1",
   "metadata": {},
   "outputs": [],
   "source": [
    "dataset_location = \"/home/common/bonaiuto/multiburst/derivatives/processed\"\n",
    "epoch_types = {\n",
    "    \"visual\": [np.linspace(-0.2, 0.8, num=601), [0.0, 0.2], -0.01],\n",
    "    \"motor\": [np.linspace(-0.5, 0.5, num=601), [-0.2, 0.2], -0.2]\n",
    "}"
   ]
  },
  {
   "cell_type": "code",
   "execution_count": 139,
   "id": "53fca7fd-9185-4a6c-9cbf-6c37ee316120",
   "metadata": {},
   "outputs": [],
   "source": [
    "def plot_csd(smooth_csd, list_ROI_vertices, bb_path, times, ax, cb=True, cmap=\"RdBu_r\", vmin_vmax=None):\n",
    "    layer_labels = [\"I\", \"II\", \"III\", \"IV\", \"V\", \"VI\"]\n",
    "    with open(bb_path, \"r\") as fp:\n",
    "        bb = json.load(fp)\n",
    "    bb = [np.array(bb[i])[list_ROI_vertices] for i in bb.keys()]\n",
    "    bb_mean = [np.mean(i) for i in bb]\n",
    "    bb_std = [np.std(i) for i in bb]\n",
    "    max_smooth = np.max(np.abs(smooth_csd))\n",
    "    if vmin_vmax == None:\n",
    "        divnorm = colors.TwoSlopeNorm(vmin=-max_smooth, vcenter=0, vmax=max_smooth)\n",
    "    else:\n",
    "        divnorm = colors.TwoSlopeNorm(vmin=vmin_vmax[0], vcenter=0, vmax=vmin_vmax[1])\n",
    "    extent = [times[0], times[-1], 1, 0]\n",
    "    csd_imshow = ax.imshow(\n",
    "        smooth_csd, norm=divnorm, origin=\"lower\",\n",
    "        aspect=\"auto\", extent=extent,\n",
    "        cmap=cmap\n",
    "    )\n",
    "    ax.set_ylim(1,0)\n",
    "    for l_ix, th in enumerate(np.cumsum(bb_mean)):\n",
    "            ax.axhline(th, linestyle=(0, (5,5)), c=\"black\", lw=0.5)\n",
    "            ax.axhspan(th-bb_std[l_ix], th+bb_std[l_ix], alpha=0.05, color=\"black\", lw=0)\n",
    "            ax.annotate(layer_labels[l_ix],[times[0]+0.01, th-0.01],size=15)\n",
    "    if cb:\n",
    "        plt.colorbar(csd_imshow, ax=ax)\n",
    "    plt.tight_layout()"
   ]
  },
  {
   "cell_type": "code",
   "execution_count": 140,
   "id": "b4e78501-ee83-422a-ac9f-27467196e6e6",
   "metadata": {},
   "outputs": [],
   "source": [
    "dir_search = new_files.Files()"
   ]
  },
  {
   "cell_type": "code",
   "execution_count": 141,
   "id": "071564bc-7ed4-401b-92be-a0e305061437",
   "metadata": {},
   "outputs": [],
   "source": [
    "csd_files = dir_search.get_files(\n",
    "    dataset_location, \"*.npy\", prefix=\"time_CSD_autoreject\"\n",
    ")\n",
    "\n",
    "json_files = dir_search.get_files(\n",
    "    dataset_location, \"*.json\", prefix=\"info\"\n",
    ")\n",
    "\n",
    "info_dict = {}\n",
    "for i in json_files:\n",
    "    sub = i.split(sep)[-3]\n",
    "    with open(i, \"r\") as fp:\n",
    "        info_dict[sub] = json.load(fp)"
   ]
  },
  {
   "cell_type": "code",
   "execution_count": 166,
   "id": "56116f95-f777-4f04-ba12-d5396f3260a1",
   "metadata": {},
   "outputs": [],
   "source": [
    "csd_file = csd_files[1]\n",
    "epoch_type = [i for i in epoch_types.keys() if i in csd_file][0]\n",
    "subject = csd_file.split(sep)[-4]\n",
    "core_name = csd_file.split(sep)[-1].split(\"_\")[-1].split(\".\")[0]\n",
    "info = info_dict[subject]\n",
    "atlas = pd.read_csv(info[\"atlas\"])\n",
    "atlas_labels = np.load(info[\"atlas_colors_path\"])\n",
    "visual_ROI = atlas.loc[(atlas.PRIMARY_SECTION == 1)].USED_LABEL.values\n",
    "visual_ROI = np.hstack([visual_ROI, [i for i in atlas.USED_LABEL.values if \"_MT_\" in i]])\n",
    "sensorimotor_ROI = atlas.loc[(atlas.PRIMARY_SECTION == 6)].USED_LABEL.values\n",
    "ROI_labels = np.hstack([visual_ROI, sensorimotor_ROI])\n",
    "vertex_num = np.arange(atlas_labels.shape[0])\n",
    "ROI_vertices = {i: vertex_num[[i == al.decode(\"utf=8\") for al in atlas_labels]] for i in ROI_labels}\n",
    "times, pca_sel, baseline_lim = epoch_types[epoch_type]"
   ]
  },
  {
   "cell_type": "code",
   "execution_count": 176,
   "id": "f234a489-2844-40e0-bec1-89371662127d",
   "metadata": {},
   "outputs": [
    {
     "data": {
      "text/plain": [
       "array(['L_4_ROI', 'L_3b_ROI', 'L_1_ROI', 'L_2_ROI', 'L_3a_ROI', 'R_4_ROI',\n",
       "       'R_3b_ROI', 'R_1_ROI', 'R_2_ROI', 'R_3a_ROI'], dtype=object)"
      ]
     },
     "execution_count": 176,
     "metadata": {},
     "output_type": "execute_result"
    }
   ],
   "source": [
    "sensorimotor_ROI = [\"L_4_ROI\", \"R_4_ROI\"]"
   ]
  },
  {
   "cell_type": "code",
   "execution_count": 167,
   "id": "054f082a-79b9-46a1-a992-940d0ccb1299",
   "metadata": {},
   "outputs": [],
   "source": [
    "csd_data = np.load(csd_file)\n",
    "true_CSD = {}\n",
    "for l in ROI_labels:\n",
    "    true_CSD[l] = []\n",
    "    for rv in ROI_vertices[l]:\n",
    "        true_CSD[l].append(csd_data[rv, :, :])\n",
    "true_CSD = {i: np.array(true_CSD[i]) for i in ROI_labels}"
   ]
  },
  {
   "cell_type": "code",
   "execution_count": 168,
   "id": "57681955-66ff-4417-b371-3fd239d67cd7",
   "metadata": {},
   "outputs": [],
   "source": [
    "pca_time_sel = np.where((times >= pca_sel[0]) & (times <= pca_sel[1]))[0]\n",
    "pca_csd_dataset = {i: true_CSD[i][:,:, pca_time_sel].reshape(true_CSD[i].shape[0], -1) for i in ROI_labels}"
   ]
  },
  {
   "cell_type": "code",
   "execution_count": 169,
   "id": "adcd424f-19d7-4876-addc-dbd8d06cac8e",
   "metadata": {
    "scrolled": true
   },
   "outputs": [],
   "source": [
    "rows = int(len(ROI_labels)/2)\n",
    "f, ax = plt.subplots(rows, 2, figsize=(15, 3*rows), facecolor=\"white\")\n",
    "f.suptitle(\"RAW\")\n",
    "ax = ax.flatten()\n",
    "for roi_ix, roi in enumerate(ROI_labels):\n",
    "    ax[roi_ix].set_title(\"{}; {} vertices\".format(roi, ROI_vertices[roi].shape[0]))\n",
    "    ax[roi_ix].plot(pca_csd_dataset[roi].T)\n",
    "plt.tight_layout()\n",
    "plt.savefig(\"/home/mszul/git/DANC_multilayer_laminar/output/{}_raw_csd.png\".format(core_name), dpi=300)\n",
    "plt.close(f)\n",
    "f, ax = plt.subplots(rows, 2, figsize=(15, 3*rows), facecolor=\"white\")\n",
    "f.suptitle(\"CLEANED\")\n",
    "ax = ax.flatten()\n",
    "ROI_outlier_map = {}\n",
    "for roi_ix, roi in enumerate(ROI_labels):\n",
    "    metric = pca_csd_dataset[roi].std(axis=1)\n",
    "    nan_map = np.isnan(metric)\n",
    "    minmax = np.percentile(metric[~nan_map], 0.005), np.percentile(metric[~nan_map], 99.995)\n",
    "    outlier_map = metric > minmax[1] + minmax[1] * 0.000\n",
    "    unwanted_map = nan_map | outlier_map\n",
    "    ax[roi_ix].set_title(\"{}; {} vertices; {} NaNs and {} outliers removed\".format(roi, ROI_vertices[roi].shape[0], sum(nan_map), sum(outlier_map)))\n",
    "    ax[roi_ix].plot(pca_csd_dataset[roi][~unwanted_map].T)\n",
    "    ROI_outlier_map[roi] = unwanted_map\n",
    "\n",
    "plt.savefig(\"/home/mszul/git/DANC_multilayer_laminar/output/{}_cleaned_csd.png\".format(core_name), dpi=300)\n",
    "plt.close(f)"
   ]
  },
  {
   "cell_type": "code",
   "execution_count": 170,
   "id": "cef6044a-4422-43c3-ad76-3431aa96f5fb",
   "metadata": {},
   "outputs": [],
   "source": [
    "PCA_results = {}\n",
    "for roi_ix, roi in enumerate(ROI_labels):\n",
    "    ds = pca_csd_dataset[roi][~ROI_outlier_map[roi]]\n",
    "    scaler = RobustScaler()\n",
    "    ds = scaler.fit_transform(ds)\n",
    "    pca = PCA(n_components=30)\n",
    "    ds_pca = pca.fit_transform(ds)\n",
    "    \n",
    "    PCA_results[roi] = [ds_pca, pca.components_, pca.explained_variance_ratio_]"
   ]
  },
  {
   "cell_type": "code",
   "execution_count": 171,
   "id": "d1e99491-e5f3-4ead-b626-5e21e3174700",
   "metadata": {},
   "outputs": [],
   "source": [
    "rows = int(len(ROI_labels)/2)\n",
    "f, ax = plt.subplots(rows, 2, figsize=(20, 4*rows), facecolor=\"white\")\n",
    "f.suptitle(\"VAR_EXP_RATIOS\")\n",
    "ax = ax.flatten()\n",
    "for roi_ix, roi in enumerate(ROI_labels):\n",
    "    ax[roi_ix].bar(np.arange(1, PCA_results[roi][2].shape[0]+1), PCA_results[roi][2]);\n",
    "    ax[roi_ix].set_title(roi)\n",
    "plt.tight_layout()\n",
    "plt.savefig(\"/home/mszul/git/DANC_multilayer_laminar/output/{}_var_exp_ratio.png\".format(core_name), dpi=300)\n",
    "plt.close(f)"
   ]
  },
  {
   "cell_type": "code",
   "execution_count": 172,
   "id": "9d22542a-6bfd-4095-a7e3-5fd12799f8a4",
   "metadata": {},
   "outputs": [],
   "source": [
    "rows = len(ROI_labels)\n",
    "f, ax = plt.subplots(rows, 4, figsize=(20, 4*rows), facecolor=\"white\")\n",
    "for row, roi in enumerate(ROI_labels):\n",
    "    ax[row, 0].set_ylabel(roi)\n",
    "    for column in range(4):\n",
    "        ax[0, column].set_title(\"PC {}\".format(column+1))\n",
    "        eigenvector_csd = smooth_csd(np.array(np.split(PCA_results[roi][1][column], info[\"n_surf\"])), info[\"n_surf\"])\n",
    "        plot_csd(\n",
    "            eigenvector_csd, ROI_vertices[roi], info[\"big_brain_layers_path\"], \n",
    "            times[pca_time_sel], ax[row, column], cmap=\"viridis\"\n",
    "        )\n",
    "plt.tight_layout()\n",
    "plt.savefig(\"/home/mszul/git/DANC_multilayer_laminar/output/{}_CSD_smooth_eigenvectors.png\".format(core_name), dpi=300)\n",
    "plt.close(f)"
   ]
  },
  {
   "cell_type": "code",
   "execution_count": 173,
   "id": "9a515857-0dcb-4f11-8064-27485014dead",
   "metadata": {},
   "outputs": [],
   "source": [
    "SMOOTH_CSD = {}\n",
    "for l in ROI_labels:\n",
    "    SMOOTH_CSD[l] = []\n",
    "    for rv in ROI_vertices[l]:\n",
    "        SMOOTH_CSD[l].append(smooth_csd(csd_data[rv, :, :], info[\"n_surf\"]))\n",
    "        \n",
    "for l in ROI_labels:\n",
    "    SMOOTH_CSD[l] = np.array(SMOOTH_CSD[l])[~ROI_outlier_map[l]]"
   ]
  },
  {
   "cell_type": "code",
   "execution_count": 174,
   "id": "cfdd3eed-2b6b-4483-b223-76856d39a3c4",
   "metadata": {},
   "outputs": [],
   "source": [
    "pc_comp = 0\n",
    "n_bins = 100\n",
    "PRC_ROI_CSD = {}\n",
    "COLOR_MAP_ROI = {}\n",
    "SC_LOG_ROI = {}\n",
    "for l in ROI_labels:\n",
    "    prc = np.linspace(0, 100, num=21)\n",
    "    prc_bounds = list(zip(prc[:-1], prc[1:]))\n",
    "    csd_bounds = []\n",
    "    sc_log = np.log10(np.abs(PCA_results[l][0][:, pc_comp]))\n",
    "    sc_log = sc_log - np.median(sc_log)\n",
    "    SC_LOG_ROI[l] = sc_log\n",
    "    sc_log = PCA_results[l][0][:, pc_comp]\n",
    "    for ix, pb in enumerate(prc_bounds):\n",
    "        bounds = [np.percentile(sc_log, i) for i in pb]\n",
    "        pr_mask = np.where((sc_log >= bounds[0]) & (sc_log < bounds[1]))[0]\n",
    "        mean_smooth_csd = np.mean(SMOOTH_CSD[l][pr_mask], axis=0)\n",
    "        baseline = np.mean(mean_smooth_csd[:, np.where(times < baseline_lim)], axis=2)\n",
    "        csd_bounds.append(mean_smooth_csd - baseline)\n",
    "    csd_bounds = np.array(csd_bounds)\n",
    "    PRC_ROI_CSD[l] = csd_bounds\n",
    "    COLOR_MAP_ROI[l] = data_to_rgb(\n",
    "        sc_log, n_bins, \"afmhot_r\", np.percentile(sc_log, 50), \n",
    "        np.percentile(sc_log, 100), vcenter=np.percentile(sc_log, 75)\n",
    "    )\n",
    "\n",
    "for l in ROI_labels:\n",
    "    v_mm = [PRC_ROI_CSD[l].min(), PRC_ROI_CSD[l].max()]\n",
    "    f, ax = plt.subplots(5,4, figsize=(18, 20), facecolor=\"white\")\n",
    "    ax = ax.flatten()\n",
    "    for ix, pb in enumerate(prc_bounds):\n",
    "        ax[ix].set_title(\"{} - {} percentile\".format(*pb))\n",
    "        plot_csd(\n",
    "            PRC_ROI_CSD[l][ix], ROI_vertices[l], info[\"big_brain_layers_path\"],\n",
    "            times, ax[ix], vmin_vmax=v_mm\n",
    "        )\n",
    "    f.suptitle(l, y=1.01)\n",
    "    plt.tight_layout()\n",
    "    plt.savefig(\"/home/mszul/git/DANC_multilayer_laminar/output/{}_PC_{}_{}_CSD_mean_baseline.png\".format(core_name, str(pc_comp+1).zfill(2), l), dpi=300)\n",
    "    plt.close(f)"
   ]
  },
  {
   "cell_type": "code",
   "execution_count": 175,
   "id": "4366efb1-601f-48bc-8fca-0ba04f720a5c",
   "metadata": {},
   "outputs": [],
   "source": [
    "f, ax = plt.subplots(len(ROI_labels), 1, figsize=(10, 4*len(ROI_labels)), facecolor=\"white\")\n",
    "ax = ax.flatten()\n",
    "n_bins = 100\n",
    "for xix, l in enumerate(ROI_labels):\n",
    "    sc_log = SC_LOG_ROI[l]\n",
    "    datacolors, mappable = data_to_rgb(\n",
    "        sc_log, n_bins, \"afmhot_r\", np.percentile(sc_log, 75), \n",
    "        np.percentile(sc_log, 100), vcenter=np.percentile(sc_log, 95), ret_map=True\n",
    "    )\n",
    "    hist, bins, barlist = ax[xix].hist(sc_log, bins=n_bins, edgecolor='black', linewidth=0.5)\n",
    "    for ix, xx in enumerate(barlist):\n",
    "        plt.setp(xx, \"facecolor\", mappable.to_rgba(bins[ix+1]))\n",
    "\n",
    "    for h in np.linspace(0, 100, num=21):\n",
    "        ax[xix].axvline(np.percentile(sc_log, h), lw=0.5, c=\"red\")\n",
    "    \n",
    "    ax[xix].set_title(\"ROI: {}\".format(l))\n",
    "plt.tight_layout()\n",
    "plt.savefig(\"/home/mszul/git/DANC_multilayer_laminar/output/{}_PC_{}_colormap.png\".format(core_name, str(pc_comp+1).zfill(2)), dpi=300)\n",
    "plt.close(f)"
   ]
  },
  {
   "cell_type": "code",
   "execution_count": null,
   "id": "18c99bc2-3a80-42e6-b722-e01d566f25f7",
   "metadata": {},
   "outputs": [],
   "source": []
  },
  {
   "cell_type": "code",
   "execution_count": null,
   "id": "aec0fff6-3f1f-49d0-abfa-4ee7f802a4d0",
   "metadata": {},
   "outputs": [],
   "source": []
  }
 ],
 "metadata": {
  "kernelspec": {
   "display_name": "Python 3 (ipykernel)",
   "language": "python",
   "name": "python3"
  },
  "language_info": {
   "codemirror_mode": {
    "name": "ipython",
    "version": 3
   },
   "file_extension": ".py",
   "mimetype": "text/x-python",
   "name": "python",
   "nbconvert_exporter": "python",
   "pygments_lexer": "ipython3",
   "version": "3.9.7"
  }
 },
 "nbformat": 4,
 "nbformat_minor": 5
}
