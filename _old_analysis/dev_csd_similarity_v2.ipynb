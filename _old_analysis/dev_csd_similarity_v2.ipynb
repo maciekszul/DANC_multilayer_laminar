{
 "cells": [
  {
   "cell_type": "code",
   "execution_count": 1,
   "id": "75110d6e",
   "metadata": {},
   "outputs": [
    {
     "name": "stdout",
     "output_type": "stream",
     "text": [
      "Jupyter environment detected. Enabling Open3D WebVisualizer.\n",
      "[Open3D INFO] WebRTC GUI backend enabled.\n",
      "[Open3D INFO] WebRTCWindowSystem: HTTP handshake server disabled.\n"
     ]
    }
   ],
   "source": [
    "import pandas as pd\n",
    "import os.path as op\n",
    "import nibabel as nb\n",
    "import numpy as np\n",
    "import json\n",
    "import trimesh\n",
    "import open3d as o3d\n",
    "from tools import smooth_csd\n",
    "import matplotlib.pylab as plt\n",
    "from matplotlib import cm, colors\n",
    "from utilities import files\n",
    "import tqdm.auto as tqdm\n",
    "from copy import copy\n",
    "from sklearn.cluster import KMeans\n",
    "from sklearn.decomposition import PCA\n",
    "from sklearn.preprocessing import StandardScaler, RobustScaler\n",
    "from sklearn.manifold import MDS"
   ]
  },
  {
   "cell_type": "code",
   "execution_count": 2,
   "id": "b7754874",
   "metadata": {},
   "outputs": [],
   "source": [
    "import warnings\n",
    "warnings.filterwarnings(\"ignore\")"
   ]
  },
  {
   "cell_type": "code",
   "execution_count": 3,
   "id": "674fd05a",
   "metadata": {},
   "outputs": [],
   "source": [
    "def plot_csd(smooth_csd, list_ROI_vertices, bb_path, times, ax, cb=True):\n",
    "    layer_labels = [\"I\", \"II\", \"III\", \"IV\", \"V\", \"VI\"]\n",
    "    with open(bb_path, \"r\") as fp:\n",
    "        bb = json.load(fp)\n",
    "    bb = [np.array(bb[i])[list_ROI_vertices] for i in bb.keys()]\n",
    "    bb_mean = [np.mean(i) for i in bb]\n",
    "    bb_std = [np.std(i) for i in bb]\n",
    "    max_smooth = np.max(np.abs(smooth_csd))\n",
    "    divnorm = colors.TwoSlopeNorm(vmin=-max_smooth, vcenter=0, vmax=max_smooth)\n",
    "    extent = [times[0], times[-1], 1, 0]\n",
    "    csd_imshow = ax.imshow(\n",
    "        smooth_csd, norm=divnorm, origin=\"lower\",\n",
    "        aspect=\"auto\", extent=extent,\n",
    "        cmap=\"RdBu_r\"\n",
    "    )\n",
    "    ax.set_ylim(1,0)\n",
    "    for l_ix, th in enumerate(np.cumsum(bb_mean)):\n",
    "            ax.axhline(th, linestyle=(0, (5,5)), c=\"black\", lw=0.5)\n",
    "            ax.axhspan(th-bb_std[l_ix], th+bb_std[l_ix], alpha=0.05, color=\"black\", lw=0)\n",
    "            ax.annotate(layer_labels[l_ix],[times[0]+0.01, th-0.01],size=15)\n",
    "    if cb:\n",
    "        plt.colorbar(csd_imshow, ax=ax)\n",
    "    plt.tight_layout()\n"
   ]
  },
  {
   "cell_type": "code",
   "execution_count": 4,
   "id": "070ea56e",
   "metadata": {},
   "outputs": [],
   "source": [
    "def data_to_rgb(data, n_bins, cmap, vmin, vmax, vcenter=0, ret_map=False):\n",
    "    divnorm = colors.TwoSlopeNorm(vmin=vmin, vcenter=vcenter, vmax=vmax)\n",
    "    c = cm.ScalarMappable(divnorm, cmap=cmap)\n",
    "    bins = np.histogram_bin_edges(data, bins=n_bins)\n",
    "    bin_ranges = list(zip(bins[:-1], bins[1:]))\n",
    "    colour_mapped = np.zeros((data.shape[0], 4))\n",
    "    for br_ix, br in enumerate(bin_ranges):\n",
    "        map_c = (data >= br[0]) & (data < br[1])\n",
    "        colour_mapped[map_c,:] = c.to_rgba(bins[1:][br_ix])\n",
    "    if not ret_map:\n",
    "        return colour_mapped\n",
    "    elif ret_map:\n",
    "        return colour_mapped, c"
   ]
  },
  {
   "cell_type": "code",
   "execution_count": 5,
   "id": "108d2b7c",
   "metadata": {},
   "outputs": [],
   "source": [
    "info_path = \"/home/common/bonaiuto/multiburst/derivatives/processed/sub-001/multilayer_11/info.json\"\n",
    "with open(info_path, \"r\") as fp:\n",
    "    info = json.load(fp)"
   ]
  },
  {
   "cell_type": "code",
   "execution_count": 6,
   "id": "03728627",
   "metadata": {},
   "outputs": [
    {
     "data": {
      "text/plain": [
       "dict_keys(['dataset_dir', 'which_dataset', 'anatomy_dir', 'annot_paths', 'fsavg_sphere_paths', 'atlas', 'subject_info', 'freesurfer_singularity', 'big_brain_path', 'fsnat_sphere_paths', 'subject_path', 'pial', 'white', 'pial_ds', 'white_ds', 'pial_ds_nodeep', 'white_ds_nodeep', 'pial_ds_nodeep_inflated', 'multilayer', 'n_surf', 'atlas_labels_path', 'atlas_colors_path', 'cortical_thickness_path', 'big_brain_layers_path', 'sensor_epochs_paths', 'MU_paths'])"
      ]
     },
     "execution_count": 6,
     "metadata": {},
     "output_type": "execute_result"
    }
   ],
   "source": [
    "info.keys()"
   ]
  },
  {
   "cell_type": "code",
   "execution_count": 7,
   "id": "59ade28d",
   "metadata": {},
   "outputs": [],
   "source": [
    "atlas = pd.read_csv(info[\"atlas\"])\n",
    "atlas_labels = np.load(info[\"atlas_colors_path\"])\n",
    "\n",
    "csd_files = files.get_files(\n",
    "    op.join(info[\"subject_path\"], \"inverted\"),\n",
    "    \"time_CSD\", \"npy\"\n",
    ")[2]"
   ]
  },
  {
   "cell_type": "code",
   "execution_count": 8,
   "id": "79ae1978",
   "metadata": {},
   "outputs": [],
   "source": [
    "times = {\n",
    "    \"visual\": np.linspace(-0.2, 0.8, num=601),\n",
    "    \"motor\": np.linspace(-0.5, 0.5, num=601)\n",
    "}"
   ]
  },
  {
   "cell_type": "code",
   "execution_count": 9,
   "id": "da7fd744",
   "metadata": {},
   "outputs": [],
   "source": [
    "ROI_labels = [\"L_V1_ROI\", \"R_V1_ROI\"]\n",
    "total_ix = np.arange(atlas_labels.shape[0])\n",
    "ROI_vertices = {i: total_ix[[i == al.decode(\"utf=8\") for al in atlas_labels]] for i in ROI_labels}\n",
    "cds = np.load(csd_files[1])"
   ]
  },
  {
   "cell_type": "code",
   "execution_count": 10,
   "id": "c7bc621b",
   "metadata": {},
   "outputs": [],
   "source": [
    "true_CSD = {}\n",
    "for l in ROI_labels:\n",
    "    true_CSD[l] = []\n",
    "    for rv in ROI_vertices[l]:\n",
    "        true_CSD[l].append(cds[rv, :, :])"
   ]
  },
  {
   "cell_type": "code",
   "execution_count": 11,
   "id": "156eb821",
   "metadata": {},
   "outputs": [],
   "source": [
    "SMOOTH_CSD = {}\n",
    "for l in ROI_labels:\n",
    "    SMOOTH_CSD[l] = []\n",
    "    for rv in ROI_vertices[l]:\n",
    "        SMOOTH_CSD[l].append(smooth_csd(cds[rv, :, :], info[\"n_surf\"]))"
   ]
  },
  {
   "cell_type": "code",
   "execution_count": 12,
   "id": "f09dd1b5",
   "metadata": {},
   "outputs": [
    {
     "data": {
      "text/plain": [
       "(11, 601)"
      ]
     },
     "execution_count": 12,
     "metadata": {},
     "output_type": "execute_result"
    }
   ],
   "source": [
    "true_CSD[\"L_V1_ROI\"][0].shape"
   ]
  },
  {
   "cell_type": "code",
   "execution_count": 13,
   "id": "0911dbc2",
   "metadata": {},
   "outputs": [],
   "source": [
    "erp_ixs = np.where((times[\"visual\"] >= 0) & (times[\"visual\"] <= 0.2))[0]"
   ]
  },
  {
   "cell_type": "code",
   "execution_count": 14,
   "id": "177ee778",
   "metadata": {},
   "outputs": [],
   "source": [
    "csds = np.array([i[:, erp_ixs].flatten() for i in true_CSD[\"L_V1_ROI\"]])"
   ]
  },
  {
   "cell_type": "code",
   "execution_count": 15,
   "id": "0245f896",
   "metadata": {},
   "outputs": [],
   "source": [
    "vertices_with_inf = np.unique(np.where(np.isinf(csds) == True)[0])"
   ]
  },
  {
   "cell_type": "code",
   "execution_count": 16,
   "id": "45ec9a91",
   "metadata": {},
   "outputs": [],
   "source": [
    "csds[vertices_with_inf, : ] = 0"
   ]
  },
  {
   "cell_type": "code",
   "execution_count": 17,
   "id": "f98085f2",
   "metadata": {},
   "outputs": [],
   "source": [
    "scaler = RobustScaler()\n",
    "ds_01 = scaler.fit_transform(csds)\n",
    "pca = PCA(n_components=50)\n",
    "ds_01_pca = pca.fit_transform(ds_01)"
   ]
  },
  {
   "cell_type": "code",
   "execution_count": 18,
   "id": "85cf67d4",
   "metadata": {},
   "outputs": [
    {
     "data": {
      "text/plain": [
       "<BarContainer object of 50 artists>"
      ]
     },
     "execution_count": 18,
     "metadata": {},
     "output_type": "execute_result"
    },
    {
     "data": {
      "image/png": "[encoded data removed]",
      "text/plain": [
       "<Figure size 720x288 with 1 Axes>"
      ]
     },
     "metadata": {
      "needs_background": "light"
     },
     "output_type": "display_data"
    }
   ],
   "source": [
    "f, ax = plt.subplots(1, figsize=(10, 4))\n",
    "ax.bar(np.arange(pca.explained_variance_ratio_.shape[0]), pca.explained_variance_ratio_)"
   ]
  },
  {
   "cell_type": "code",
   "execution_count": 51,
   "id": "86471239",
   "metadata": {},
   "outputs": [
    {
     "data": {
      "text/plain": [
       "<matplotlib.collections.PathCollection at 0x7f941c411a90>"
      ]
     },
     "execution_count": 51,
     "metadata": {},
     "output_type": "execute_result"
    },
    {
     "data": {
      "image/png": "[encoded data removed]",
      "text/plain": [
       "<Figure size 720x720 with 1 Axes>"
      ]
     },
     "metadata": {
      "needs_background": "light"
     },
     "output_type": "display_data"
    },
    {
     "data": {
      "image/png": "[encoded data removed]",
      "text/plain": [
       "<Figure size 720x720 with 1 Axes>"
      ]
     },
     "metadata": {
      "needs_background": "light"
     },
     "output_type": "display_data"
    }
   ],
   "source": [
    "f, ax = plt.subplots(1, figsize=(10,10))\n",
    "ax.scatter(ds_01_pca[:,0], ds_01_pca[:,1])\n",
    "\n",
    "prc_0 = (np.percentile(ds_01_pca[:,0], 1), np.percentile(ds_01_pca[:,0], 99))\n",
    "prc_0_ix = np.where((ds_01_pca[:,0] >= prc_0[0]) & (ds_01_pca[:,0] <= prc_0[1]))[0]\n",
    "\n",
    "prc_1 = (np.percentile(ds_01_pca[:,1], 1), np.percentile(ds_01_pca[:,1], 99))\n",
    "prc_1_ix = np.where((ds_01_pca[:,1] >= prc_1[0]) & (ds_01_pca[:,1] <= prc_1[1]))[0]\n",
    "\n",
    "mask = np.ones(ds_01_pca[:,0].shape)\n",
    "mask[np.intersect1d(prc_0_ix, prc_1_ix)] = 0\n",
    "mask[[1,4]] = 0\n",
    "mask = mask.astype(bool)\n",
    "f, ax = plt.subplots(1, figsize=(10,10))\n",
    "ax.scatter(ds_01_pca[:,0][~mask], ds_01_pca[:,1][~mask])"
   ]
  },
  {
   "cell_type": "code",
   "execution_count": 77,
   "id": "a432c52f",
   "metadata": {},
   "outputs": [
    {
     "data": {
      "image/png": "[encoded data removed]",
      "text/plain": [
       "<Figure size 720x288 with 1 Axes>"
      ]
     },
     "metadata": {
      "needs_background": "light"
     },
     "output_type": "display_data"
    }
   ],
   "source": [
    "dt_01 = ds_01_pca[:,0][~mask] - np.mean(ds_01_pca[:,0][~mask])\n",
    "n_bins = 100\n",
    "x, c = data_to_rgb(dt_01, n_bins,  \"Spectral\", -30, 30, ret_map=True)\n",
    "f, ax = plt.subplots(1, figsize=(10, 4))\n",
    "hist, bins, barlist = ax.hist(dt_01, bins=n_bins)\n",
    "for ix, xx in enumerate(barlist):\n",
    "    plt.setp(xx, \"facecolor\", c.to_rgba(bins[ix+1]))"
   ]
  },
  {
   "cell_type": "code",
   "execution_count": 78,
   "id": "b428d235",
   "metadata": {},
   "outputs": [],
   "source": [
    "data_colour_map = np.repeat(np.array([[0, 1, 0.224]]), ds_01_pca[:,0].shape[0], axis=0)\n",
    "data_colour_map[~mask] = x[:,:3]"
   ]
  },
  {
   "cell_type": "code",
   "execution_count": 86,
   "id": "0b29ef9c",
   "metadata": {},
   "outputs": [],
   "source": [
    "gray = np.array([0.5, 0.5, 0.5])\n",
    "brain = nb.load(info[\"pial_ds_nodeep_inflated\"])\n",
    "vertices, faces = brain.agg_data()\n",
    "colours = np.repeat(gray.reshape(1,-1), vertices.shape[0], axis=0)\n",
    "for ix, v in enumerate(ROI_vertices[\"L_V1_ROI\"]):\n",
    "    colours[v] = data_colour_map[ix][:3]\n",
    "\n",
    "# gray = np.array([0.5, 0.5, 0.5])\n",
    "# brain = nb.load(info[\"pial_ds_nodeep\"])\n",
    "# vertices, faces, normals = brain.agg_data()\n",
    "# colours = np.repeat(gray.reshape(1,-1), vertices.shape[0], axis=0)\n",
    "# for ix, v in enumerate(ROI_vertices[\"L_V1_ROI\"]):\n",
    "#     colours[v] = data_colour_map[ix][:3]"
   ]
  },
  {
   "cell_type": "code",
   "execution_count": null,
   "id": "d28cf075",
   "metadata": {},
   "outputs": [],
   "source": [
    "mesh = trimesh.Trimesh(vertices=vertices, faces=faces, process=False, validate=False)\n",
    "mesh = mesh.as_open3d\n",
    "mesh.compute_vertex_normals(normalized=True)\n",
    "mesh.vertex_colors = o3d.utility.Vector3dVector(colours)\n",
    "vxmask = np.array([i.decode(\"utf=8\")[0] == \"R\" for i in atlas_labels]) | np.array([i.decode(\"utf=8\")[0] == \"?\" for i in atlas_labels])\n",
    "mesh.remove_vertices_by_mask(vxmask)\n",
    "o3d.visualization.draw_geometries([mesh], mesh_show_back_face=True)"
   ]
  },
  {
   "cell_type": "code",
   "execution_count": 46,
   "id": "a6aa29eb",
   "metadata": {},
   "outputs": [],
   "source": [
    "smooth_csds = np.array(SMOOTH_CSD[\"L_V1_ROI\"])"
   ]
  },
  {
   "cell_type": "code",
   "execution_count": null,
   "id": "922f4dc0",
   "metadata": {
    "scrolled": true
   },
   "outputs": [],
   "source": [
    "# score_pc1 = ds_01_pca[:,0] - np.mean(ds_01_pca[:,0][~mask])\n",
    "\n",
    "# for bnd in bounds:\n",
    "#     mask_s = np.where((score_pc1 >= bnd[0]) & (score_pc1 < bnd[1]))[0]\n",
    "#     f, ax = plt.subplots(1, figsize=(10, 10))\n",
    "#     ax.set_title(\"{} - {} pca score\".format(*np.round(bnd, 2)))\n",
    "#     cssd = np.mean(smooth_csds[mask_s], axis=0)\n",
    "#     baseline = np.mean(cssd[:, np.where(times[\"visual\"] < -0.01)], axis=2)\n",
    "#     plot_csd(\n",
    "#         cssd - baseline, ROI_vertices[\"L_V1_ROI\"],\n",
    "#         info[\"big_brain_layers_path\"], times[\"visual\"], ax\n",
    "#     )"
   ]
  },
  {
   "cell_type": "code",
   "execution_count": null,
   "id": "23bdcf0f",
   "metadata": {},
   "outputs": [],
   "source": [
    "pca = PCA(n_components=50)\n",
    "ds_02_pca = pca.fit_transform(ds_01[~mask])"
   ]
  },
  {
   "cell_type": "code",
   "execution_count": null,
   "id": "bdf1717c",
   "metadata": {},
   "outputs": [],
   "source": []
  }
 ],
 "metadata": {
  "kernelspec": {
   "display_name": "Python 3 (ipykernel)",
   "language": "python",
   "name": "python3"
  },
  "language_info": {
   "codemirror_mode": {
    "name": "ipython",
    "version": 3
   },
   "file_extension": ".py",
   "mimetype": "text/x-python",
   "name": "python",
   "nbconvert_exporter": "python",
   "pygments_lexer": "ipython3",
   "version": "3.9.7"
  }
 },
 "nbformat": 4,
 "nbformat_minor": 5
}
