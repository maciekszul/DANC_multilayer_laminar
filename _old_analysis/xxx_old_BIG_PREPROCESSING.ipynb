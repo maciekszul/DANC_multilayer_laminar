{
 "cells": [
  {
   "cell_type": "code",
   "execution_count": 1,
   "id": "8f060b6c-2012-4c56-86a4-638634f8c1e8",
   "metadata": {},
   "outputs": [],
   "source": [
    "import numpy as np\n",
    "import pandas as pd\n",
    "import trimesh\n",
    "import slam.io as sio\n",
    "import nibabel as nib\n",
    "from mne import read_epochs\n",
    "from mne.channels import read_layout\n",
    "from freesurfer_tools import transform_atlas, fsavg_vals_to_native\n",
    "import matplotlib\n",
    "matplotlib.use(\"Qt5Agg\")\n",
    "from matplotlib import cm, colors\n",
    "import matplotlib.pylab as plt\n",
    "import new_files\n",
    "files = new_files.Files()\n",
    "from sklearn.preprocessing import minmax_scale\n",
    "from scipy.interpolate import interp2d, interp1d\n",
    "from scipy.spatial.distance import euclidean\n",
    "from scipy.signal import savgol_filter"
   ]
  },
  {
   "cell_type": "code",
   "execution_count": 2,
   "id": "9abdb888-17ca-4856-a12b-c7ee8f0a41e5",
   "metadata": {},
   "outputs": [],
   "source": [
    "def compute_csd(surf_tcs, times, mean_dist, n_surfs):\n",
    "    # Compute CSD\n",
    "    nd=1;\n",
    "    spacing=mean_dist*10**-3\n",
    "\n",
    "    csd=np.zeros((n_surfs, surf_tcs.shape[1]))\n",
    "    for t in range(surf_tcs.shape[1]):\n",
    "        phi=surf_tcs[:,t]\n",
    "        csd[0,t]=surf_tcs[0,t]\n",
    "        csd[1,t]=surf_tcs[1,t]\n",
    "        for z in range(2,n_surfs-3):\n",
    "            csd[z,t]=(phi[z+2]-2*phi[z]+phi[z-2])/((nd*spacing)**2)\n",
    "        csd[-2,t]=surf_tcs[-2,t]\n",
    "        csd[-1,t]=surf_tcs[-1,t]            \n",
    "    \n",
    "    return csd\n",
    "\n",
    "def csd_layer(data, mean_distance, n_surfs, nd=1):\n",
    "    spacing = mean_distance*10*1e-3\n",
    "    output_shape = data.shape\n",
    "    csd = np.zeros(output_shape)\n",
    "    for t in range(output_shape[1]):\n",
    "        phi = data[:, t]\n",
    "        csd[0, t] = data[0, t]\n",
    "        csd[1, t] = data[1, t]\n",
    "        for z in range(2, n_surfs-3):\n",
    "            csd[z, t] = (phi[z+2]-2*phi[z-2])/((nd*spacing)**2)\n",
    "        csd[-2, t] = data[-2, t]\n",
    "        csd[-1, t] = data[-1, t]  \n",
    "    return csd\n",
    "\n",
    "\n",
    "def smooth_csd(csd, n_surfs):\n",
    "    # interpolate CSD in space\n",
    "    y = np.linspace(0,n_surfs-1,n_surfs)\n",
    "    Yi=np.linspace(0,n_surfs-1,500)\n",
    "    \n",
    "    f=interp1d(y,csd,kind='cubic',axis=0)\n",
    "    csd_smooth=f(Yi)\n",
    "    \n",
    "    csd_smooth=savgol_filter(csd_smooth, 51, 3, axis=1)\n",
    "    \n",
    "    return csd_smooth"
   ]
  },
  {
   "cell_type": "code",
   "execution_count": 3,
   "id": "c2a37dd2-5a5f-4241-8e35-a611043df64f",
   "metadata": {},
   "outputs": [],
   "source": [
    "def get_necessary_files(subject_id, dataset_path, *kwargs):\n",
    "    all_mu_files = files.get_files(dataset_path, \"*.tsv\", strings=[subject_id, *kwargs], prefix=\"multilayer_MU\")\n",
    "    all_epoch_files = files.get_files(dataset_path, \"*.fif\", strings=[subject_id, \"epo\", *kwargs], prefix=\"autoreject\")\n",
    "    \n",
    "    mu = [i.split(\"/\")[-1] for i in all_mu_files]\n",
    "    epo = [i.split(\"/\")[-1] for i in all_epoch_files]\n",
    "    mapx = [any([e[:-4] in m[:-4] for m in mu]) for e in epo]\n",
    "    all_epoch_files = np.array(all_epoch_files)[mapx].tolist()\n",
    "    \n",
    "    all_behav_files = files.get_files(dataset_path, \"*.csv\", strings=[subject_id, \"beh\", *kwargs], prefix=\"autoreject\")\n",
    "    all_pial_path = files.get_files(dataset_path, \"*.gii\")\n",
    "    fsnat_sphere_lh = [i for i in all_pial_path if files.check_many([subject_id, \"lh.sphere.reg.gii\"], i, func=\"all\")][0]\n",
    "    fsnat_sphere_rh = [i for i in all_pial_path if files.check_many([subject_id, \"rh.sphere.reg.gii\"], i, func=\"all\")][0]\n",
    "    fsnat_sphere_paths = [fsnat_sphere_lh, fsnat_sphere_rh]\n",
    "    pial_path = [i for i in all_pial_path if files.check_many([subject_id, \"/pial.gii\"], i, func=\"all\")][0]\n",
    "    pial_ds_path = [i for i in all_pial_path if files.check_many([subject_id, \"/pial.ds.gii\"], i, func=\"all\")][0]\n",
    "    pial_ds_nodeep = [i for i in all_pial_path if files.check_many([subject_id, \"pial.ds.link_vector.nodeep.gii\"], i, func=\"all\")][0]\n",
    "    white_ds_nodeep = [i for i in all_pial_path if files.check_many([subject_id, \"white.ds.link_vector.nodeep.gii\"], i, func=\"all\")][0]\n",
    "    pial_ds_inflated = [i for i in all_pial_path if files.check_many([subject_id, \"pial.ds.inflated.nodeep.gii\"], i, func=\"all\")][0]\n",
    "    return all_mu_files, all_epoch_files, all_behav_files, fsnat_sphere_paths, pial_path, pial_ds_path, pial_ds_nodeep, white_ds_nodeep, pial_ds_inflated"
   ]
  },
  {
   "cell_type": "code",
   "execution_count": 4,
   "id": "689e31ae-62b2-4123-a248-6bd7834161e2",
   "metadata": {},
   "outputs": [],
   "source": [
    "glasser = \"/home/mszul/git/DANC_multilayer_laminar/assets/atlas_glasser_2016.csv\"\n",
    "dataset_path = \"/home/common/bonaiuto/cued_action_meg/derivatives/processed/\"\n",
    "fsavg_sphere_paths = [\n",
    "    \"/home/mszul/git/DANC_multilayer_laminar/assets/lh.sphere.reg.gii\",\n",
    "    \"/home/mszul/git/DANC_multilayer_laminar/assets/rh.sphere.reg.gii\"\n",
    "]\n",
    "annot_paths = [\n",
    "    \"/home/mszul/git/DANC_multilayer_laminar/assets/lh.HCPMMP1.annot\",\n",
    "    \"/home/mszul/git/DANC_multilayer_laminar/assets/rh.HCPMMP1.annot\"\n",
    "]\n",
    "thicc_l_paths = files.get_files(\"/home/mszul/git/DANC_multilayer_laminar/assets/big_brain_layer_thickness\", \"*.gii\", strings=[\"hemi-L\"], prefix=\"tpl-fsaverage\")\n",
    "thicc_r_paths = files.get_files(\"/home/mszul/git/DANC_multilayer_laminar/assets/big_brain_layer_thickness\", \"*.gii\", strings=[\"hemi-R\"], prefix=\"tpl-fsaverage\")\n",
    "thicc_lr_paths = list(zip(thicc_l_paths, thicc_r_paths))"
   ]
  },
  {
   "cell_type": "code",
   "execution_count": 5,
   "id": "26ca4ae1-5633-4f12-acd3-162eadac9b2d",
   "metadata": {},
   "outputs": [],
   "source": [
    "layout = read_layout(\"/home/mszul/miniconda3/envs/mne/lib/python3.9/site-packages/mne/channels/data/layouts/CTF275.lay\")"
   ]
  },
  {
   "cell_type": "code",
   "execution_count": 6,
   "id": "828abab8-e85c-4561-a72f-c60c79aa8c99",
   "metadata": {},
   "outputs": [],
   "source": [
    "subjects = [\"sub-001\", \"sub-002\"]\n",
    "filtered = True"
   ]
  },
  {
   "cell_type": "code",
   "execution_count": 7,
   "id": "e6d7b815-615a-4aea-a61b-3d6f4fc27f49",
   "metadata": {},
   "outputs": [
    {
     "name": "stdout",
     "output_type": "stream",
     "text": [
      "['L_V1_ROI', 'L_MT_ROI', 'R_V1_ROI', 'R_MT_ROI']\n"
     ]
    }
   ],
   "source": [
    "atlas = pd.read_csv(glasser)\n",
    "target_labels = atlas[\n",
    "    (atlas.PRIMARY_SECTION == 1) | \n",
    "    (atlas.USED_LABEL == \"L_MT_ROI\") | \n",
    "    (atlas.USED_LABEL == \"R_MT_ROI\")\n",
    "].USED_LABEL.to_list()\n",
    "print(target_labels)"
   ]
  },
  {
   "cell_type": "code",
   "execution_count": 8,
   "id": "680d588d-d9e2-4fba-82e2-fcf4fd68c69d",
   "metadata": {},
   "outputs": [],
   "source": [
    "def calculate_brains(subject_id, dataset_path, output={}, ret=False):\n",
    "    output[subject_id] = {}\n",
    "    \n",
    "    [\n",
    "        all_mu_files, all_epoch_files, all_behav_files, \n",
    "        fsnat_sphere_paths, pial_path, pial_ds_path, \n",
    "        pial_ds_nodeep, white_ds_nodeep, pial_ds_inflated\n",
    "    ] = get_necessary_files(subject_id, dataset_path, \"visual1\")\n",
    "    \n",
    "    mesh_colors, lab_col_map = transform_atlas(annot_paths, fsavg_sphere_paths, fsnat_sphere_paths, pial_path, pial_ds_path, pial_ds_nodeep)\n",
    "    output[subject_id][\"mesh_colors\"] = mesh_colors\n",
    "    output[subject_id][\"lab_col_map\"] = lab_col_map\n",
    "    ROI_maps = {i: [i == j.decode(\"utf=8\") for j in lab_col_map] for i in target_labels}\n",
    "    output[subject_id][\"ROI_maps\"] = ROI_maps\n",
    "    \n",
    "    layers_fsaverage_values = {i+1: [nib.load(i).agg_data() for i in thicc_lr_paths[i]] for i in range(len(thicc_lr_paths))}\n",
    "    layers_fsnative_ds_values = {i: fsavg_vals_to_native(\n",
    "        layers_fsaverage_values[i],\n",
    "        fsavg_sphere_paths,\n",
    "        fsnat_sphere_paths, \n",
    "        pial_path, \n",
    "        pial_ds_path, \n",
    "        pial_ds_nodeep\n",
    "    ) for i in layers_fsaverage_values.keys()}\n",
    "    layers = np.array([layers_fsnative_ds_values[i] for i in layers_fsnative_ds_values.keys()])\n",
    "    overall_thickness = np.sum(layers, axis=0)\n",
    "    layers_prop_thickness = {i: np.divide(\n",
    "        layers_fsnative_ds_values[i], \n",
    "        overall_thickness, \n",
    "        where=overall_thickness != 0\n",
    "    ) for i in layers_fsnative_ds_values.keys()}\n",
    "    output[subject_id][\"big_brain_prop_thickness\"] = layers_prop_thickness\n",
    "    \n",
    "    pial_ds_loc = nib.load(pial_ds_nodeep).agg_data()[0]\n",
    "    white_ds_loc = nib.load(white_ds_nodeep).agg_data()[0]\n",
    "    distance_ROI = np.array([euclidean(pial_ds_loc[i], white_ds_loc[i]) for i in range(pial_ds_loc.shape[0])])\n",
    "    output[subject_id][\"fsnat_wp_distance\"] = distance_ROI\n",
    "    \n",
    "    output[subject_id][\"pial__ds_inflated_path\"] = pial_ds_inflated\n",
    "    if ret:\n",
    "        return output"
   ]
  },
  {
   "cell_type": "code",
   "execution_count": 9,
   "id": "900ddfdb-0c43-44dd-8d75-1fba5a3dd0bb",
   "metadata": {},
   "outputs": [],
   "source": [
    "brain_data = {}\n",
    "for sub in subjects:\n",
    "    calculate_brains(sub, dataset_path, output=brain_data)"
   ]
  },
  {
   "cell_type": "code",
   "execution_count": 18,
   "id": "6effa444-979e-4a14-88dd-250588629a51",
   "metadata": {},
   "outputs": [
    {
     "data": {
      "text/plain": [
       "dict_keys(['mesh_colors', 'lab_col_map', 'ROI_maps', 'big_brain_prop_thickness', 'fsnat_wp_distance', 'pial__ds_inflated_path'])"
      ]
     },
     "execution_count": 18,
     "metadata": {},
     "output_type": "execute_result"
    }
   ],
   "source": []
  },
  {
   "cell_type": "code",
   "execution_count": 12,
   "id": "ebd6ffd8-6409-4c64-ac07-b988a07193ff",
   "metadata": {},
   "outputs": [],
   "source": [
    "def calculate_epochs(subject_id, dataset_path, ROI_maps, layout, output={}, ret=False):\n",
    "    output[subject_id] = {}\n",
    "    [\n",
    "        all_mu_files, all_epoch_files, all_behav_files, \n",
    "        fsnat_sphere_paths, pial_path, pial_ds_path, \n",
    "        pial_ds_nodeep, white_ds_nodeep, pial_ds_inflated\n",
    "    ] = get_necessary_files(subject_id, dataset_path, \"visual1\")\n",
    "    \n",
    "    if filtered:\n",
    "        mu_files = [i for i in all_mu_files if \"_filt_\" in i]\n",
    "    else:\n",
    "        mu_files = [i for i in all_mu_files if \"_nofilt_\" in i]\n",
    "    all_behav_files.sort()\n",
    "    all_epoch_files.sort()\n",
    "    mu_files.sort()\n",
    "    beh_epo = list(zip(all_behav_files, all_epoch_files, mu_files))\n",
    "    labels = []\n",
    "    epos = {roi: [] for roi in ROI_maps.keys()}\n",
    "    \n",
    "    for beh_path, epo_path, MU_path in beh_epo:\n",
    "        beh = pd.read_csv(beh_path).trial_coherence.to_list()\n",
    "        labels.extend(beh)\n",
    "        epo = read_epochs(epo_path, verbose=False)\n",
    "        times = epo.times\n",
    "        epo = epo.pick_types(meg=True, ref_meg=False, misc=False)\n",
    "        epo_names = epo.ch_names\n",
    "        epo = epo.get_data()\n",
    "        # SENS_MAP = [files.check_many(epo_names, ch_n, func=\"any\") for ch_n in layout.names]\n",
    "        MU = pd.read_csv(MU_path, sep=\"\\t\", header=None).to_numpy()\n",
    "        print(epo.shape, MU.shape, epo_path.split(\"/\")[-1], MU_path.split(\"/\")[-1])\n",
    "#         # MU = MU[:, SENS_MAP]\n",
    "        MU = np.split(MU, 11, axis=0)\n",
    "        MU = MU[::-1]\n",
    "        for roi in ROI_maps.keys():\n",
    "            # layers x epochs x vertices x time\n",
    "            epos[roi].append(np.array([np.array([np.dot(m[ROI_maps[roi]], e) for e in epo]) for m in MU]))\n",
    "    epos = {roi: np.concatenate(epos[roi], axis=1) for roi in epos.keys()}\n",
    "    \n",
    "    output[subject_id][\"epoch_labels\"] = labels\n",
    "    output[subject_id][\"epochs\"] = epos\n",
    "    if ret:\n",
    "        return output"
   ]
  },
  {
   "cell_type": "code",
   "execution_count": 13,
   "id": "32785254-16e1-4d02-9d49-34e4c06f69b2",
   "metadata": {},
   "outputs": [
    {
     "name": "stdout",
     "output_type": "stream",
     "text": [
      "(177, 275, 601) (353826, 275) autoreject-sub-001-ses-01-001-visual1-epo.fif multilayer_MU_spm-converted_filt_autoreject-sub-001-ses-01-001-visual1-epo.tsv\n",
      "(175, 275, 601) (353826, 275) autoreject-sub-001-ses-01-002-visual1-epo.fif multilayer_MU_spm-converted_filt_autoreject-sub-001-ses-01-002-visual1-epo.tsv\n",
      "(177, 275, 601) (353826, 275) autoreject-sub-001-ses-01-003-visual1-epo.fif multilayer_MU_spm-converted_filt_autoreject-sub-001-ses-01-003-visual1-epo.tsv\n",
      "(178, 273, 601) (303534, 273) autoreject-sub-002-ses-03-001-visual1-epo.fif multilayer_MU_spm-converted_filt_autoreject-sub-002-ses-03-001-visual1-epo.tsv\n",
      "(178, 273, 601) (303534, 273) autoreject-sub-002-ses-03-002-visual1-epo.fif multilayer_MU_spm-converted_filt_autoreject-sub-002-ses-03-002-visual1-epo.tsv\n",
      "(178, 273, 601) (303534, 273) autoreject-sub-002-ses-03-003-visual1-epo.fif multilayer_MU_spm-converted_filt_autoreject-sub-002-ses-03-003-visual1-epo.tsv\n",
      "(175, 273, 601) (303534, 273) autoreject-sub-002-ses-04-001-visual1-epo.fif multilayer_MU_spm-converted_filt_autoreject-sub-002-ses-04-001-visual1-epo.tsv\n",
      "(167, 273, 601) (303534, 273) autoreject-sub-002-ses-04-002-visual1-epo.fif multilayer_MU_spm-converted_filt_autoreject-sub-002-ses-04-002-visual1-epo.tsv\n",
      "(178, 273, 601) (303534, 273) autoreject-sub-002-ses-04-003-visual1-epo.fif multilayer_MU_spm-converted_filt_autoreject-sub-002-ses-04-003-visual1-epo.tsv\n"
     ]
    }
   ],
   "source": [
    "epoch_data = {}\n",
    "for sub in subjects:\n",
    "    calculate_epochs(sub, dataset_path, brain_data[sub][\"ROI_maps\"], layout, output=epoch_data)"
   ]
  },
  {
   "cell_type": "code",
   "execution_count": 15,
   "id": "5b358bb3-f416-4db4-8f46-f3d78cab4bd7",
   "metadata": {},
   "outputs": [
    {
     "data": {
      "text/plain": [
       "529"
      ]
     },
     "execution_count": 15,
     "metadata": {},
     "output_type": "execute_result"
    }
   ],
   "source": [
    "len(epoch_data[\"sub-001\"][\"epoch_labels\"])"
   ]
  },
  {
   "cell_type": "code",
   "execution_count": 17,
   "id": "3ace7f68-c55b-44ca-9763-ba0f0f15ca16",
   "metadata": {},
   "outputs": [],
   "source": [
    "epoch_data[\"sub-001\"][\"epochs\"]['L_V1_ROI'].shape"
   ]
  },
  {
   "cell_type": "code",
   "execution_count": 19,
   "id": "45ef1be6-9199-41a8-886d-99d97518a9cc",
   "metadata": {},
   "outputs": [
    {
     "data": {
      "text/plain": [
       "dict_keys(['mesh_colors', 'lab_col_map', 'ROI_maps', 'big_brain_prop_thickness', 'fsnat_wp_distance', 'pial__ds_inflated_path'])"
      ]
     },
     "execution_count": 19,
     "metadata": {},
     "output_type": "execute_result"
    }
   ],
   "source": [
    "brain_data[\"sub-002\"].keys()"
   ]
  },
  {
   "cell_type": "code",
   "execution_count": null,
   "id": "bc31be87-00e9-4e37-9fa5-9680accc8ffe",
   "metadata": {},
   "outputs": [],
   "source": [
    "epochs = {}\n",
    "\n",
    "for sub in subjects:\n",
    "    for lab in target_labels:\n",
    "        ex = {\n",
    "            \"epochs\": epoch_data[sub][\"epochs\"][lab],\n",
    "            \"labels\": epoch_data[sub][\"epoch_labels\"]\n",
    "        }\n",
    "        with open('epoch_{}_{}.pickle'.format(sub, lab), 'wb') as f:\n",
    "            pickle.dump(ex, f)"
   ]
  },
  {
   "cell_type": "code",
   "execution_count": null,
   "id": "9d5906c6-26d6-4683-a66a-2ce16e172277",
   "metadata": {},
   "outputs": [],
   "source": []
  }
 ],
 "metadata": {
  "kernelspec": {
   "display_name": "Python 3 (ipykernel)",
   "language": "python",
   "name": "python3"
  },
  "language_info": {
   "codemirror_mode": {
    "name": "ipython",
    "version": 3
   },
   "file_extension": ".py",
   "mimetype": "text/x-python",
   "name": "python",
   "nbconvert_exporter": "python",
   "pygments_lexer": "ipython3",
   "version": "3.9.7"
  }
 },
 "nbformat": 4,
 "nbformat_minor": 5
}
