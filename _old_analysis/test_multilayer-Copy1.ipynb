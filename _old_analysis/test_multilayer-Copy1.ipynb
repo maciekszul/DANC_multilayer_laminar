{
 "cells": [
  {
   "cell_type": "code",
   "execution_count": null,
   "id": "c29b8bd2",
   "metadata": {},
   "outputs": [],
   "source": [
    "import numpy as np\n",
    "import nibabel as nb\n",
    "import matplotlib.pyplot as plt\n",
    "from matplotlib_surface_plotting import plot_surf\n",
    "import trimesh\n",
    "import io\n",
    "from PIL import Image\n",
    "from sklearn import neighbors"
   ]
  },
  {
   "cell_type": "code",
   "execution_count": null,
   "id": "4113b6aa",
   "metadata": {},
   "outputs": [],
   "source": [
    "!which python"
   ]
  },
  {
   "cell_type": "code",
   "execution_count": null,
   "id": "bf682da4",
   "metadata": {},
   "outputs": [],
   "source": [
    "def get_layer(V, F, surface_index, n_surfs):\n",
    "    \"\"\"Retrieve the vertices and faces corresponding to a specific surface layer.\n",
    "\n",
    "    Args:\n",
    "        V (numpy.ndarray): Array of vertices representing the entire mesh.\n",
    "        F (numpy.ndarray): Array of faces representing the entire mesh.\n",
    "        surface_index (int): Index of the surface layer to retrieve.\n",
    "        n_surfs (int): Total number of surface layers in the mesh.\n",
    "\n",
    "    Returns:\n",
    "        tuple: A tuple containing the surface vertices and faces.\n",
    "        \n",
    "    \"\"\"\n",
    "    num_vertices_per_surface = len(V) // n_surfs\n",
    "    start_vertex_index = surface_index * num_vertices_per_surface\n",
    "    end_vertex_index = start_vertex_index + num_vertices_per_surface\n",
    "\n",
    "    mesh = trimesh.Trimesh(V, F, process=False, validate=False)\n",
    "    mask=np.zeros(V.shape[0])\n",
    "    mask[start_vertex_index:end_vertex_index]=1\n",
    "    mesh.update_vertices(mask.astype(bool))\n",
    "    surface_vertices=mesh.vertices\n",
    "    surface_faces=mesh.faces\n",
    "    return surface_vertices, surface_faces"
   ]
  },
  {
   "cell_type": "code",
   "execution_count": null,
   "id": "fb3c8572",
   "metadata": {},
   "outputs": [],
   "source": [
    "peak_idx=5618"
   ]
  },
  {
   "cell_type": "code",
   "execution_count": null,
   "id": "1be73986",
   "metadata": {
    "scrolled": false
   },
   "outputs": [],
   "source": [
    "multilayer_fname='/home/common/bonaiuto/multiburst/derivatives/processed/sub-001/multilayer_11/multilayer_11.ds.link_vector.nodeep.gii'\n",
    "# Load multilayer surface\n",
    "multilayer_surf=nb.load(multilayer_fname);\n",
    "multilayer_vertices, multilayer_faces = multilayer_surf.darrays[0].data, multilayer_surf.darrays[1].data\n",
    "\n",
    "n_surfs=11\n",
    "verts_per_surf=int(multilayer_vertices.shape[0]/n_surfs)\n",
    "print('{} surfaces, {} vertices per surface'.format(n_surfs,verts_per_surf))\n",
    "\n",
    "for i in range(n_surfs):\n",
    "    pial_vertices, pial_faces = get_layer(multilayer_vertices, multilayer_faces, i, n_surfs)\n",
    "    rotate = [0]\n",
    "    x_rotate = 0\n",
    "    fig = plt.figure(facecolor='white')\n",
    "    # Plot inversion result\n",
    "    ax = plt.subplot(1, 1, 1, xlim=[-.98, +.98], ylim=[-.98, +.98],\n",
    "                     aspect=1, frameon=False,\n",
    "                     xticks=[], yticks=[])\n",
    "    overlay = np.zeros(pial_vertices.shape[0])\n",
    "    overlay[0] = 10\n",
    "    plot_surf(vertices=pial_vertices, faces=pial_faces, overlay=overlay, rotate=rotate, x_rotate=x_rotate,\n",
    "              ax=ax, colorbar=False, cmap='jet', alpha_colour=(overlay > 0).astype(int), vmin=0, vmax=4,\n",
    "              transparency=.5, coords=[pial_vertices[peak_idx,:]], coord_size=0.01)    \n",
    "    \n"
   ]
  },
  {
   "cell_type": "code",
   "execution_count": null,
   "id": "493efee2",
   "metadata": {
    "scrolled": true
   },
   "outputs": [],
   "source": [
    "multilayer_fname='/home/common/bonaiuto/multiburst/derivatives/processed/sub-001/multilayer_11/multilayer_11.ds.link_vector.gii'\n",
    "# Load multilayer surface\n",
    "multilayer_surf=nb.load(multilayer_fname);\n",
    "multilayer_vertices, multilayer_faces = multilayer_surf.darrays[0].data, multilayer_surf.darrays[1].data\n",
    "\n",
    "n_surfs=11\n",
    "verts_per_surf=int(multilayer_vertices.shape[0]/n_surfs)\n",
    "print('{} surfaces, {} vertices per surface'.format(n_surfs,verts_per_surf))\n",
    "\n",
    "for i in range(n_surfs):\n",
    "    pial_vertices, pial_faces = get_layer(multilayer_vertices, multilayer_faces, i, n_surfs)\n",
    "    rotate = [0]\n",
    "    x_rotate = 0\n",
    "    fig = plt.figure(facecolor='white')\n",
    "    # Plot inversion result\n",
    "    ax = plt.subplot(1, 1, 1, xlim=[-.98, +.98], ylim=[-.98, +.98],\n",
    "                     aspect=1, frameon=False,\n",
    "                     xticks=[], yticks=[])\n",
    "    overlay = np.zeros(pial_vertices.shape[0])\n",
    "    overlay[0] = 10\n",
    "    plot_surf(vertices=pial_vertices, faces=pial_faces, overlay=overlay, rotate=rotate, x_rotate=x_rotate,\n",
    "              ax=ax, colorbar=False, cmap='jet', alpha_colour=(overlay > 0).astype(int), vmin=0, vmax=4,\n",
    "              transparency=.5, coords=[pial_vertices[peak_idx,:]], coord_size=0.01)    \n",
    "    \n"
   ]
  },
  {
   "cell_type": "code",
   "execution_count": null,
   "id": "b8a38df4",
   "metadata": {},
   "outputs": [],
   "source": [
    "pial_p = \"/home/common/bonaiuto/multiburst/derivatives/processed/sub-001/multilayer_11/pial.ds.gii\"\n",
    "white_p = \"/home/common/bonaiuto/multiburst/derivatives/processed/sub-001/multilayer_11/white.ds.gii\"\n",
    "pial_ = \"/home/common/bonaiuto/multiburst/derivatives/processed/sub-001/multilayer_11/white.ds.link_vector.nodeep.gii\"\n",
    "\n",
    "\n",
    "onelayer_surf = nb.load(pial_);\n",
    "onelayer_surf_vertices, onelayer_surf_faces = onelayer_surf.darrays[0].data, onelayer_surf.darrays[1].data\n",
    "vertices_n = onelayer_surf_vertices.shape[0]\n",
    "rotate = [0]\n",
    "x_rotate = 0\n",
    "fig = plt.figure(facecolor='white')\n",
    "ax = plt.subplot(\n",
    "    1, 1, 1, xlim=[-.98, +.98], ylim=[-.98, +.98],\n",
    "    aspect=1, frameon=False, xticks=[], yticks=[]\n",
    ")\n",
    "overlay = np.zeros(vertices_n)\n",
    "overlay[0] = 10\n",
    "plot_surf(\n",
    "    vertices=onelayer_surf_vertices, faces=onelayer_surf_faces,\n",
    "    overlay=overlay, rotate=rotate, x_rotate=x_rotate,\n",
    "    ax=ax, colorbar=False, cmap='jet', alpha_colour=(overlay > 0).astype(int),\n",
    "    vmin=0, vmax=4, transparency=.5, coords=[onelayer_surf_vertices[peak_idx,:]], coord_size=0.01\n",
    ")"
   ]
  },
  {
   "cell_type": "code",
   "execution_count": null,
   "id": "72ff4707",
   "metadata": {},
   "outputs": [],
   "source": [
    "deep_surf = nb.load(\"/home/common/bonaiuto/multiburst/derivatives/processed/sub-001/multilayer_11/pial.ds.link_vector.gii\");\n",
    "deep_surf_vertices, deep_surf_faces = deep_surf.darrays[0].data, deep_surf.darrays[1].data\n",
    "\n",
    "mesh = trimesh.Trimesh(deep_surf_vertices, deep_surf_faces)\n",
    "mesh.show(viewer=\"notebook\")"
   ]
  },
  {
   "cell_type": "code",
   "execution_count": null,
   "id": "e3a9f323",
   "metadata": {},
   "outputs": [],
   "source": [
    "mesh"
   ]
  },
  {
   "cell_type": "code",
   "execution_count": null,
   "id": "83fe2d52",
   "metadata": {},
   "outputs": [],
   "source": [
    "nodeep_surf = nb.load(\"/home/common/bonaiuto/multiburst/derivatives/processed/sub-001/multilayer_11/pial.ds.link_vector.nodeep.gii\");\n",
    "nodeep_surf_vertices, nodeep_surf_faces = nodeep_surf.darrays[0].data, nodeep_surf.darrays[1].data\n",
    "\n",
    "mesh = trimesh.Trimesh(nodeep_surf_vertices, nodeep_surf_faces)\n",
    "mesh.show(viewer=\"notebook\")"
   ]
  },
  {
   "cell_type": "code",
   "execution_count": null,
   "id": "ddfc3b57",
   "metadata": {},
   "outputs": [],
   "source": [
    "tree = neighbors.KDTree(nodeep_surf_vertices, leaf_size=20)\n",
    "ixes = []\n",
    "coords = []\n",
    "for d_vs in deep_surf_vertices:\n",
    "    distance, index = tree.query(d_vs.reshape(1, -1), k=1)\n",
    "    if distance[0] > 0:\n",
    "        ixes.append(index[0])\n",
    "        coords.append(d_vs.reshape(1, -1))"
   ]
  },
  {
   "cell_type": "code",
   "execution_count": null,
   "id": "60a270e9",
   "metadata": {},
   "outputs": [],
   "source": [
    "coords"
   ]
  },
  {
   "cell_type": "code",
   "execution_count": null,
   "id": "4cb39b46",
   "metadata": {},
   "outputs": [],
   "source": [
    "n_surf=11\n",
    "ml_deep = nb.load(\"/home/common/bonaiuto/multiburst/derivatives/processed/sub-001/multilayer_11/multilayer_11.ds.gii\");\n",
    "ml_deep_vertices, ml_deep_faces = ml_deep.darrays[0].data, ml_deep.darrays[1].data\n",
    "ml_deep_vertices = np.split(ml_deep_vertices, n_surf, axis=0)\n",
    "ml_deep_faces = np.split(ml_deep_faces, n_surf, axis=0)\n",
    "\n",
    "ml_nodeep = nb.load(\"/home/common/bonaiuto/multiburst/derivatives/processed/sub-001/multilayer_11/multilayer_11.ds.link_vector.nodeep.gii\");\n",
    "ml_nodeep_vertices, ml_nodeep_faces = ml_nodeep.darrays[0].data, ml_nodeep.darrays[1].data\n",
    "ml_nodeep_vertices = np.split(ml_nodeep_vertices, n_surf, axis=0)\n",
    "#ml_nodeep_faces = np.split(ml_nodeep_faces, n_surf, axis=0)"
   ]
  },
  {
   "cell_type": "code",
   "execution_count": null,
   "id": "6ff36f72",
   "metadata": {},
   "outputs": [],
   "source": [
    "mesh = trimesh.Trimesh(ml_deep_vertices[0], ml_deep_faces[0])\n",
    "mesh.show(viewer=\"notebook\")"
   ]
  },
  {
   "cell_type": "code",
   "execution_count": null,
   "id": "36218cf6",
   "metadata": {},
   "outputs": [],
   "source": [
    "mesh = trimesh.Trimesh(ml_deep_vertices[0], ml_deep_faces[0])\n",
    "mesh.show(viewer=\"notebook\")"
   ]
  },
  {
   "cell_type": "code",
   "execution_count": null,
   "id": "37b18938",
   "metadata": {},
   "outputs": [],
   "source": [
    "tree = neighbors.KDTree(ml_deep_vertices[0], leaf_size=20)\n",
    "ixes = []\n",
    "for i in coords:\n",
    "    distance, index = tree.query(i, k=1)\n",
    "    ixes.append(index[0][0])\n",
    "#     print(distance[0][0], index[0][0])"
   ]
  },
  {
   "cell_type": "code",
   "execution_count": null,
   "id": "07031138",
   "metadata": {},
   "outputs": [],
   "source": [
    "mesh = trimesh.Trimesh(ml_deep_vertices[1], ml_deep_faces[1], process=False, validate=False)\n",
    "mesh.show(viewer=\"notebook\")"
   ]
  },
  {
   "cell_type": "code",
   "execution_count": null,
   "id": "571dfd91",
   "metadata": {},
   "outputs": [],
   "source": []
  }
 ],
 "metadata": {
  "kernelspec": {
   "display_name": "Python 3 (ipykernel)",
   "language": "python",
   "name": "python3"
  },
  "language_info": {
   "codemirror_mode": {
    "name": "ipython",
    "version": 3
   },
   "file_extension": ".py",
   "mimetype": "text/x-python",
   "name": "python",
   "nbconvert_exporter": "python",
   "pygments_lexer": "ipython3",
   "version": "3.9.7"
  }
 },
 "nbformat": 4,
 "nbformat_minor": 5
}
