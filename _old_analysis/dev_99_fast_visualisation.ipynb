{
 "cells": [
  {
   "cell_type": "code",
   "execution_count": 15,
   "id": "f05f7ea1",
   "metadata": {},
   "outputs": [],
   "source": [
    "import io\n",
    "import numpy as np\n",
    "import pandas as pd\n",
    "import nibabel as nb\n",
    "import trimesh\n",
    "from PIL import Image\n",
    "from sklearn import neighbors\n",
    "import trimesh\n",
    "import math\n",
    "import open3d as o3d\n",
    "from freesurfer_tools import transform_atlas"
   ]
  },
  {
   "cell_type": "code",
   "execution_count": 16,
   "id": "13c99f8e",
   "metadata": {},
   "outputs": [],
   "source": [
    "annot_paths = [\n",
    "    \"/home/mszul/git/DANC_multilayer_laminar/assets/lh.HCPMMP1.annot\",\n",
    "    \"/home/mszul/git/DANC_multilayer_laminar/assets/rh.HCPMMP1.annot\"\n",
    "]\n",
    "fsavg_sphere_paths = [\n",
    "    \"/home/mszul/git/DANC_multilayer_laminar/assets/lh.sphere.reg.gii\",\n",
    "    \"/home/mszul/git/DANC_multilayer_laminar/assets/rh.sphere.reg.gii\"\n",
    "]\n",
    "fsnat_sphere_paths = [\n",
    "    \"/home/common/bonaiuto/cued_action_meg/derivatives/processed/sub-001/fs/surf/lh.sphere.reg.gii\",\n",
    "    \"/home/common/bonaiuto/cued_action_meg/derivatives/processed/sub-001/fs/surf/rh.sphere.reg.gii\"\n",
    "]\n",
    "pial_path = \"/home/common/bonaiuto/cued_action_meg/derivatives/processed/sub-001/fs/surf/pial.gii\"\n",
    "pial_ds_path = \"/home/common/bonaiuto/cued_action_meg/derivatives/processed/sub-001/fs/surf/pial.ds.gii\"\n",
    "pial_ds_nodeep = \"/home/common/bonaiuto/cued_action_meg/derivatives/processed/sub-001/fs/surf/pial.ds.link_vector.nodeep.gii\"\n",
    "pial_ds_inflated = \"/home/common/bonaiuto/cued_action_meg/derivatives/processed/sub-001/fs/surf/pial.ds.inflated.nodeep.gii\"\n",
    "glasser = \"/home/mszul/git/DANC_multilayer_laminar/assets/atlas_glasser_2016.csv\""
   ]
  },
  {
   "cell_type": "code",
   "execution_count": 17,
   "id": "52ade59d",
   "metadata": {},
   "outputs": [],
   "source": [
    "atlas = pd.read_csv(glasser)"
   ]
  },
  {
   "cell_type": "code",
   "execution_count": 18,
   "id": "8992a076",
   "metadata": {},
   "outputs": [],
   "source": [
    "ml_deep = nb.load(\"/home/common/bonaiuto/multiburst/derivatives/processed/sub-001/multilayer_11/multilayer_11.ds.gii\");\n",
    "ml_nodeep = nb.load(\"/home/common/bonaiuto/multiburst/derivatives/processed/sub-001/multilayer_11/multilayer_11.ds.link_vector.nodeep.gii\");"
   ]
  },
  {
   "cell_type": "code",
   "execution_count": 19,
   "id": "5a58ad5d",
   "metadata": {},
   "outputs": [],
   "source": [
    "n_surf = 11"
   ]
  },
  {
   "cell_type": "code",
   "execution_count": 20,
   "id": "f68ecfd2",
   "metadata": {},
   "outputs": [],
   "source": [
    "ml_nodeep = nb.load(\"/home/common/bonaiuto/multiburst/derivatives/processed/sub-001/multilayer_11/multilayer_11.ds.link_vector.nodeep.gii\");\n",
    "vertices, faces, normals = ml_nodeep.agg_data()\n",
    "vertices = np.split(vertices, n_surf, axis=0)\n",
    "faces = np.split(faces, n_surf, axis=0)\n",
    "normals = np.split(normals, n_surf, axis=0)"
   ]
  },
  {
   "cell_type": "code",
   "execution_count": 22,
   "id": "2eb83100",
   "metadata": {},
   "outputs": [],
   "source": [
    "mesh = trimesh.Trimesh(vertices=vertices[0], faces=faces[0], normals=normals[0], process=True, validate=True)\n",
    "mesh = mesh.as_open3d\n",
    "mesh.compute_vertex_normals(normalized=True)\n",
    "# option.non_rigid_camera_coordinate = True\n",
    "o3d.visualization.draw_geometries([mesh], mesh_show_back_face=True, point_show_normal=True)"
   ]
  },
  {
   "cell_type": "code",
   "execution_count": 24,
   "id": "8fe30688",
   "metadata": {},
   "outputs": [],
   "source": [
    "mesh_colors, lab_col_map = transform_atlas(annot_paths, fsavg_sphere_paths, fsnat_sphere_paths, pial_path, pial_ds_path, pial_ds_nodeep)"
   ]
  },
  {
   "cell_type": "code",
   "execution_count": 25,
   "id": "38a70129",
   "metadata": {},
   "outputs": [],
   "source": [
    "mesh = trimesh.Trimesh(vertices=vertices[0], faces=faces[0], normals=normals[0], process=False, validate=False)\n",
    "modified_mesh_colors = [np.append(i[:3], 255) for i in mesh_colors]\n",
    "mesh = mesh.as_open3d\n",
    "mesh.vertex_colors = o3d.utility.Vector3dVector(np.array([i[:3]/256 for i in mesh_colors]))\n",
    "mesh.compute_vertex_normals(normalized=True)\n",
    "o3d.visualization.draw_geometries([mesh], mesh_show_back_face=True)"
   ]
  },
  {
   "cell_type": "code",
   "execution_count": null,
   "id": "2e037f95",
   "metadata": {},
   "outputs": [],
   "source": [
    "target_labels = ['L_MT_ROI']\n",
    "ROI_maps = {i: [i == j.decode(\"utf=8\") for j in lab_col_map] for i in target_labels}\n",
    "n_surf = 11\n",
    "mesh_colors = np.array([i[:3]/256 for i in mesh_colors])\n",
    "layers_ROI = [trimesh.Trimesh(vertices=vertices[l], faces=faces[0], normals=normals[l], process=False, validate=False).as_open3d for l in range(n_surf)]\n",
    "for ix, mesh in enumerate(layers_ROI):\n",
    "    mesh.vertex_colors = o3d.utility.Vector3dVector(mesh_colors)\n",
    "    mesh.remove_vertices_by_mask(~np.array(ROI_maps['L_MT_ROI']))\n",
    "    mesh.compute_vertex_normals(normalized=True)\n",
    "    mesh.paint_uniform_color(np.array([255,255,0])/255)\n",
    "    mesh.translate(np.array([0, ix*2, ix*3]))\n",
    "o3d.visualization.draw_geometries(layers_ROI, mesh_show_back_face=True)"
   ]
  },
  {
   "cell_type": "code",
   "execution_count": null,
   "id": "b7730aed",
   "metadata": {},
   "outputs": [],
   "source": []
  },
  {
   "cell_type": "code",
   "execution_count": null,
   "id": "166057bc",
   "metadata": {},
   "outputs": [],
   "source": []
  },
  {
   "cell_type": "markdown",
   "id": "11664c44",
   "metadata": {},
   "source": [
    "[Open3D INFO]   -- Mouse view control --\n",
    "[Open3D INFO]     Left button + drag         : Rotate.\n",
    "[Open3D INFO]     Ctrl + left button + drag  : Translate.\n",
    "[Open3D INFO]     Wheel button + drag        : Translate.\n",
    "[Open3D INFO]     Shift + left button + drag : Roll.\n",
    "[Open3D INFO]     Wheel                      : Zoom in/out.\n",
    "[Open3D INFO] \n",
    "[Open3D INFO]   -- Keyboard view control --\n",
    "[Open3D INFO]     [/]          : Increase/decrease field of view.\n",
    "[Open3D INFO]     R            : Reset view point.\n",
    "[Open3D INFO]     Ctrl/Cmd + C : Copy current view status into the clipboard.\n",
    "[Open3D INFO]     Ctrl/Cmd + V : Paste view status from clipboard.\n",
    "[Open3D INFO] \n",
    "[Open3D INFO]   -- General control --\n",
    "[Open3D INFO]     Q, Esc       : Exit window.\n",
    "[Open3D INFO]     H            : Print help message.\n",
    "[Open3D INFO]     P, PrtScn    : Take a screen capture.\n",
    "[Open3D INFO]     D            : Take a depth capture.\n",
    "[Open3D INFO]     O            : Take a capture of current rendering settings.\n",
    "[Open3D INFO]     Alt + Enter  : Toggle between full screen and windowed mode.\n",
    "[Open3D INFO] \n",
    "[Open3D INFO]   -- Render mode control --\n",
    "[Open3D INFO]     L            : Turn on/off lighting.\n",
    "[Open3D INFO]     +/-          : Increase/decrease point size.\n",
    "[Open3D INFO]     Ctrl + +/-   : Increase/decrease width of geometry::LineSet.\n",
    "[Open3D INFO]     N            : Turn on/off point cloud normal rendering.\n",
    "[Open3D INFO]     S            : Toggle between mesh flat shading and smooth shading.\n",
    "[Open3D INFO]     W            : Turn on/off mesh wireframe.\n",
    "[Open3D INFO]     B            : Turn on/off back face rendering.\n",
    "[Open3D INFO]     I            : Turn on/off image zoom in interpolation.\n",
    "[Open3D INFO]     T            : Toggle among image render:\n",
    "[Open3D INFO]                    no stretch / keep ratio / freely stretch.\n",
    "[Open3D INFO] \n",
    "[Open3D INFO]   -- Color control --\n",
    "[Open3D INFO]     0..4,9       : Set point cloud color option.\n",
    "[Open3D INFO]                    0 - Default behavior, render point color.\n",
    "[Open3D INFO]                    1 - Render point color.\n",
    "[Open3D INFO]                    2 - x coordinate as color.\n",
    "[Open3D INFO]                    3 - y coordinate as color.\n",
    "[Open3D INFO]                    4 - z coordinate as color.\n",
    "[Open3D INFO]                    9 - normal as color.\n",
    "[Open3D INFO]     Ctrl + 0..4,9: Set mesh color option.\n",
    "[Open3D INFO]                    0 - Default behavior, render uniform gray color.\n",
    "[Open3D INFO]                    1 - Render point color.\n",
    "[Open3D INFO]                    2 - x coordinate as color.\n",
    "[Open3D INFO]                    3 - y coordinate as color.\n",
    "[Open3D INFO]                    4 - z coordinate as color.\n",
    "[Open3D INFO]                    9 - normal as color.\n",
    "[Open3D INFO]     Shift + 0..4 : Color map options.\n",
    "[Open3D INFO]                    0 - Gray scale color.\n",
    "[Open3D INFO]                    1 - JET color map.\n",
    "[Open3D INFO]                    2 - SUMMER color map.\n",
    "[Open3D INFO]                    3 - WINTER color map.\n",
    "[Open3D INFO]                    4 - HOT color map."
   ]
  }
 ],
 "metadata": {
  "kernelspec": {
   "display_name": "Python 3 (ipykernel)",
   "language": "python",
   "name": "python3"
  },
  "language_info": {
   "codemirror_mode": {
    "name": "ipython",
    "version": 3
   },
   "file_extension": ".py",
   "mimetype": "text/x-python",
   "name": "python",
   "nbconvert_exporter": "python",
   "pygments_lexer": "ipython3",
   "version": "3.9.7"
  }
 },
 "nbformat": 4,
 "nbformat_minor": 5
}
