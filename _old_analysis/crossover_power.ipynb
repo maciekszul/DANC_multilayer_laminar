{
 "cells": [
  {
   "cell_type": "code",
   "execution_count": 1,
   "id": "61cbc9d3",
   "metadata": {},
   "outputs": [
    {
     "name": "stdout",
     "output_type": "stream",
     "text": [
      "Jupyter environment detected. Enabling Open3D WebVisualizer.\n",
      "[Open3D INFO] WebRTC GUI backend enabled.\n",
      "[Open3D INFO] WebRTCWindowSystem: HTTP handshake server disabled.\n"
     ]
    }
   ],
   "source": [
    "import numpy as np\n",
    "import matplotlib.pylab as plt\n",
    "import pickle\n",
    "import json\n",
    "import new_files\n",
    "import pandas as pd\n",
    "import nibabel as nb\n",
    "from os import sep\n",
    "from copy import deepcopy\n",
    "from scipy.interpolate import interp1d\n",
    "from matplotlib import colors\n",
    "import matplotlib.pylab as plt\n",
    "from matplotlib.patches import Patch\n",
    "from matplotlib.lines import Line2D\n",
    "from matplotlib import colors\n",
    "import trimesh\n",
    "import open3d as o3d\n",
    "from tools import compute_rel_power, get_crossover, detect_crossing_points, data_to_rgb\n",
    "from sklearn.preprocessing import minmax_scale\n",
    "from joblib import Parallel, delayed"
   ]
  },
  {
   "cell_type": "code",
   "execution_count": 15,
   "id": "c97b564a",
   "metadata": {},
   "outputs": [],
   "source": [
    "def custom_draw_geometry(mesh, filename=\"render.png\", visible=True, wh=[960, 960], save=True):\n",
    "    vis = o3d.visualization.Visualizer()\n",
    "    vis.create_window(width=wh[0], height=wh[1], visible=visible)\n",
    "    if isinstance(mesh, list):\n",
    "        for i in mesh:\n",
    "            vis.add_geometry(i)\n",
    "    else:\n",
    "        vis.add_geometry(mesh)\n",
    "    vis.get_render_option().mesh_show_back_face=True\n",
    "    vis.get_render_option().light_on=True\n",
    "    vis.run()\n",
    "    if save:\n",
    "        vis.capture_screen_image(filename, do_render=True)\n",
    "    vis.destroy_window()"
   ]
  },
  {
   "cell_type": "code",
   "execution_count": 6,
   "id": "260a4845",
   "metadata": {},
   "outputs": [],
   "source": [
    "dir_search = new_files.Files()\n",
    "dataset_path = \"/home/common/bonaiuto/multiburst/derivatives/processed/\"\n",
    "\n",
    "all_psd_wholebrain = dir_search.get_files(\n",
    "    dataset_path,\n",
    "    \"*.npy\", prefix=\"PSD_\"\n",
    ")\n",
    "all_psd_wholebrain.sort()\n",
    "dict_epoch = {i: [j for j in all_psd_wholebrain if i in j] for i in [\"motor\", \"visual\"]}\n",
    "all_info = dir_search.get_files(\n",
    "    dataset_path,\n",
    "    \"*.json\", prefix=\"info\"\n",
    ")"
   ]
  },
  {
   "cell_type": "code",
   "execution_count": 22,
   "id": "43e8df7d",
   "metadata": {},
   "outputs": [
    {
     "data": {
      "image/png": "[encoded data removed]",
      "text/plain": [
       "<Figure size 100x100 with 1 Axes>"
      ]
     },
     "metadata": {},
     "output_type": "display_data"
    }
   ],
   "source": [
    "# METRIC VISUALISATION\n",
    "prc_range = [95., 97, 98, 99.0, 99.5, 99.99]\n",
    "cm = plt.colormaps[\"magma_r\"]\n",
    "col_val = np.linspace(0, 0.5,num=len(prc_range)-1)\n",
    "col_val = np.append(col_val, 1)\n",
    "label_colours = cm(col_val)[:,:3]\n",
    "\n",
    "legend_items = []\n",
    "for ix, lab in enumerate(prc_range):\n",
    "    p = Patch(\n",
    "        facecolor=label_colours[ix],\n",
    "        label=\"{}\".format(lab)\n",
    "    )\n",
    "    legend_items.append(p)\n",
    "f, ax = plt.subplots(figsize=(1,1))\n",
    "ax.legend(handles=legend_items, loc=\"center\", frameon=False)\n",
    "ax.axis(\"off\");"
   ]
  },
  {
   "cell_type": "code",
   "execution_count": 125,
   "id": "15c64fa9",
   "metadata": {},
   "outputs": [
    {
     "data": {
      "text/plain": [
       "['/home/common/bonaiuto/multiburst/derivatives/processed/sub-001/multilayer_11/inverted/PSD_autoreject-sub-001-ses-01-001-motor-epo.npy',\n",
       " '/home/common/bonaiuto/multiburst/derivatives/processed/sub-001/multilayer_11/inverted/PSD_autoreject-sub-001-ses-01-002-motor-epo.npy',\n",
       " '/home/common/bonaiuto/multiburst/derivatives/processed/sub-002/multilayer_11/inverted/PSD_autoreject-sub-002-ses-03-001-motor-epo.npy',\n",
       " '/home/common/bonaiuto/multiburst/derivatives/processed/sub-003/multilayer_11/inverted/PSD_autoreject-sub-003-ses-01-001-motor-epo.npy',\n",
       " '/home/common/bonaiuto/multiburst/derivatives/processed/sub-003/multilayer_11/inverted/PSD_autoreject-sub-003-ses-01-002-motor-epo.npy',\n",
       " '/home/common/bonaiuto/multiburst/derivatives/processed/sub-004/multilayer_11/inverted/PSD_autoreject-sub-004-ses-01-001-motor-epo.npy',\n",
       " '/home/common/bonaiuto/multiburst/derivatives/processed/sub-004/multilayer_11/inverted/PSD_autoreject-sub-004-ses-01-002-motor-epo.npy',\n",
       " '/home/common/bonaiuto/multiburst/derivatives/processed/sub-005/multilayer_11/inverted/PSD_autoreject-sub-005-ses-01-001-motor-epo.npy',\n",
       " '/home/common/bonaiuto/multiburst/derivatives/processed/sub-006/multilayer_11/inverted/PSD_autoreject-sub-006-ses-03-001-motor-epo.npy',\n",
       " '/home/common/bonaiuto/multiburst/derivatives/processed/sub-006/multilayer_11/inverted/PSD_autoreject-sub-006-ses-03-002-motor-epo.npy',\n",
       " '/home/common/bonaiuto/multiburst/derivatives/processed/sub-007/multilayer_11/inverted/PSD_autoreject-sub-007-ses-01-002-motor-epo.npy',\n",
       " '/home/common/bonaiuto/multiburst/derivatives/processed/sub-008/multilayer_11/inverted/PSD_autoreject-sub-008-ses-02-001-motor-epo.npy',\n",
       " '/home/common/bonaiuto/multiburst/derivatives/processed/sub-008/multilayer_11/inverted/PSD_autoreject-sub-008-ses-02-002-motor-epo.npy']"
      ]
     },
     "execution_count": 125,
     "metadata": {},
     "output_type": "execute_result"
    }
   ],
   "source": [
    "dict_epoch[\"motor\"]"
   ]
  },
  {
   "cell_type": "code",
   "execution_count": 149,
   "id": "8281eddb",
   "metadata": {
    "scrolled": true
   },
   "outputs": [
    {
     "ename": "IndexError",
     "evalue": "list index out of range",
     "output_type": "error",
     "traceback": [
      "\u001b[0;31m---------------------------------------------------------------------------\u001b[0m",
      "\u001b[0;31mIndexError\u001b[0m                                Traceback (most recent call last)",
      "Cell \u001b[0;32mIn[149], line 1\u001b[0m\n\u001b[0;32m----> 1\u001b[0m data_file \u001b[38;5;241m=\u001b[39m \u001b[43mdict_epoch\u001b[49m\u001b[43m[\u001b[49m\u001b[38;5;124;43m\"\u001b[39;49m\u001b[38;5;124;43mmotor\u001b[39;49m\u001b[38;5;124;43m\"\u001b[39;49m\u001b[43m]\u001b[49m\u001b[43m[\u001b[49m\u001b[38;5;241;43m13\u001b[39;49m\u001b[43m]\u001b[49m\n\u001b[1;32m      2\u001b[0m data \u001b[38;5;241m=\u001b[39m np\u001b[38;5;241m.\u001b[39mload(data_file)\n\u001b[1;32m      3\u001b[0m core_path \u001b[38;5;241m=\u001b[39m sep\u001b[38;5;241m.\u001b[39mjoin(data_file\u001b[38;5;241m.\u001b[39msplit(sep)[:\u001b[38;5;241m-\u001b[39m\u001b[38;5;241m1\u001b[39m]) \u001b[38;5;241m+\u001b[39m sep\n",
      "\u001b[0;31mIndexError\u001b[0m: list index out of range"
     ]
    }
   ],
   "source": [
    "data_file = dict_epoch[\"motor\"][13]\n",
    "data = np.load(data_file)\n",
    "core_path = sep.join(data_file.split(sep)[:-1]) + sep\n",
    "core_name = data_file.split(sep)[-1].split(\"_\")[-1].split(\".\")[0]\n",
    "subject = \"-\".join(core_name.split(\"-\")[1:3])\n",
    "info_file = [i for i in all_info if subject in i][0]\n",
    "with open(info_file) as pipeline_file:\n",
    "    info = json.load(pipeline_file)\n",
    "\n",
    "data = np.array(np.split(data, 11, axis=0)) # layer x vertex x freqs\n",
    "print(core_name)"
   ]
  },
  {
   "cell_type": "code",
   "execution_count": 148,
   "id": "e433a7c1",
   "metadata": {
    "scrolled": false
   },
   "outputs": [],
   "source": [
    "\n",
    "# METRIC VISUALISATION\n",
    "power_metric = np.sum(np.mean(data, axis=0), axis=-1)\n",
    "\n",
    "brain = nb.load(info[\"pial_ds_nodeep_inflated\"])\n",
    "vertices, faces = brain.agg_data()\n",
    "mesh = trimesh.Trimesh(vertices=vertices, faces=faces, process=False, validate=False)\n",
    "mesh = mesh.as_open3d\n",
    "mesh.compute_vertex_normals(normalized=True)\n",
    "gray = np.array([0.5, 0.5, 0.5])\n",
    "colours = np.repeat(gray.reshape(1,-1), vertices.shape[0], axis=0)\n",
    "\n",
    "for ix, pr in enumerate(prc_range):\n",
    "    map_perc = power_metric >= np.percentile(power_metric, pr)\n",
    "    colours[map_perc] = label_colours[ix]\n",
    "\n",
    "mesh.vertex_colors = o3d.utility.Vector3dVector(colours)\n",
    "shapes = [mesh]\n",
    "custom_draw_geometry(shapes, save=False)"
   ]
  },
  {
   "cell_type": "code",
   "execution_count": null,
   "id": "f28f910f",
   "metadata": {},
   "outputs": [],
   "source": []
  }
 ],
 "metadata": {
  "kernelspec": {
   "display_name": "Python 3 (ipykernel)",
   "language": "python",
   "name": "python3"
  },
  "language_info": {
   "codemirror_mode": {
    "name": "ipython",
    "version": 3
   },
   "file_extension": ".py",
   "mimetype": "text/x-python",
   "name": "python",
   "nbconvert_exporter": "python",
   "pygments_lexer": "ipython3",
   "version": "3.10.13"
  }
 },
 "nbformat": 4,
 "nbformat_minor": 5
}
