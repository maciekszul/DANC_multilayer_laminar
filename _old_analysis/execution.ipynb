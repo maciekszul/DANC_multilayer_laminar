{
 "cells": [
  {
   "cell_type": "code",
   "execution_count": 41,
   "id": "9d8b06bc",
   "metadata": {},
   "outputs": [
    {
     "name": "stdout",
     "output_type": "stream",
     "text": [
      "USING: settings.json\n"
     ]
    },
    {
     "name": "stderr",
     "output_type": "stream",
     "text": [
      "100%|█████████████████████████████████████████| 100/100 [00:02<00:00, 41.39it/s]\n",
      "  0%|                                                 | 0/32166 [00:02<?, ?it/s]\n"
     ]
    },
    {
     "name": "stdout",
     "output_type": "stream",
     "text": [
      "sub-001 | autoreject-sub-001-ses-01-001-motor-epo | finished processing in ~0 minutes.\n"
     ]
    }
   ],
   "source": [
    "%run 02_source_csd_per_vertex.py 0 0"
   ]
  },
  {
   "cell_type": "code",
   "execution_count": 38,
   "id": "738eede5",
   "metadata": {},
   "outputs": [
    {
     "data": {
      "text/plain": [
       "array([[-2.31827116e-19, -1.80674502e-19, -1.32664416e-19, ...,\n",
       "        -4.27896588e-19, -4.62554412e-19, -5.03901651e-19],\n",
       "       [ 1.76868970e-15,  1.42181138e-15,  1.09896870e-15, ...,\n",
       "         2.37430422e-15,  2.53945905e-15,  2.73534581e-15],\n",
       "       [ 3.43788227e-15,  2.76367065e-15,  2.13618343e-15, ...,\n",
       "         4.61324149e-15,  4.93406643e-15,  5.31458502e-15],\n",
       "       ...,\n",
       "       [ 2.60652339e-16,  1.84030742e-16,  1.08421829e-16, ...,\n",
       "         1.42221911e-15,  1.56101837e-15,  1.72780194e-15],\n",
       "       [ 1.34326921e-16,  9.48349207e-17,  5.58640728e-17, ...,\n",
       "         7.33206685e-16,  8.04765069e-16,  8.90750940e-16],\n",
       "       [-1.66135490e-19, -1.27907876e-19, -9.18395937e-20, ...,\n",
       "        -3.54042756e-19, -3.84014072e-19, -4.19838904e-19]])"
      ]
     },
     "execution_count": 38,
     "metadata": {},
     "output_type": "execute_result"
    }
   ],
   "source": [
    "csd_smooth"
   ]
  },
  {
   "cell_type": "code",
   "execution_count": 20,
   "id": "9e8ac70e",
   "metadata": {},
   "outputs": [],
   "source": [
    "mean_fif = np.mean(fif, axis=0)"
   ]
  },
  {
   "cell_type": "code",
   "execution_count": 29,
   "id": "23630f66",
   "metadata": {},
   "outputs": [
    {
     "data": {
      "text/plain": [
       "(11, 2401)"
      ]
     },
     "execution_count": 29,
     "metadata": {},
     "output_type": "execute_result"
    }
   ],
   "source": [
    "np.dot(mean_fif.T, vertex_layers.T).T.shape"
   ]
  },
  {
   "cell_type": "code",
   "execution_count": 30,
   "id": "93036e93",
   "metadata": {},
   "outputs": [
    {
     "data": {
      "text/plain": [
       "array([2.88891506, 2.11799097, 3.45607972, ..., 2.79436994, 2.84666514,\n",
       "       2.44627571])"
      ]
     },
     "execution_count": 30,
     "metadata": {},
     "output_type": "execute_result"
    }
   ],
   "source": [
    "cortical_thickness"
   ]
  },
  {
   "cell_type": "code",
   "execution_count": 40,
   "id": "2c5c0e59",
   "metadata": {},
   "outputs": [
    {
     "data": {
      "text/plain": [
       "[array([[-2.68816663e-19, -2.28938886e-19, -1.91598928e-19, ...,\n",
       "         -1.72272823e-19, -2.44745829e-19, -3.29372774e-19],\n",
       "        [ 1.03284167e-15,  9.45000146e-16,  8.64202875e-16, ...,\n",
       "          3.09403390e-16,  3.50053479e-16,  3.94268532e-16],\n",
       "        [ 2.00993406e-15,  1.83894894e-15,  1.68167485e-15, ...,\n",
       "          6.02596656e-16,  6.81755525e-16,  7.67864868e-16],\n",
       "        ...,\n",
       "        [-5.36725262e-16, -4.93743333e-16, -4.54521028e-16, ...,\n",
       "         -3.13471484e-16, -3.09913467e-16, -3.04323379e-16],\n",
       "        [-2.76841425e-16, -2.54664508e-16, -2.34427022e-16, ...,\n",
       "         -1.61698137e-16, -1.59888916e-16, -1.57036365e-16],\n",
       "        [-1.54800611e-19, -1.28041069e-19, -1.02833375e-19, ...,\n",
       "         -1.11890762e-19, -1.64547207e-19, -2.26546631e-19]]),\n",
       " array([[-2.31827116e-19, -1.80674502e-19, -1.32664416e-19, ...,\n",
       "         -4.27896588e-19, -4.62554412e-19, -5.03901651e-19],\n",
       "        [ 1.76868970e-15,  1.42181138e-15,  1.09896870e-15, ...,\n",
       "          2.37430422e-15,  2.53945905e-15,  2.73534581e-15],\n",
       "        [ 3.43788227e-15,  2.76367065e-15,  2.13618343e-15, ...,\n",
       "          4.61324149e-15,  4.93406643e-15,  5.31458502e-15],\n",
       "        ...,\n",
       "        [ 2.60652339e-16,  1.84030742e-16,  1.08421829e-16, ...,\n",
       "          1.42221911e-15,  1.56101837e-15,  1.72780194e-15],\n",
       "        [ 1.34326921e-16,  9.48349207e-17,  5.58640728e-17, ...,\n",
       "          7.33206685e-16,  8.04765069e-16,  8.90750940e-16],\n",
       "        [-1.66135490e-19, -1.27907876e-19, -9.18395937e-20, ...,\n",
       "         -3.54042756e-19, -3.84014072e-19, -4.19838904e-19]])]"
      ]
     },
     "execution_count": 40,
     "metadata": {},
     "output_type": "execute_result"
    }
   ],
   "source": [
    "CSD_SMOOTH"
   ]
  }
 ],
 "metadata": {
  "kernelspec": {
   "display_name": "Python 3 (ipykernel)",
   "language": "python",
   "name": "python3"
  },
  "language_info": {
   "codemirror_mode": {
    "name": "ipython",
    "version": 3
   },
   "file_extension": ".py",
   "mimetype": "text/x-python",
   "name": "python",
   "nbconvert_exporter": "python",
   "pygments_lexer": "ipython3",
   "version": "3.9.7"
  }
 },
 "nbformat": 4,
 "nbformat_minor": 5
}
