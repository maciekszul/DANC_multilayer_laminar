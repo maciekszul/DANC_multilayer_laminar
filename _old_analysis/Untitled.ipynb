{
 "cells": [
  {
   "cell_type": "code",
   "execution_count": null,
   "id": "aee7822c",
   "metadata": {
    "slideshow": {
     "slide_type": ""
    },
    "tags": []
   },
   "outputs": [],
   "source": [
    "# %run /home/mszul/git/DANC_multilayer_laminar/01_source_power_per_vertex.py 0 0 /home/mszul/git/DANC_multilayer_laminar/settings.json"
   ]
  },
  {
   "cell_type": "code",
   "execution_count": 2,
   "id": "3b1900e8-9b87-40af-bd94-398577dba6c7",
   "metadata": {},
   "outputs": [],
   "source": [
    "import fooofinator3\n",
    "from mne import read_epochs\n",
    "from mne.time_frequency import psd_array_welch\n",
    "from mne.filter import filter_data\n",
    "import numpy as np\n",
    "import matplotlib.pylab as plt"
   ]
  },
  {
   "cell_type": "code",
   "execution_count": 4,
   "id": "bfd3e614",
   "metadata": {},
   "outputs": [],
   "source": [
    "epochs = read_epochs(\"/home/common/bonaiuto/multiburst/derivatives/processed/sub-001/ses-01/autoreject-sub-001-ses-01-003-visual-epo.fif\", verbose=False)\n",
    "sfreq = epochs.info[\"sfreq\"]\n",
    "epochs = epochs.pick_types(meg=True, ref_meg=False, misc=False)\n",
    "epochs = epochs.get_data()\n",
    "winsize = int(sfreq)\n",
    "overlap = int(winsize/2)\n",
    "psds, freqs = psd_array_welch(\n",
    "    epochs, sfreq, fmin=0.1, fmax=120, n_fft=2000, \n",
    "    n_overlap=overlap, n_per_seg=winsize, window=\"hann\", \n",
    "    verbose=False\n",
    ")\n",
    "psds = np.mean(psds, axis=0)"
   ]
  },
  {
   "cell_type": "code",
   "execution_count": 37,
   "id": "0e325a3a",
   "metadata": {},
   "outputs": [],
   "source": [
    "ff = fooofinator3.FOOOFinator()\n",
    "ff.fit(freqs, psds[33], [0.1, 125], n_jobs=-1)"
   ]
  },
  {
   "cell_type": "code",
   "execution_count": 38,
   "id": "c4408da9",
   "metadata": {},
   "outputs": [
    {
     "data": {
      "text/plain": [
       "[<matplotlib.lines.Line2D at 0x7f89dcde3e20>]"
      ]
     },
     "execution_count": 38,
     "metadata": {},
     "output_type": "execute_result"
    },
    {
     "data": {
      "image/png": "[encoded data removed]",
      "text/plain": [
       "<Figure size 720x360 with 1 Axes>"
      ]
     },
     "metadata": {
      "needs_background": "light"
     },
     "output_type": "display_data"
    }
   ],
   "source": [
    "f, ax = plt.subplots(1, figsize=(10, 5))\n",
    "ax.plot(ff.freqs, np.log10(psds[33]))\n",
    "ax.plot(ff.freqs, ff._ap_fit)"
   ]
  },
  {
   "cell_type": "code",
   "execution_count": 27,
   "id": "888ffb40",
   "metadata": {},
   "outputs": [],
   "source": [
    "np.save(\"psd_meg.npy\", psds[3])"
   ]
  },
  {
   "cell_type": "code",
   "execution_count": 30,
   "id": "4521ab62",
   "metadata": {},
   "outputs": [
    {
     "data": {
      "text/plain": [
       "array([  0.3,   0.6,   0.9,   1.2,   1.5,   1.8,   2.1,   2.4,   2.7,\n",
       "         3. ,   3.3,   3.6,   3.9,   4.2,   4.5,   4.8,   5.1,   5.4,\n",
       "         5.7,   6. ,   6.3,   6.6,   6.9,   7.2,   7.5,   7.8,   8.1,\n",
       "         8.4,   8.7,   9. ,   9.3,   9.6,   9.9,  10.2,  10.5,  10.8,\n",
       "        11.1,  11.4,  11.7,  12. ,  12.3,  12.6,  12.9,  13.2,  13.5,\n",
       "        13.8,  14.1,  14.4,  14.7,  15. ,  15.3,  15.6,  15.9,  16.2,\n",
       "        16.5,  16.8,  17.1,  17.4,  17.7,  18. ,  18.3,  18.6,  18.9,\n",
       "        19.2,  19.5,  19.8,  20.1,  20.4,  20.7,  21. ,  21.3,  21.6,\n",
       "        21.9,  22.2,  22.5,  22.8,  23.1,  23.4,  23.7,  24. ,  24.3,\n",
       "        24.6,  24.9,  25.2,  25.5,  25.8,  26.1,  26.4,  26.7,  27. ,\n",
       "        27.3,  27.6,  27.9,  28.2,  28.5,  28.8,  29.1,  29.4,  29.7,\n",
       "        30. ,  30.3,  30.6,  30.9,  31.2,  31.5,  31.8,  32.1,  32.4,\n",
       "        32.7,  33. ,  33.3,  33.6,  33.9,  34.2,  34.5,  34.8,  35.1,\n",
       "        35.4,  35.7,  36. ,  36.3,  36.6,  36.9,  37.2,  37.5,  37.8,\n",
       "        38.1,  38.4,  38.7,  39. ,  39.3,  39.6,  39.9,  40.2,  40.5,\n",
       "        40.8,  41.1,  41.4,  41.7,  42. ,  42.3,  42.6,  42.9,  43.2,\n",
       "        43.5,  43.8,  44.1,  44.4,  44.7,  45. ,  45.3,  45.6,  45.9,\n",
       "        46.2,  46.5,  46.8,  47.1,  47.4,  47.7,  48. ,  48.3,  48.6,\n",
       "        48.9,  49.2,  49.5,  49.8,  50.1,  50.4,  50.7,  51. ,  51.3,\n",
       "        51.6,  51.9,  52.2,  52.5,  52.8,  53.1,  53.4,  53.7,  54. ,\n",
       "        54.3,  54.6,  54.9,  55.2,  55.5,  55.8,  56.1,  56.4,  56.7,\n",
       "        57. ,  57.3,  57.6,  57.9,  58.2,  58.5,  58.8,  59.1,  59.4,\n",
       "        59.7,  60. ,  60.3,  60.6,  60.9,  61.2,  61.5,  61.8,  62.1,\n",
       "        62.4,  62.7,  63. ,  63.3,  63.6,  63.9,  64.2,  64.5,  64.8,\n",
       "        65.1,  65.4,  65.7,  66. ,  66.3,  66.6,  66.9,  67.2,  67.5,\n",
       "        67.8,  68.1,  68.4,  68.7,  69. ,  69.3,  69.6,  69.9,  70.2,\n",
       "        70.5,  70.8,  71.1,  71.4,  71.7,  72. ,  72.3,  72.6,  72.9,\n",
       "        73.2,  73.5,  73.8,  74.1,  74.4,  74.7,  75. ,  75.3,  75.6,\n",
       "        75.9,  76.2,  76.5,  76.8,  77.1,  77.4,  77.7,  78. ,  78.3,\n",
       "        78.6,  78.9,  79.2,  79.5,  79.8,  80.1,  80.4,  80.7,  81. ,\n",
       "        81.3,  81.6,  81.9,  82.2,  82.5,  82.8,  83.1,  83.4,  83.7,\n",
       "        84. ,  84.3,  84.6,  84.9,  85.2,  85.5,  85.8,  86.1,  86.4,\n",
       "        86.7,  87. ,  87.3,  87.6,  87.9,  88.2,  88.5,  88.8,  89.1,\n",
       "        89.4,  89.7,  90. ,  90.3,  90.6,  90.9,  91.2,  91.5,  91.8,\n",
       "        92.1,  92.4,  92.7,  93. ,  93.3,  93.6,  93.9,  94.2,  94.5,\n",
       "        94.8,  95.1,  95.4,  95.7,  96. ,  96.3,  96.6,  96.9,  97.2,\n",
       "        97.5,  97.8,  98.1,  98.4,  98.7,  99. ,  99.3,  99.6,  99.9,\n",
       "       100.2, 100.5, 100.8, 101.1, 101.4, 101.7, 102. , 102.3, 102.6,\n",
       "       102.9, 103.2, 103.5, 103.8, 104.1, 104.4, 104.7, 105. , 105.3,\n",
       "       105.6, 105.9, 106.2, 106.5, 106.8, 107.1, 107.4, 107.7, 108. ,\n",
       "       108.3, 108.6, 108.9, 109.2, 109.5, 109.8, 110.1, 110.4, 110.7,\n",
       "       111. , 111.3, 111.6, 111.9, 112.2, 112.5, 112.8, 113.1, 113.4,\n",
       "       113.7, 114. , 114.3, 114.6, 114.9, 115.2, 115.5, 115.8, 116.1,\n",
       "       116.4, 116.7, 117. , 117.3, 117.6, 117.9, 118.2, 118.5, 118.8,\n",
       "       119.1, 119.4, 119.7, 120. ])"
      ]
     },
     "execution_count": 30,
     "metadata": {},
     "output_type": "execute_result"
    }
   ],
   "source": [
    "freqs"
   ]
  },
  {
   "cell_type": "code",
   "execution_count": null,
   "id": "cf1bd474",
   "metadata": {},
   "outputs": [],
   "source": []
  }
 ],
 "metadata": {
  "kernelspec": {
   "display_name": "Python 3 (ipykernel)",
   "language": "python",
   "name": "python3"
  },
  "language_info": {
   "codemirror_mode": {
    "name": "ipython",
    "version": 3
   },
   "file_extension": ".py",
   "mimetype": "text/x-python",
   "name": "python",
   "nbconvert_exporter": "python",
   "pygments_lexer": "ipython3",
   "version": "3.9.7"
  }
 },
 "nbformat": 4,
 "nbformat_minor": 5
}
