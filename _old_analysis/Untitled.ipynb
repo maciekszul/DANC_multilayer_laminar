{
 "cells": [
  {
   "cell_type": "code",
   "execution_count": 2,
   "id": "aee7822c",
   "metadata": {
    "editable": true,
    "slideshow": {
     "slide_type": ""
    },
    "tags": []
   },
   "outputs": [
    {
     "name": "stdout",
     "output_type": "stream",
     "text": [
      "USING: settings.json\n"
     ]
    },
    {
     "name": "stderr",
     "output_type": "stream",
     "text": [
      "100%|███████████████████████████████████████████| 11/11 [01:00<00:00,  5.54s/it]"
     ]
    },
    {
     "name": "stdout",
     "output_type": "stream",
     "text": [
      "sub-001 | autoreject-sub-001-ses-01-001-motor-epo | finished processing in ~1 minutes.\n"
     ]
    },
    {
     "name": "stderr",
     "output_type": "stream",
     "text": [
      "\n"
     ]
    }
   ],
   "source": [
    "%run 01_source_power.py 0 0"
   ]
  },
  {
   "cell_type": "code",
   "execution_count": 3,
   "id": "884f0ef5-0d50-47b1-8005-c32d90f216e1",
   "metadata": {
    "editable": true,
    "slideshow": {
     "slide_type": ""
    },
    "tags": []
   },
   "outputs": [
    {
     "data": {
      "text/plain": [
       "{'dataset_dir': '/home/common/bonaiuto/multiburst/derivatives/processed',\n",
       " 'which_dataset': 'multilayer_11',\n",
       " 'anatomy_dir': '/home/common/bonaiuto/cued_action_meg/derivatives/processed',\n",
       " 'annot_paths': ['/home/mszul/git/DANC_multilayer_laminar/assets/lh.HCPMMP1.annot',\n",
       "  '/home/mszul/git/DANC_multilayer_laminar/assets/rh.HCPMMP1.annot'],\n",
       " 'fsavg_sphere_paths': ['/home/mszul/git/DANC_multilayer_laminar/assets/lh.sphere.reg.gii',\n",
       "  '/home/mszul/git/DANC_multilayer_laminar/assets/rh.sphere.reg.gii'],\n",
       " 'atlas': '/home/mszul/git/DANC_multilayer_laminar/assets/atlas_glasser_2016.csv',\n",
       " 'subject_info': '/home/common/bonaiuto/multiburst/participants.tsv',\n",
       " 'freesurfer_singularity': '/scratch/freesurfer_lic.sif',\n",
       " 'big_brain_path': '/home/mszul/git/DANC_multilayer_laminar/assets/big_brain_layer_thickness',\n",
       " 'fsnat_sphere_paths': ['/home/common/bonaiuto/cued_action_meg/derivatives/processed/sub-001/fs/surf/lh.sphere.reg.gii',\n",
       "  '/home/common/bonaiuto/cued_action_meg/derivatives/processed/sub-001/fs/surf/rh.sphere.reg.gii'],\n",
       " 'subject_path': '/home/common/bonaiuto/multiburst/derivatives/processed/sub-001/multilayer_11',\n",
       " 'pial': '/home/common/bonaiuto/cued_action_meg/derivatives/processed/sub-001/fs/surf/pial.gii',\n",
       " 'white': '/home/common/bonaiuto/cued_action_meg/derivatives/processed/sub-001/fs/surf/white.gii',\n",
       " 'pial_ds': '/home/common/bonaiuto/multiburst/derivatives/processed/sub-001/multilayer_11/pial.ds.gii',\n",
       " 'white_ds': '/home/common/bonaiuto/multiburst/derivatives/processed/sub-001/multilayer_11/white.ds.gii',\n",
       " 'pial_ds_nodeep': '/home/common/bonaiuto/multiburst/derivatives/processed/sub-001/multilayer_11/pial.ds.link_vector.nodeep.gii',\n",
       " 'white_ds_nodeep': '/home/common/bonaiuto/multiburst/derivatives/processed/sub-001/multilayer_11/white.ds.link_vector.nodeep.gii',\n",
       " 'pial_ds_nodeep_inflated': '/home/common/bonaiuto/multiburst/derivatives/processed/sub-001/multilayer_11/pial.ds.inflated.nodeep.gii',\n",
       " 'multilayer': '/home/common/bonaiuto/multiburst/derivatives/processed/sub-001/multilayer_11/multilayer_11.ds.link_vector.nodeep.gii',\n",
       " 'n_surf': 11,\n",
       " 'atlas_labels_path': '/home/common/bonaiuto/multiburst/derivatives/processed/sub-001/multilayer_11/atlas_glasser2016_labels.npy',\n",
       " 'atlas_colors_path': '/home/common/bonaiuto/multiburst/derivatives/processed/sub-001/multilayer_11/atlas_glasser2016_colors.npy',\n",
       " 'cortical_thickness_path': '/home/common/bonaiuto/multiburst/derivatives/processed/sub-001/multilayer_11/cortical_thickness.npy',\n",
       " 'big_brain_layers_path': '/home/common/bonaiuto/multiburst/derivatives/processed/sub-001/multilayer_11/big_brain_layers.json',\n",
       " 'sensor_epochs_paths': ['/home/common/bonaiuto/multiburst/derivatives/processed/sub-001/ses-01/autoreject-sub-001-ses-01-001-motor-epo.fif',\n",
       "  '/home/common/bonaiuto/multiburst/derivatives/processed/sub-001/ses-01/autoreject-sub-001-ses-01-001-visual-epo.fif',\n",
       "  '/home/common/bonaiuto/multiburst/derivatives/processed/sub-001/ses-01/autoreject-sub-001-ses-01-002-motor-epo.fif',\n",
       "  '/home/common/bonaiuto/multiburst/derivatives/processed/sub-001/ses-01/autoreject-sub-001-ses-01-002-visual-epo.fif',\n",
       "  '/home/common/bonaiuto/multiburst/derivatives/processed/sub-001/ses-01/autoreject-sub-001-ses-01-003-motor-epo.fif',\n",
       "  '/home/common/bonaiuto/multiburst/derivatives/processed/sub-001/ses-01/autoreject-sub-001-ses-01-003-visual-epo.fif'],\n",
       " 'MU_paths': ['/home/common/bonaiuto/multiburst/derivatives/processed/sub-001/multilayer_11/inverted/MU_spm-converted_no_filter_autoreject-sub-001-ses-01-001-motor-epo.tsv',\n",
       "  '/home/common/bonaiuto/multiburst/derivatives/processed/sub-001/multilayer_11/inverted/MU_spm-converted_no_filter_autoreject-sub-001-ses-01-001-visual-epo.tsv',\n",
       "  '/home/common/bonaiuto/multiburst/derivatives/processed/sub-001/multilayer_11/inverted/MU_spm-converted_no_filter_autoreject-sub-001-ses-01-002-motor-epo.tsv',\n",
       "  '/home/common/bonaiuto/multiburst/derivatives/processed/sub-001/multilayer_11/inverted/MU_spm-converted_no_filter_autoreject-sub-001-ses-01-002-visual-epo.tsv',\n",
       "  '/home/common/bonaiuto/multiburst/derivatives/processed/sub-001/multilayer_11/inverted/MU_spm-converted_no_filter_autoreject-sub-001-ses-01-003-motor-epo.tsv',\n",
       "  '/home/common/bonaiuto/multiburst/derivatives/processed/sub-001/multilayer_11/inverted/MU_spm-converted_no_filter_autoreject-sub-001-ses-01-003-visual-epo.tsv']}"
      ]
     },
     "execution_count": 3,
     "metadata": {},
     "output_type": "execute_result"
    }
   ],
   "source": [
    "info"
   ]
  }
 ],
 "metadata": {
  "kernelspec": {
   "display_name": "Python 3 (ipykernel)",
   "language": "python",
   "name": "python3"
  },
  "language_info": {
   "codemirror_mode": {
    "name": "ipython",
    "version": 3
   },
   "file_extension": ".py",
   "mimetype": "text/x-python",
   "name": "python",
   "nbconvert_exporter": "python",
   "pygments_lexer": "ipython3",
   "version": "3.9.7"
  }
 },
 "nbformat": 4,
 "nbformat_minor": 5
}
