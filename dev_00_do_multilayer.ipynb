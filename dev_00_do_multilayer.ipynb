{
 "cells": [
  {
   "cell_type": "code",
   "execution_count": 3,
   "id": "1b40b4d8",
   "metadata": {},
   "outputs": [],
   "source": [
    "from pathlib import Path\n",
    "from utilities import files\n",
    "import os.path as op\n",
    "import numpy as np\n",
    "from os import sep, remove\n",
    "import itertools as it\n",
    "import json\n",
    "from mne import read_epochs\n",
    "import matlab.engine\n",
    "import shutil"
   ]
  },
  {
   "cell_type": "code",
   "execution_count": 17,
   "id": "ff66a33e",
   "metadata": {},
   "outputs": [],
   "source": [
    "def many_is_in(multiple, target):\n",
    "    check_ = []\n",
    "    for i in multiple:\n",
    "        check_.append(i in target)\n",
    "    return any(check_)\n",
    "\n",
    "def all_is_in(multiple, target):\n",
    "    check_ = []\n",
    "    for i in multiple:\n",
    "        check_.append(i in target)\n",
    "    return all(check_)\n",
    "\n",
    "def cat(options, target):\n",
    "    for i in options:\n",
    "        if i in target:\n",
    "            return i\n",
    "\n",
    "def get_res4(ds_path, sub, ses, run):\n",
    "    ref_path = op.join(ds_path, \"raw\", sub, ses, \"meg\")\n",
    "    blocks = files.get_folders_files(ref_path)[0]\n",
    "    block = [i for i in blocks if \"block-{}\".format(run[1:]) in i][0]\n",
    "    res4_path = files.get_files(block, \"\", \".res4\")[2][0]\n",
    "    return res4_path"
   ]
  },
  {
   "cell_type": "code",
   "execution_count": 38,
   "id": "e4d3e22a",
   "metadata": {},
   "outputs": [],
   "source": [
    "dataset_path = \"/home/common/bonaiuto/multiburst/derivatives/processed\"\n",
    "subjects_info = \"/home/common/bonaiuto/multiburst/participants.tsv\"\n",
    "subject_paths = files.get_folders_files(dataset_path)[0]\n",
    "singularity_path = \"/scratch/freesurfer_lic.sif\"\n",
    "og_dataset = \"/home/common/bonaiuto/cued_action_meg/\""
   ]
  },
  {
   "cell_type": "code",
   "execution_count": 6,
   "id": "e2d2d1db",
   "metadata": {},
   "outputs": [
    {
     "name": "stdout",
     "output_type": "stream",
     "text": [
      "/home/common/bonaiuto/multiburst/derivatives/processed/sub-001 sub-001\n"
     ]
    }
   ],
   "source": [
    "n_layers = 11\n",
    "layers_name = \"multilayer_{}\".format(str(n_layers).zfill(2))\n",
    "subject_path = subject_paths[0]\n",
    "subject = subject_path.split(sep)[-1]\n",
    "print(subject_path, subject)\n",
    "output_folder = op.join(subject_path, layers_name)\n",
    "files.make_folder(output_folder)"
   ]
  },
  {
   "cell_type": "code",
   "execution_count": 7,
   "id": "7b0c6a7f",
   "metadata": {},
   "outputs": [],
   "source": [
    "exclude=[\n",
    "    \"sub-002-ses-01\",\n",
    "    \"sub-002-ses-02\",\n",
    "    \"sub-006-ses-01\",\n",
    "    \"sub-006-ses-02\",\n",
    "    \"sub-008-ses-01\"\n",
    "]"
   ]
  },
  {
   "cell_type": "code",
   "execution_count": 8,
   "id": "4e228196",
   "metadata": {},
   "outputs": [],
   "source": [
    "fs_ds_path = \"/home/common/bonaiuto/cued_action_meg/derivatives/processed/\"\n",
    "fs_path = op.join(fs_ds_path, subject, \"fs\")"
   ]
  },
  {
   "cell_type": "code",
   "execution_count": 20,
   "id": "650dba91",
   "metadata": {},
   "outputs": [],
   "source": [
    "parasite = matlab.engine.start_matlab()"
   ]
  },
  {
   "cell_type": "code",
   "execution_count": null,
   "id": "bfe54b92",
   "metadata": {
    "scrolled": false
   },
   "outputs": [],
   "source": [
    "# create multilayer\n",
    "parasite.create_multilayer_surface(\n",
    "    fs_path, n_layers, output_folder, \n",
    "    layers_name, singularity_path, \"/home/common/bonaiuto/\",\n",
    "    nargout=0\n",
    ")\n"
   ]
  },
  {
   "cell_type": "code",
   "execution_count": null,
   "id": "9b43b71d",
   "metadata": {},
   "outputs": [],
   "source": [
    "# prepare surfaces\n",
    "parasite.prepare_surfaces(\n",
    "    fs_path, output_folder,\n",
    "    nargout=0\n",
    ")"
   ]
  },
  {
   "cell_type": "code",
   "execution_count": 49,
   "id": "e8d0466b",
   "metadata": {},
   "outputs": [],
   "source": [
    "# prepare multilayer\n",
    "# works in MATLAB\n",
    "parasite.prepare_multilayer_surface(\n",
    "    fs_path, output_folder, float(n_layers), layers_name,\n",
    "    nargout=0\n",
    ")"
   ]
  },
  {
   "cell_type": "code",
   "execution_count": null,
   "id": "357f7b22",
   "metadata": {
    "scrolled": true
   },
   "outputs": [],
   "source": [
    "# intermediate steps moving\n",
    "intm_path = op.join(output_folder, \"inter\")\n",
    "files.make_folder(intm_path)\n",
    "files_paths = files.get_files(output_folder, \"\", \"\")[2]\n",
    "lyrs = np.arange(n_layers)[1:-1]\n",
    "lyrs = [str(i)for i in lyrs]\n",
    "files_input = [i for i in files_paths if many_is_in(lyrs, i.split(sep)[-1])]\n",
    "files_input = [i for i in files_input if layers_name not in i]\n",
    "files_output = [op.join(intm_path, i.split(sep)[-1]) for i in files_paths if many_is_in(lyrs, i.split(sep)[-1])]\n",
    "files_io = list(zip(files_input, files_output))\n",
    "[shutil.move(*i) for i in files_io];"
   ]
  },
  {
   "cell_type": "code",
   "execution_count": 18,
   "id": "07666fb4",
   "metadata": {},
   "outputs": [],
   "source": [
    "session_path = op.join(subject_path, \"ses-01\")\n",
    "session_files = files.get_files(session_path, \"autoreject\", \".fif\")[2]"
   ]
  },
  {
   "cell_type": "code",
   "execution_count": 33,
   "id": "b14db6d0",
   "metadata": {},
   "outputs": [],
   "source": [
    "def average_filter_convert(file_path, ds_path, parasite, filt=False, l_freq=None, h_freq=None):\n",
    "    path_split = file_path.split(sep)\n",
    "    filename_core = path_split[-1].split(\".\")[0]\n",
    "    sub = filename_core[11:18]\n",
    "    ses = filename_core[19:25]\n",
    "    run = filename_core[26:29]\n",
    "    res4_path = get_res4(ds_path, sub, ses, run)\n",
    "    dir_path = str(sep).join(path_split[:-1] + [\"avg_spm\", \"\"])\n",
    "    files.make_folder(dir_path)\n",
    "    \n",
    "    filt_status = \"_no_filter\"\n",
    "    if filt:\n",
    "        filt_status = \"_filt\"\n",
    "    \n",
    "    output_file = \"spm-converted{}_{}\".format(filt_status, filename_core)\n",
    "    output_path = op.join(dir_path, output_file)\n",
    "    average_file = output_path + \"-ave.fif\"\n",
    "    mat_output = output_path + \".mat\"\n",
    "    if not op.exists(mat_output):\n",
    "        if not op.exists(average_file):\n",
    "            epochs = read_epochs(file_path, verbose=False)\n",
    "            epochs = epochs.average()\n",
    "            if filt:\n",
    "                epochs.filter(l_freq=l_freq, h_freq=h_freq)\n",
    "            epochs.save(average_file)\n",
    "\n",
    "        parasite.convert_mne_to_spm(res4_path, average_file, mat_output, 0, nargout=0)\n",
    "        if op.isfile(average_file):\n",
    "            remove(average_file)\n",
    "        else:\n",
    "            print(average_file, \"does not exists\")\n",
    "        print(filename_core, \"converted\")\n",
    "\n",
    "    else:\n",
    "        print(mat_output, \"exists\")\n",
    "        \n",
    "    return mat_output"
   ]
  },
  {
   "cell_type": "code",
   "execution_count": 34,
   "id": "9d6e6659",
   "metadata": {},
   "outputs": [
    {
     "name": "stdout",
     "output_type": "stream",
     "text": [
      "/home/common/bonaiuto/multiburst/derivatives/processed/sub-001/ses-01/avg_spm/spm-converted_no_filter_autoreject-sub-001-ses-01-001-motor-epo.mat exists\n",
      "/home/common/bonaiuto/multiburst/derivatives/processed/sub-001/ses-01/avg_spm/spm-converted_no_filter_autoreject-sub-001-ses-01-001-visual-epo.mat exists\n",
      "/home/common/bonaiuto/multiburst/derivatives/processed/sub-001/ses-01/avg_spm/spm-converted_no_filter_autoreject-sub-001-ses-01-002-motor-epo.mat exists\n",
      "/home/common/bonaiuto/multiburst/derivatives/processed/sub-001/ses-01/avg_spm/spm-converted_no_filter_autoreject-sub-001-ses-01-002-visual-epo.mat exists\n",
      "/home/common/bonaiuto/multiburst/derivatives/processed/sub-001/ses-01/avg_spm/spm-converted_no_filter_autoreject-sub-001-ses-01-003-motor-epo.mat exists\n",
      "/home/common/bonaiuto/multiburst/derivatives/processed/sub-001/ses-01/avg_spm/spm-converted_no_filter_autoreject-sub-001-ses-01-003-visual-epo.mat exists\n"
     ]
    }
   ],
   "source": [
    "mat_files = [average_filter_convert(i, og_dataset, parasite) for i in session_files];"
   ]
  },
  {
   "cell_type": "code",
   "execution_count": 36,
   "id": "68930348",
   "metadata": {},
   "outputs": [],
   "source": [
    "inverted_output = op.join(output_folder, \"inverted\")\n",
    "subjects_info\n",
    "\n",
    "mu_file = op.join(inverted_output, )\n",
    "it_file = op.join(inverted_output, )\n",
    "res_file = op.join(inverted_output, )"
   ]
  },
  {
   "cell_type": "code",
   "execution_count": null,
   "id": "441c4d64",
   "metadata": {},
   "outputs": [],
   "source": [
    "def invert_multisurface(inverted_output, t1_file, mat_file, subjects_info, parasite, layers=n_layers):\n",
    "    files.make_folder(inverted_output)\n",
    "    input_path = Path(mat_file)\n",
    "    bits = input_path.name.split(\"_\")[-1].split(\"-\")\n",
    "    sub = \"-\".join([bits[1], bits[2]])\n",
    "    epo = bits[6]\n",
    "    ses = \"-\".join([bits[3], bits[4]])\n",
    "    run = bits[5]\n",
    "    link_vector = files.get_files(\n",
    "        op.join(Path(inverted_output).parent), \n",
    "        \"multilayer\", \".ds.link_vector.nodeep.gii\"\n",
    "    )[2][0]\n",
    "    mu_file = op.join(inverted_output, \"MU_\" + input_path.stem + \".tsv\")\n",
    "    it_file = op.join(inverted_output, \"IT_\" + input_path.stem + \".tsv\")\n",
    "    res_file = op.join(inverted_output, \"res_\" + input_path.stem + \".tsv\")\n",
    "    json_out_file = op.join(inverted_output, \"invert-res_\" + input_path.stem + \".json\")\n",
    "#     print(inverted_output, subjects_info, mat_file, t1_file, link_vector, mu_file, it_file, res_file, json_out_file, layers, sub, ses, run, epo)\n",
    "    parasite.invert_multisurface(\n",
    "        inverted_output, subjects_info, mat_file, t1_file, \n",
    "        link_vector, mu_file, it_file, res_file, \n",
    "        json_out_file, float(layers), sub, ses, run, epo\n",
    "    )\n",
    "    \n",
    "t1_file = \"{}/raw/{}/mri/headcast/t1w.nii\".format(og_dataset, subject)\n",
    "invert_multisurface(inverted_output, t1_file, mat_files[0], subjects_info, parasite)"
   ]
  },
  {
   "cell_type": "code",
   "execution_count": 67,
   "id": "7513f426",
   "metadata": {},
   "outputs": [
    {
     "data": {
      "text/plain": [
       "True"
      ]
     },
     "execution_count": 67,
     "metadata": {},
     "output_type": "execute_result"
    }
   ],
   "source": []
  },
  {
   "cell_type": "code",
   "execution_count": 60,
   "id": "797a1b31",
   "metadata": {},
   "outputs": [],
   "source": []
  },
  {
   "cell_type": "code",
   "execution_count": 61,
   "id": "ae481f29",
   "metadata": {},
   "outputs": [
    {
     "data": {
      "text/plain": [
       "'/home/common/bonaiuto/multiburst/derivatives/processed/sub-001/multilayer_11/multilayer_11.ds.link_vector.nodeep.gii'"
      ]
     },
     "execution_count": 61,
     "metadata": {},
     "output_type": "execute_result"
    }
   ],
   "source": [
    "ml_vector"
   ]
  },
  {
   "cell_type": "code",
   "execution_count": null,
   "id": "6998ce2b",
   "metadata": {},
   "outputs": [],
   "source": []
  }
 ],
 "metadata": {
  "kernelspec": {
   "display_name": "Python 3",
   "language": "python",
   "name": "python3"
  },
  "language_info": {
   "codemirror_mode": {
    "name": "ipython",
    "version": 3
   },
   "file_extension": ".py",
   "mimetype": "text/x-python",
   "name": "python",
   "nbconvert_exporter": "python",
   "pygments_lexer": "ipython3",
   "version": "3.6.13"
  }
 },
 "nbformat": 4,
 "nbformat_minor": 5
}
